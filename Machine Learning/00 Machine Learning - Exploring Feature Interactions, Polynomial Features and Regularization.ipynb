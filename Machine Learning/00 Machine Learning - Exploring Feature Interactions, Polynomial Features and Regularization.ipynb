{
 "cells": [
  {
   "cell_type": "markdown",
   "id": "b525594c-c76b-4ce1-9a60-401d32284bde",
   "metadata": {},
   "source": [
    "#### Author: Ernie Sumoso\n"
   ]
  },
  {
   "cell_type": "code",
   "execution_count": 1,
   "id": "2d1f4707-6a78-4291-8385-92ea590fe88c",
   "metadata": {
    "tags": []
   },
   "outputs": [],
   "source": [
    "import pandas as pd\n",
    "import numpy as np\n",
    "from sklearn.linear_model import LinearRegression, Ridge, Lasso\n",
    "from sklearn.preprocessing import PolynomialFeatures\n",
    "from sklearn.datasets import fetch_california_housing\n",
    "from sklearn.metrics import r2_score, mean_squared_error\n",
    "from sklearn.model_selection import train_test_split\n",
    "import math"
   ]
  },
  {
   "cell_type": "code",
   "execution_count": 2,
   "id": "af6ed613-a8ad-4e90-ba03-c13f3766fda0",
   "metadata": {
    "tags": []
   },
   "outputs": [
    {
     "name": "stdout",
     "output_type": "stream",
     "text": [
      "<class 'sklearn.utils._bunch.Bunch'>\n",
      "[4.526 3.585 3.521 ... 0.923 0.847 0.894]\n"
     ]
    }
   ],
   "source": [
    "housing = fetch_california_housing()\n",
    "print(type(housing))\n",
    "print(housing.target)"
   ]
  },
  {
   "cell_type": "code",
   "execution_count": 3,
   "id": "51598e7d-b657-4951-acef-125af52bce63",
   "metadata": {
    "tags": []
   },
   "outputs": [],
   "source": [
    "data = housing.data[:, 0:2]\n",
    "target = housing.target"
   ]
  },
  {
   "cell_type": "code",
   "execution_count": 4,
   "id": "a1db0aa6-286f-4de9-9446-d2e2f18389eb",
   "metadata": {
    "tags": []
   },
   "outputs": [
    {
     "name": "stdout",
     "output_type": "stream",
     "text": [
      "(20640, 3)\n"
     ]
    },
    {
     "data": {
      "text/html": [
       "<div>\n",
       "<style scoped>\n",
       "    .dataframe tbody tr th:only-of-type {\n",
       "        vertical-align: middle;\n",
       "    }\n",
       "\n",
       "    .dataframe tbody tr th {\n",
       "        vertical-align: top;\n",
       "    }\n",
       "\n",
       "    .dataframe thead th {\n",
       "        text-align: right;\n",
       "    }\n",
       "</style>\n",
       "<table border=\"1\" class=\"dataframe\">\n",
       "  <thead>\n",
       "    <tr style=\"text-align: right;\">\n",
       "      <th></th>\n",
       "      <th>Feature0</th>\n",
       "      <th>Feature1</th>\n",
       "      <th>target</th>\n",
       "    </tr>\n",
       "  </thead>\n",
       "  <tbody>\n",
       "    <tr>\n",
       "      <th>0</th>\n",
       "      <td>8.3252</td>\n",
       "      <td>41.0</td>\n",
       "      <td>4.526</td>\n",
       "    </tr>\n",
       "    <tr>\n",
       "      <th>1</th>\n",
       "      <td>8.3014</td>\n",
       "      <td>21.0</td>\n",
       "      <td>3.585</td>\n",
       "    </tr>\n",
       "    <tr>\n",
       "      <th>2</th>\n",
       "      <td>7.2574</td>\n",
       "      <td>52.0</td>\n",
       "      <td>3.521</td>\n",
       "    </tr>\n",
       "    <tr>\n",
       "      <th>3</th>\n",
       "      <td>5.6431</td>\n",
       "      <td>52.0</td>\n",
       "      <td>3.413</td>\n",
       "    </tr>\n",
       "    <tr>\n",
       "      <th>4</th>\n",
       "      <td>3.8462</td>\n",
       "      <td>52.0</td>\n",
       "      <td>3.422</td>\n",
       "    </tr>\n",
       "  </tbody>\n",
       "</table>\n",
       "</div>"
      ],
      "text/plain": [
       "   Feature0  Feature1  target\n",
       "0    8.3252      41.0   4.526\n",
       "1    8.3014      21.0   3.585\n",
       "2    7.2574      52.0   3.521\n",
       "3    5.6431      52.0   3.413\n",
       "4    3.8462      52.0   3.422"
      ]
     },
     "execution_count": 4,
     "metadata": {},
     "output_type": "execute_result"
    }
   ],
   "source": [
    "df = pd.DataFrame(data, columns=['Feature0', 'Feature1'])\n",
    "df['target'] = target\n",
    "print(df.shape)\n",
    "df.head()"
   ]
  },
  {
   "cell_type": "code",
   "execution_count": 5,
   "id": "7639897d-bcad-402a-b2a1-1efe6b16e624",
   "metadata": {
    "tags": []
   },
   "outputs": [
    {
     "name": "stdout",
     "output_type": "stream",
     "text": [
      "# Missing Values\n",
      "Feature0    0\n",
      "Feature1    0\n",
      "target      0\n",
      "dtype: int64\n",
      "\n",
      "% Missing Values\n",
      "Feature0    0.0\n",
      "Feature1    0.0\n",
      "target      0.0\n",
      "dtype: float64\n"
     ]
    }
   ],
   "source": [
    "def check_missing_values(df):\n",
    "    # check for number of missing values per column\n",
    "    print(\"# Missing Values\")\n",
    "    print(df.isna().sum())\n",
    "    \n",
    "    # check for % of missing values\n",
    "    print(\"\\n% Missing Values\")\n",
    "    print(df.isna().mean() * 100)\n",
    "    \n",
    "check_missing_values(df)"
   ]
  },
  {
   "cell_type": "code",
   "execution_count": 6,
   "id": "f0835c83-0d49-4fd3-a7cd-a10b49c9c65f",
   "metadata": {
    "tags": []
   },
   "outputs": [
    {
     "name": "stdout",
     "output_type": "stream",
     "text": [
      "# Duplicated Values\n",
      "32\n",
      "\n",
      "% Duplicated Values\n",
      "0.15503875968992248\n"
     ]
    }
   ],
   "source": [
    "def check_duplicated_values(df):\n",
    "    # check for number of duplicated values\n",
    "    print(\"# Duplicated Values\")\n",
    "    print(df.duplicated().sum())\n",
    "    \n",
    "    # check for % of duplicated values\n",
    "    print(\"\\n% Duplicated Values\")\n",
    "    print(df.duplicated().mean() * 100)\n",
    "\n",
    "check_duplicated_values(df)"
   ]
  },
  {
   "cell_type": "code",
   "execution_count": 7,
   "id": "a7c383c8-ab3f-413d-b2bc-38a077034ec3",
   "metadata": {
    "tags": []
   },
   "outputs": [
    {
     "name": "stdout",
     "output_type": "stream",
     "text": [
      "# Unique Values per Column\n",
      "'Feature0' # of unique values: 12928\n",
      "'Feature1' # of unique values: 52\n",
      "'target' # of unique values: 3842\n",
      "\n",
      "% Unique Values per Column\n",
      "'Feature0' % of unique values: 62.64 %\n",
      "'Feature1' % of unique values: 0.25 %\n",
      "'target' % of unique values: 18.61 %\n"
     ]
    }
   ],
   "source": [
    "def check_nunique_values(df):\n",
    "    # check number of unique values per column\n",
    "    print(\"# Unique Values per Column\")\n",
    "    for col in df.columns:\n",
    "        print(\"'\"+col+\"'\", \"# of unique values:\", df[col].nunique())\n",
    "        \n",
    "    # check % of unique values per column (relative to number of total rows in the dataset)\n",
    "    print(\"\\n% Unique Values per Column\")\n",
    "    for col in df.columns:\n",
    "        print(\"'\"+col+\"'\", \"% of unique values:\", round(df[col].nunique() * 100 / df.shape[0], 2), \"%\")\n",
    "        \n",
    "check_nunique_values(df)"
   ]
  },
  {
   "cell_type": "code",
   "execution_count": 13,
   "id": "5704080c-6793-427a-8e1f-597ce24c6ae4",
   "metadata": {
    "tags": []
   },
   "outputs": [
    {
     "data": {
      "image/png": "[encoded data removed]",
      "text/plain": [
       "<Figure size 640x480 with 1 Axes>"
      ]
     },
     "metadata": {},
     "output_type": "display_data"
    }
   ],
   "source": [
    "import matplotlib.pyplot as plt\n",
    "import seaborn as sns\n",
    "sns.regplot(df, x=\"Feature0\", y=\"target\")\n",
    "plt.show()"
   ]
  },
  {
   "cell_type": "code",
   "execution_count": 18,
   "id": "3551b512-7891-4b80-a7e5-9b689003ae18",
   "metadata": {
    "tags": []
   },
   "outputs": [
    {
     "name": "stdout",
     "output_type": "stream",
     "text": [
      "x shape: (20640, 2)\n",
      "y shape: (20640,)\n"
     ]
    }
   ],
   "source": [
    "x = df[['Feature0', 'Feature1']]\n",
    "y = df['target']\n",
    "print('x shape:', x.shape)\n",
    "print('y shape:', y.shape)"
   ]
  },
  {
   "cell_type": "code",
   "execution_count": 19,
   "id": "fc2ec331-d2a3-4661-815c-bf367dffc80c",
   "metadata": {
    "tags": []
   },
   "outputs": [
    {
     "name": "stdout",
     "output_type": "stream",
     "text": [
      "x_train shape: (14448, 2)\n",
      "x_test shape: (6192, 2)\n",
      "y_train shape: (14448,)\n",
      "y_test shape: (6192,)\n"
     ]
    }
   ],
   "source": [
    "x_train, x_test, y_train, y_test = train_test_split(x, y, test_size=0.3, random_state=42)\n",
    "print('x_train shape:', x_train.shape)\n",
    "print('x_test shape:', x_test.shape)\n",
    "print('y_train shape:', y_train.shape)\n",
    "print('y_test shape:', y_test.shape)"
   ]
  },
  {
   "cell_type": "code",
   "execution_count": 20,
   "id": "98d2ac01-3137-4243-bc72-51a5b31cf132",
   "metadata": {
    "tags": []
   },
   "outputs": [],
   "source": [
    "# train a linear regression model\n",
    "reg = LinearRegression()\n",
    "model = reg.fit(x_train, y_train)\n",
    "y_pred_train = model.predict(x_train)\n",
    "y_pred_test = model.predict(x_test)"
   ]
  },
  {
   "cell_type": "code",
   "execution_count": 21,
   "id": "da6037f3-230c-4576-ae9c-1b0cf771f344",
   "metadata": {
    "tags": []
   },
   "outputs": [
    {
     "name": "stdout",
     "output_type": "stream",
     "text": [
      "R2 Score train: 0.5093\n",
      "R2 Score test: 0.5087\n"
     ]
    }
   ],
   "source": [
    "# R2 Score of train & test prediction\n",
    "def display_r2_scores(y_train, y_pred_train, y_test, y_pred_test):\n",
    "    r2_train = r2_score(y_train, y_pred_train)\n",
    "    print('R2 Score train:', r2_train.round(4))\n",
    "    r2_test = r2_score(y_test, y_pred_test)\n",
    "    print('R2 Score test:', r2_test.round(4))\n",
    "    \n",
    "display_r2_scores(y_train, y_pred_train, y_test, y_pred_test)"
   ]
  },
  {
   "cell_type": "code",
   "execution_count": 22,
   "id": "806a4090-a1d4-4f13-9953-cef454cdd34d",
   "metadata": {
    "tags": []
   },
   "outputs": [
    {
     "name": "stdout",
     "output_type": "stream",
     "text": [
      "RMSE train: 0.8108\n",
      "RMSE test: 0.803\n"
     ]
    }
   ],
   "source": [
    "# RMSE: root mean squared error\n",
    "rmse_train = math.sqrt(mean_squared_error(y_train, y_pred_train))\n",
    "print('RMSE train:', round(rmse_train, 4))\n",
    "rmse_test = math.sqrt(mean_squared_error(y_test, y_pred_test))\n",
    "print('RMSE test:', round(rmse_test, 4))"
   ]
  },
  {
   "cell_type": "code",
   "execution_count": 23,
   "id": "2e286f2f-e682-4c40-8c8b-c25caaef8647",
   "metadata": {
    "tags": []
   },
   "outputs": [
    {
     "data": {
      "text/plain": [
       "-0.10299578449607161"
      ]
     },
     "metadata": {},
     "output_type": "display_data"
    },
    {
     "data": {
      "text/plain": [
       "array([0.43176259, 0.01743944])"
      ]
     },
     "metadata": {},
     "output_type": "display_data"
    }
   ],
   "source": [
    "# linear regression formula (y = m0x0 + m1x1 + b)\n",
    "# b0 (intercept):\n",
    "display(model.intercept_)\n",
    "# m (slope) of every feature (m0 & m1):\n",
    "display(model.coef_)"
   ]
  },
  {
   "cell_type": "code",
   "execution_count": 24,
   "id": "1e8a0057-cd33-46f8-8bab-278457fa9d71",
   "metadata": {
    "tags": []
   },
   "outputs": [
    {
     "name": "stdout",
     "output_type": "stream",
     "text": [
      "x_train shape: (14448, 9)\n",
      "x_test shape: (6192, 9)\n",
      "y_train shape: (14448,)\n",
      "y_test shape: (6192,)\n"
     ]
    },
    {
     "data": {
      "text/plain": [
       "array([[2.31520000e+00, 2.50000000e+01, 5.36015104e+00, 5.78800000e+01,\n",
       "        6.25000000e+02, 1.24098217e+01, 1.34003776e+02, 1.44700000e+03,\n",
       "        1.56250000e+04],\n",
       "       [3.96280000e+00, 2.90000000e+01, 1.57037838e+01, 1.14921200e+02,\n",
       "        8.41000000e+02, 6.22309546e+01, 4.55409731e+02, 3.33271480e+03,\n",
       "        2.43890000e+04],\n",
       "       [3.21510000e+00, 7.00000000e+00, 1.03368680e+01, 2.25057000e+01,\n",
       "        4.90000000e+01, 3.32340643e+01, 7.23580761e+01, 1.57539900e+02,\n",
       "        3.43000000e+02]])"
      ]
     },
     "execution_count": 24,
     "metadata": {},
     "output_type": "execute_result"
    }
   ],
   "source": [
    "# Feature interactions\n",
    "interaction = PolynomialFeatures(degree = 3, include_bias = False, interaction_only = False) # try True & False\n",
    "# interaction_only: include only interactions between features, not lonely-features\n",
    "# degree: max number of features to create\n",
    "features_interaction = interaction.fit_transform(x)\n",
    "x_train, x_test, y_train, y_test = train_test_split(features_interaction, y, test_size=0.3, random_state=43)\n",
    "print('x_train shape:', x_train.shape)\n",
    "print('x_test shape:', x_test.shape)\n",
    "print('y_train shape:', y_train.shape)\n",
    "print('y_test shape:', y_test.shape)\n",
    "# feature space looks like:\n",
    "x_train[1:4]"
   ]
  },
  {
   "cell_type": "code",
   "execution_count": 25,
   "id": "52cb00b0-fdb1-4856-8af2-6fc06b453765",
   "metadata": {
    "tags": []
   },
   "outputs": [],
   "source": [
    "regression = LinearRegression()\n",
    "model = regression.fit(x_train, y_train)\n",
    "y_pred_train = model.predict(x_train)\n",
    "y_pred_test = model.predict(x_test)"
   ]
  },
  {
   "cell_type": "code",
   "execution_count": 26,
   "id": "27ca2574-c8cf-4a01-942c-acce460032e0",
   "metadata": {
    "tags": []
   },
   "outputs": [
    {
     "name": "stdout",
     "output_type": "stream",
     "text": [
      "R2 Score train: 0.5326\n",
      "R2 Score test: 0.5535\n"
     ]
    }
   ],
   "source": [
    "display_r2_scores(y_train, y_pred_train, y_test, y_pred_test)"
   ]
  },
  {
   "cell_type": "code",
   "execution_count": 27,
   "id": "ad1cb665-dd16-482c-a996-ae13cdab29b0",
   "metadata": {
    "tags": []
   },
   "outputs": [
    {
     "data": {
      "text/plain": [
       "array([8.32520000e+00, 4.10000000e+01, 6.93089550e+01, 3.41333200e+02,\n",
       "       1.68100000e+03, 5.77010912e+02, 2.84166716e+03, 1.39946612e+04,\n",
       "       6.89210000e+04])"
      ]
     },
     "execution_count": 27,
     "metadata": {},
     "output_type": "execute_result"
    }
   ],
   "source": [
    "polynomial = PolynomialFeatures(degree = 3, include_bias = False) # degree: max power of x, high values often create overfitting\n",
    "features_polynomial = polynomial.fit_transform(x)\n",
    "features_polynomial[0]"
   ]
  },
  {
   "cell_type": "code",
   "execution_count": 28,
   "id": "b6c5a2ac-cdf8-4703-961d-21b04e83415e",
   "metadata": {
    "tags": []
   },
   "outputs": [
    {
     "name": "stdout",
     "output_type": "stream",
     "text": [
      "x_train shape: (14448, 9)\n",
      "x_test shape: (6192, 9)\n",
      "y_train shape: (14448,)\n",
      "y_test shape: (6192,)\n"
     ]
    },
    {
     "data": {
      "text/plain": [
       "array([[2.31520000e+00, 2.50000000e+01, 5.36015104e+00, 5.78800000e+01,\n",
       "        6.25000000e+02, 1.24098217e+01, 1.34003776e+02, 1.44700000e+03,\n",
       "        1.56250000e+04],\n",
       "       [3.96280000e+00, 2.90000000e+01, 1.57037838e+01, 1.14921200e+02,\n",
       "        8.41000000e+02, 6.22309546e+01, 4.55409731e+02, 3.33271480e+03,\n",
       "        2.43890000e+04],\n",
       "       [3.21510000e+00, 7.00000000e+00, 1.03368680e+01, 2.25057000e+01,\n",
       "        4.90000000e+01, 3.32340643e+01, 7.23580761e+01, 1.57539900e+02,\n",
       "        3.43000000e+02]])"
      ]
     },
     "execution_count": 28,
     "metadata": {},
     "output_type": "execute_result"
    }
   ],
   "source": [
    "x_train, x_test, y_train, y_test = train_test_split(features_polynomial, y, test_size=0.3, random_state=43)\n",
    "print('x_train shape:', x_train.shape)\n",
    "print('x_test shape:', x_test.shape)\n",
    "print('y_train shape:', y_train.shape)\n",
    "print('y_test shape:', y_test.shape)\n",
    "# feature space looks like:\n",
    "x_train[1:4]"
   ]
  },
  {
   "cell_type": "code",
   "execution_count": 29,
   "id": "440c4176-5441-4cbd-bce1-2b1d8e2745f3",
   "metadata": {
    "tags": []
   },
   "outputs": [
    {
     "name": "stdout",
     "output_type": "stream",
     "text": [
      "R2 Score train: 0.5326\n",
      "R2 Score test: 0.5535\n"
     ]
    }
   ],
   "source": [
    "regression = LinearRegression()\n",
    "model = regression.fit(x_train, y_train)\n",
    "y_pred_train = model.predict(x_train)\n",
    "y_pred_test = model.predict(x_test)\n",
    "display_r2_scores(y_train, y_pred_train, y_test, y_pred_test)"
   ]
  },
  {
   "cell_type": "code",
   "execution_count": 30,
   "id": "e3719935-c6fc-47a8-8437-6b5089de92c9",
   "metadata": {
    "tags": []
   },
   "outputs": [],
   "source": [
    "# Regularization (technique to prevent overfitting for having a complex model)\n",
    "# to minimize the error the algorithm will choose smaller betas (to minimize the 2nd sigma from the formula)\n",
    "# having smaller betas means you are preventing an overfitted model and can also set betas close or equal to zero (unimportant features)\n",
    "# 3 regularization techniques:"
   ]
  },
  {
   "cell_type": "code",
   "execution_count": 31,
   "id": "a009a502-76df-4b5b-a92b-5383246bf376",
   "metadata": {
    "tags": []
   },
   "outputs": [
    {
     "name": "stdout",
     "output_type": "stream",
     "text": [
      "R2 Score train: 0.5022\n",
      "R2 Score test: 0.5252\n"
     ]
    }
   ],
   "source": [
    "# Ridge (L2)\n",
    "x = df[['Feature0', 'Feature1']]\n",
    "y = df[['target']]\n",
    "x_train, x_test, y_train, y_test = train_test_split(x, y, test_size=0.3, random_state=43)\n",
    "regression = Ridge(alpha=0.5)\n",
    "model = regression.fit(x_train, y_train)\n",
    "y_pred_train = model.predict(x_train)\n",
    "y_pred_test = model.predict(x_test)\n",
    "display_r2_scores(y_train, y_pred_train, y_test, y_pred_test)"
   ]
  },
  {
   "cell_type": "code",
   "execution_count": 32,
   "id": "34c3c53a-1b54-4b1c-80bf-713eb5750645",
   "metadata": {
    "tags": []
   },
   "outputs": [
    {
     "name": "stdout",
     "output_type": "stream",
     "text": [
      "R2 Score train: 0.4456\n",
      "R2 Score test: 0.4658\n"
     ]
    }
   ],
   "source": [
    "# Lasso (L1) \n",
    "regression = Lasso(alpha=0.5)\n",
    "model = regression.fit(x_train, y_train)\n",
    "y_pred_train = model.predict(x_train)\n",
    "y_pred_test = model.predict(x_test)\n",
    "display_r2_scores(y_train, y_pred_train, y_test, y_pred_test)"
   ]
  },
  {
   "cell_type": "code",
   "execution_count": 33,
   "id": "5ffbb435-d836-4555-9185-a564a8a03dd0",
   "metadata": {
    "tags": []
   },
   "outputs": [
    {
     "name": "stdout",
     "output_type": "stream",
     "text": [
      "R2 Score train: 0.4774\n",
      "R2 Score test: 0.4992\n"
     ]
    }
   ],
   "source": [
    "# ElasticNet (L1 & l2)\n",
    "from sklearn.linear_model import ElasticNet\n",
    "\n",
    "regression = ElasticNet(alpha=0.5)\n",
    "model = regression.fit(x_train, y_train)\n",
    "y_pred_train = model.predict(x_train)\n",
    "y_pred_test = model.predict(x_test)\n",
    "display_r2_scores(y_train, y_pred_train, y_test, y_pred_test)"
   ]
  }
 ],
 "metadata": {
  "kernelspec": {
   "display_name": "Python 3 (ipykernel)",
   "language": "python",
   "name": "python3"
  },
  "language_info": {
   "codemirror_mode": {
    "name": "ipython",
    "version": 3
   },
   "file_extension": ".py",
   "mimetype": "text/x-python",
   "name": "python",
   "nbconvert_exporter": "python",
   "pygments_lexer": "ipython3",
   "version": "3.11.5"
  }
 },
 "nbformat": 4,
 "nbformat_minor": 5
}
