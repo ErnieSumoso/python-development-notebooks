{
 "cells": [
  {
   "cell_type": "markdown",
   "id": "8d0acebd-bd07-47b7-96e8-df9be799b716",
   "metadata": {},
   "source": [
    "#### Author: Ernie Sumoso"
   ]
  },
  {
   "cell_type": "code",
   "execution_count": 88,
   "id": "a16b14b4-96b1-4fc5-9ceb-77fd134537d0",
   "metadata": {
    "tags": []
   },
   "outputs": [],
   "source": [
    "import re\n",
    "import bs4\n",
    "import requests\n",
    "import datetime\n",
    "import pathlib\n",
    "\n",
    "def download_pdfs(url_domain, url_path, url_sufix, save_path, year):\n",
    "    # Set the URL, which changes depending on the year\n",
    "    current_year = datetime.datetime.now().year\n",
    "    url = url_domain + url_path\n",
    "    if year != current_year:\n",
    "        url += url_sufix + str(year)\n",
    "        \n",
    "    # Get the request from the bank URL\n",
    "    website_request = requests.get(url)\n",
    "    assert website_request.status_code == 200\n",
    "    soup = bs4.BeautifulSoup(website_request.content)\n",
    "    \n",
    "    # Filter the HTML tags into only PDF links\n",
    "    a_tags = soup.findAll('a')\n",
    "    pdf_tags = list(filter(lambda a_tag : a_tag.text == 'PDF' , a_tags))\n",
    "    \n",
    "    # Create the PDF saving path if it doesn't exist\n",
    "    save_path += f'/{year}'\n",
    "    pathlib.Path(save_path).mkdir(parents=True, exist_ok=True)\n",
    "    print(f'Starting to download {len(pdf_tags)} PDFs from {year} ({url_domain})...')\n",
    "    \n",
    "    # Loop through the PDFs and save them into the save path\n",
    "    for i in range(len(pdf_tags)):\n",
    "        \n",
    "        # Set the pdf url extracted from the href attribute from a tags\n",
    "        url_pdf = pdf_tags[i]['href']\n",
    "        if not url_pdf.startswith('http'):\n",
    "            url_pdf = url_domain + url_pdf\n",
    "        \n",
    "        # Request the PDF file and save it\n",
    "        pdf_request = requests.get(url_pdf)\n",
    "        assert pdf_request.status_code == 200\n",
    "        pdf_file = open(save_path + f'/TD{year}_{i+1}.pdf', 'wb')\n",
    "        pdf_file.write(pdf_request.content)\n",
    "        pdf_file.close()\n",
    "        \n",
    "    print(f'Download successful: {len(pdf_tags)} PDFs from {year} ({url_domain})')"
   ]
  },
  {
   "cell_type": "code",
   "execution_count": 89,
   "id": "ce074e85-2366-4681-bfd8-e2aa53cd19cf",
   "metadata": {
    "tags": []
   },
   "outputs": [
    {
     "name": "stdout",
     "output_type": "stream",
     "text": [
      "Starting to download 7 PDFs from 1999 (https://www.td.com)...\n",
      "Download successful: 7 PDFs from 1999 (https://www.td.com)\n"
     ]
    }
   ],
   "source": [
    "DOMAIN = \"https://www.td.com\"\n",
    "URL = \"/ca/en/about-td/for-investors/investor-relations/financial-information/financial-reports/quarterly-results\"\n",
    "URL_SUFIX = \"/quarterly-results-\"\n",
    "SAVE_PATH = 'TDBank/'\n",
    "\n",
    "download_pdfs(DOMAIN, URL, URL_SUFIX, SAVE_PATH, 1999)"
   ]
  }
 ],
 "metadata": {
  "kernelspec": {
   "display_name": "Python 3 (ipykernel)",
   "language": "python",
   "name": "python3"
  },
  "language_info": {
   "codemirror_mode": {
    "name": "ipython",
    "version": 3
   },
   "file_extension": ".py",
   "mimetype": "text/x-python",
   "name": "python",
   "nbconvert_exporter": "python",
   "pygments_lexer": "ipython3",
   "version": "3.11.5"
  }
 },
 "nbformat": 4,
 "nbformat_minor": 5
}
