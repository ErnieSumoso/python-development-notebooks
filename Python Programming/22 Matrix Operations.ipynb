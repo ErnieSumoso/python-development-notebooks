{
 "cells": [
  {
   "cell_type": "markdown",
   "id": "c22fadd1-58a3-45bb-894f-07e9948de20f",
   "metadata": {},
   "source": [
    "#### Author: Ernie Sumoso"
   ]
  },
  {
   "cell_type": "code",
   "execution_count": 47,
   "id": "7dd6fcff-8f80-4431-b7d1-a26930d4b4ee",
   "metadata": {},
   "outputs": [
    {
     "data": {
      "text/plain": [
       "[[1, 2, 3], [4, 5, 6]]"
      ]
     },
     "execution_count": 47,
     "metadata": {},
     "output_type": "execute_result"
    }
   ],
   "source": [
    "def matrix_transpose(A):\n",
    "    rows = len(A)\n",
    "    cols = len(A[0])\n",
    "    tA = []\n",
    "    for j in range(cols):\n",
    "        new_row = []\n",
    "        for i in range(rows):\n",
    "            new_row.append(A[i][j])\n",
    "        tA.append(new_row)\n",
    "    return tA\n",
    "            \n",
    "\n",
    "matrix_transpose([[1, 4],\n",
    "                  [2, 5],\n",
    "                  [3, 6]])"
   ]
  },
  {
   "cell_type": "code",
   "execution_count": 48,
   "id": "4af2093d-9a06-4bc2-aae1-dfb973a288cc",
   "metadata": {},
   "outputs": [
    {
     "data": {
      "text/plain": [
       "[[14, 42], [32, 105], [32, 105]]"
      ]
     },
     "execution_count": 48,
     "metadata": {},
     "output_type": "execute_result"
    }
   ],
   "source": [
    "def matrix_multiplication(A, B):\n",
    "    tB = matrix_transpose(B)\n",
    "\n",
    "    result = []\n",
    "    for i, rowA in enumerate(A):\n",
    "        new_row = []\n",
    "        for j, rowB in enumerate(tB):\n",
    "            summ = 0\n",
    "            for k in range(len(rowA)):\n",
    "                summ += rowA[k] * rowB[k]\n",
    "            new_row.append(summ)\n",
    "        result.append(new_row)\n",
    "    return result\n",
    "\n",
    "matrix_multiplication([[1, 2, 3],\n",
    "                       [4, 5, 6],\n",
    "                       [4, 5, 6]],\n",
    "                      \n",
    "                      [[1, 7],\n",
    "                       [2, 7],\n",
    "                       [3, 7]])  "
   ]
  },
  {
   "cell_type": "code",
   "execution_count": 4,
   "id": "e0ae927c-8edf-46f3-b3e7-84c4af9af3e6",
   "metadata": {},
   "outputs": [
    {
     "data": {
      "text/plain": [
       "[[2, 4, 6], [8, 10, 12], [8, 10, 12]]"
      ]
     },
     "execution_count": 4,
     "metadata": {},
     "output_type": "execute_result"
    }
   ],
   "source": [
    "def matrix_addition(A, B):\n",
    "    assert len(A) == len(B)\n",
    "    assert len(A[0]) == len(B[0])\n",
    "    \n",
    "    rows = len(A)\n",
    "    cols = len(A[0])\n",
    "\n",
    "    result = []\n",
    "    for i in range(rows):\n",
    "        new_row = []\n",
    "        for j in range(cols):\n",
    "            new_row.append(A[i][j] + B[i][j])\n",
    "        result.append(new_row)\n",
    "    return result\n",
    "\n",
    "matrix_addition([[1, 2, 3],\n",
    "                 [4, 5, 6],\n",
    "                 [4, 5, 6]],\n",
    "                [[1, 2, 3],\n",
    "                 [4, 5, 6],\n",
    "                 [4, 5, 6]])"
   ]
  }
 ],
 "metadata": {
  "kernelspec": {
   "display_name": "Python 3 (ipykernel)",
   "language": "python",
   "name": "python3"
  },
  "language_info": {
   "codemirror_mode": {
    "name": "ipython",
    "version": 3
   },
   "file_extension": ".py",
   "mimetype": "text/x-python",
   "name": "python",
   "nbconvert_exporter": "python",
   "pygments_lexer": "ipython3",
   "version": "3.11.5"
  }
 },
 "nbformat": 4,
 "nbformat_minor": 5
}
