{
 "cells": [
  {
   "cell_type": "markdown",
   "id": "40658f92-c209-47e2-9dd5-b6b2d00d1713",
   "metadata": {},
   "source": [
    "#### Author: Ernie Sumoso"
   ]
  },
  {
   "cell_type": "code",
   "execution_count": 53,
   "id": "4510a7a4-c90e-489c-9b53-8734f2e69e62",
   "metadata": {
    "tags": []
   },
   "outputs": [
    {
     "name": "stdout",
     "output_type": "stream",
     "text": [
      "Under Weight:\n",
      "Person-5 : 18.2379\n",
      "Person-7 : 14.6092\n",
      "Person-9 : 17.3737\n",
      "Group Size: 3\n",
      "Average BMI for this group: 16.7403\n",
      "Normal:\n",
      "Person-12 : 24.4261\n",
      "Person-13 : 23.5923\n",
      "Group Size: 2\n",
      "Average BMI for this group: 24.0092\n",
      "Over Weight:\n",
      "Person-1 : 25.2525\n",
      "Person-3 : 28.3108\n",
      "Person-11 : 28.3795\n",
      "Group Size: 3\n",
      "Average BMI for this group: 27.3143\n",
      "Obesity:\n",
      "Person-2 : 31.4564\n",
      "Person-4 : 44.0631\n",
      "Person-6 : 44.4444\n",
      "Person-8 : 50.0877\n",
      "Person-10 : 69.5733\n",
      "Group Size: 5\n",
      "Average BMI for this group: 47.925\n",
      "\n"
     ]
    }
   ],
   "source": [
    "def get_data(filename):\n",
    "    file = open(filename, \"r\")\n",
    "    nums = file.read().split()\n",
    "    file.close()\n",
    "    weights = list(map(float, nums[::2])) # lbs\n",
    "    heights = list(map(float, nums[1::2])) # cms\n",
    "    return heights, weights\n",
    "\n",
    "def analyze_bmi(weights, heights):\n",
    "    data = {}\n",
    "    for i in range(len(heights)):\n",
    "        kg = weights[i] / 2.2\n",
    "        ms = heights[i] / 100\n",
    "        bmi = round(kg / pow(ms, 2), 4)\n",
    "\n",
    "        if bmi < 18.5:\n",
    "            result = \"Under Weight\"\n",
    "        elif bmi < 24.9:\n",
    "            result = \"Normal\"\n",
    "        elif bmi < 29.9:\n",
    "            result = \"Over Weight\"\n",
    "        else:\n",
    "            result = \"Obesity\"\n",
    "        data[result] = data.get(result, []) + [((i+1), bmi)]\n",
    "\n",
    "    avgs = []\n",
    "    for key in data.keys():\n",
    "        text = f\"{key}:\\n\"\n",
    "        size = len(data[key])\n",
    "        for i in data[key]:\n",
    "            text += f\"Person-{i[0]} : {i[1]}\\n\"\n",
    "        text += f\"Group Size: {size}\\n\"\n",
    "        summ = sum(pair[1] for pair in data[key])\n",
    "        avg = round(summ/size, 4)\n",
    "        text += f\"Average BMI for this group: {avg}\\n\"\n",
    "        avgs.append((avg, text))\n",
    "\n",
    "    avgs = sorted(avgs, key=lambda x: x[0])\n",
    "    print(''.join([tup[1] for tup in avgs]))\n",
    "\n",
    "heights, weights = get_data(\"hw.txt\")\n",
    "analyze_bmi(heights, weights)"
   ]
  }
 ],
 "metadata": {
  "kernelspec": {
   "display_name": "Python 3 (ipykernel)",
   "language": "python",
   "name": "python3"
  },
  "language_info": {
   "codemirror_mode": {
    "name": "ipython",
    "version": 3
   },
   "file_extension": ".py",
   "mimetype": "text/x-python",
   "name": "python",
   "nbconvert_exporter": "python",
   "pygments_lexer": "ipython3",
   "version": "3.11.5"
  }
 },
 "nbformat": 4,
 "nbformat_minor": 5
}
