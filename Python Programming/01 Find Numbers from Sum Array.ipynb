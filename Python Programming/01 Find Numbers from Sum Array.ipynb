{
 "cells": [
  {
   "cell_type": "markdown",
   "id": "a3750cbf-12fb-4312-82ad-d03f6318a037",
   "metadata": {},
   "source": [
    "#### Author: Ernie Sumoso"
   ]
  },
  {
   "cell_type": "markdown",
   "id": "2a4883b3-f919-4f6a-8a98-b2860f83d1f7",
   "metadata": {},
   "source": [
    "1-Write a Python program to find 4 numbers from an array such that the sum of 4 numbers equal to a given number.\n",
    "\n",
    "Input : [1, 0, -1, 0, -2, 2,10,11], 0)\n",
    "\n",
    "Output : [[-2, -1, 1, 2], [-2, 0, 0, 2], [-1, 0, 0, 1]]\n",
    "\n",
    "2-Write a Python program to find the single element appears once in a list where every element appears multiple times except for one. \n",
    "\n",
    "Input : [1, 1, 1, 2, 2, 2, 3]\n",
    "\n",
    "Output : 3\n",
    "\n",
    "3-Write a Python program to add the digits of a positive integer repeatedly until the result has a single digit. \n",
    "\n",
    "Input : 48\n",
    "\n",
    "Output : 3\n",
    "\n",
    "For example given number is 59, the result will be 5.\n",
    "\n",
    "Step 1: 5 + 9 = 14\n",
    "\n",
    "Step 1: 1 + 4 = 5"
   ]
  },
  {
   "cell_type": "code",
   "execution_count": 33,
   "id": "904cb310-68d4-416c-942e-14245f532742",
   "metadata": {
    "tags": []
   },
   "outputs": [
    {
     "data": {
      "text/plain": [
       "[[-1, 0, 0, 1], [-2, -1, 1, 2], [-2, 0, 0, 2]]"
      ]
     },
     "execution_count": 33,
     "metadata": {},
     "output_type": "execute_result"
    }
   ],
   "source": [
    "# Question 1 solution\n",
    "def find_sum_with_n_numbers(nums, summ, n):\n",
    "    results = []\n",
    "    if n == 1:\n",
    "        for num in nums:\n",
    "            if num == summ: results.append([num])\n",
    "        return results\n",
    "    for num in nums:\n",
    "        sub_nums = nums.copy()\n",
    "        sub_nums.remove(num)\n",
    "        sub_results = find_sum_with_n_numbers(sub_nums, summ - num, n - 1)\n",
    "        for result in sub_results:\n",
    "            new_result = result + [num]\n",
    "            new_result.sort()\n",
    "            if new_result not in results:\n",
    "                results.append(new_result)\n",
    "    return results\n",
    "find_sum_with_n_numbers([1, 0, -1, 0, -2, 2, 10, 11], 0, 4)"
   ]
  },
  {
   "cell_type": "code",
   "execution_count": 34,
   "id": "421ec63b-7978-4ea6-8df3-295417d71589",
   "metadata": {
    "tags": []
   },
   "outputs": [
    {
     "data": {
      "text/plain": [
       "4"
      ]
     },
     "execution_count": 34,
     "metadata": {},
     "output_type": "execute_result"
    }
   ],
   "source": [
    "# Question 2 solution\n",
    "def find_single(nums):\n",
    "    counts = {}\n",
    "    for num in nums:\n",
    "        if num not in counts:\n",
    "            counts[num] = 1\n",
    "            continue\n",
    "        counts[num] += 1\n",
    "    for key in counts:\n",
    "        if counts[key] == 1:\n",
    "            return key\n",
    "    return -1\n",
    "\n",
    "find_single([1, 1, 1, 4, 2, 2, 2, 3, 3])"
   ]
  },
  {
   "cell_type": "code",
   "execution_count": 35,
   "id": "bfe7d14d-7d4c-4a5a-98f5-0bfaadda01b8",
   "metadata": {
    "tags": []
   },
   "outputs": [
    {
     "name": "stdout",
     "output_type": "stream",
     "text": [
      "3\n"
     ]
    },
    {
     "data": {
      "text/plain": [
       "5"
      ]
     },
     "execution_count": 35,
     "metadata": {},
     "output_type": "execute_result"
    }
   ],
   "source": [
    "# Question 3 solution\n",
    "def add_digits_until_single(num):\n",
    "    \n",
    "    summ = num\n",
    "    while summ > 10:\n",
    "        digits = str(summ)\n",
    "        summ = 0\n",
    "        for dig in digits:\n",
    "            summ += int(dig)\n",
    "    return summ\n",
    "        \n",
    "print(add_digits_until_single(48))\n",
    "add_digits_until_single(59)"
   ]
  }
 ],
 "metadata": {
  "kernelspec": {
   "display_name": "Python 3 (ipykernel)",
   "language": "python",
   "name": "python3"
  },
  "language_info": {
   "codemirror_mode": {
    "name": "ipython",
    "version": 3
   },
   "file_extension": ".py",
   "mimetype": "text/x-python",
   "name": "python",
   "nbconvert_exporter": "python",
   "pygments_lexer": "ipython3",
   "version": "3.11.5"
  }
 },
 "nbformat": 4,
 "nbformat_minor": 5
}
