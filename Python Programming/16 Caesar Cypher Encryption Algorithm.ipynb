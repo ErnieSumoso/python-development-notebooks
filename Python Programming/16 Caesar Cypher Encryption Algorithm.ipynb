{
 "cells": [
  {
   "cell_type": "markdown",
   "id": "42913c5d-94eb-4a5b-8fb2-e676de605aa5",
   "metadata": {},
   "source": [
    "#### Author: Ernie Sumoso"
   ]
  },
  {
   "cell_type": "code",
   "execution_count": 1,
   "id": "8e9eaf00-a49e-4977-a9f1-756b05bb124a",
   "metadata": {
    "tags": []
   },
   "outputs": [],
   "source": [
    "import math # import the required libraries to perform math operations"
   ]
  },
  {
   "cell_type": "markdown",
   "id": "61449617-5cee-4989-8696-486edd89acf0",
   "metadata": {},
   "source": [
    "__Task 1.__ Caesar cypher encryption algorithm"
   ]
  },
  {
   "cell_type": "code",
   "execution_count": 2,
   "id": "0233aef3-7268-417d-9d46-31b8ef649275",
   "metadata": {
    "tags": []
   },
   "outputs": [
    {
     "data": {
      "text/plain": [
       "'Jgnnq Yqtnf'"
      ]
     },
     "execution_count": 2,
     "metadata": {},
     "output_type": "execute_result"
    }
   ],
   "source": [
    "# Calculate the new index of the character based on the current index and number of rotations\n",
    "def get_new_index(index, rotations, abc):\n",
    "    new_index = index + rotations\n",
    "    new_index -= len(abc) if new_index >= len(abc) else 0\n",
    "    return new_index\n",
    "\n",
    "# Calculate the cyphered word using a predetermined alphabet\n",
    "def ceaser_cypher(word, rotations):\n",
    "    abc = \"abcdefghijklmnopqrstuvwxyz\"\n",
    "    new_word = \"\"\n",
    "    # For each character, if it's in the alphabet get the index, apply rotations and add it to the new word\n",
    "    for char in word:\n",
    "        if char.lower() not in abc:\n",
    "            new_word += char\n",
    "            continue\n",
    "        index = abc.upper().index(char) if char.isupper() else abc.index(char)\n",
    "        index = get_new_index(index, rotations, abc)\n",
    "        new_word += abc.upper()[index] if char.isupper() else abc[index]\n",
    "    return new_word\n",
    "            \n",
    "ceaser_cypher(\"Hello World\", 2)"
   ]
  },
  {
   "cell_type": "markdown",
   "id": "70fa5d9b-f91b-4602-a45c-f1dfb8e7be7e",
   "metadata": {},
   "source": [
    "__Task 2.__ Binary Search Algorithm Implementation"
   ]
  },
  {
   "cell_type": "code",
   "execution_count": 3,
   "id": "c6daa122-2ddc-4c4f-92f4-7586083c0603",
   "metadata": {
    "tags": []
   },
   "outputs": [
    {
     "name": "stdout",
     "output_type": "stream",
     "text": [
      "Number 5 was found at the position 4 (index 3) of the array.\n"
     ]
    }
   ],
   "source": [
    "# Search for the number in the sorted list, between 2 given indexes\n",
    "def binary_search_recursive(num, nums, min_index, max_index):\n",
    "    mid_index = math.floor((min_index + max_index) / 2)\n",
    "    \n",
    "    if mid_index < min_index or mid_index > max_index:\n",
    "        return False\n",
    "    if num == nums[mid_index]:\n",
    "        return True\n",
    "    \n",
    "    # If the number wasn't found in the middle, update indexes and search again\n",
    "    if num > nums[mid_index]:\n",
    "        min_index = mid_index + 1\n",
    "    else:\n",
    "        max_index = mid_index - 1\n",
    "    \n",
    "    return binary_search_recursive(num, nums, min_index, max_index)\n",
    "\n",
    "# Search for a number in the list, sorting the list and using a recursive binary search\n",
    "def binary_search(num, nums):\n",
    "    nums_copy = [] + nums\n",
    "    nums_copy.sort()\n",
    "    return binary_search_recursive(num, nums_copy, 0, len(nums_copy) - 1)\n",
    "\n",
    "num = 5\n",
    "nums = [0,9,1,5,0,16,17,15,3]\n",
    "\n",
    "# Let's print the result\n",
    "if binary_search(num, nums):\n",
    "    print(f\"Number {num} was found at the position {nums.index(num) + 1} (index {nums.index(num)}) of the array.\")\n",
    "else:\n",
    "    print(f\"Number {num} was not found.\")"
   ]
  },
  {
   "cell_type": "markdown",
   "id": "54cb35ce-f083-4f4b-ba72-fb7574f9376f",
   "metadata": {},
   "source": [
    "__Task 3.__ Srinivasa Ramanujan Formula Implementation"
   ]
  },
  {
   "cell_type": "code",
   "execution_count": 4,
   "id": "b83e1c1d-ddfd-4f97-b866-0f820c2e7108",
   "metadata": {
    "tags": []
   },
   "outputs": [
    {
     "data": {
      "text/plain": [
       "3.141592653589793"
      ]
     },
     "execution_count": 4,
     "metadata": {},
     "output_type": "execute_result"
    }
   ],
   "source": [
    "# Calculate 1/pi using Srinivasa's formula implementation\n",
    "def srinivasa_ramanujan(threshold):\n",
    "    const = 2 * math.sqrt(2) / 9801\n",
    "    term = 1\n",
    "    summation = 0\n",
    "    count = 0\n",
    "    \n",
    "    # Keep calculating new terms until the last term is less than a threshold\n",
    "    while (term >= threshold):\n",
    "        term = math.factorial(4 * count) * (1103 + 26390 * count) / (math.pow(math.factorial(count), 4) * math.pow(396, 4 * count))\n",
    "        summation += term\n",
    "        count += 1\n",
    "        \n",
    "    return const * summation\n",
    "\n",
    "# Define a threshold and estimate pi using Srinivasa's formula\n",
    "THRESHOLD = 1e-15\n",
    "def estimate_pi():\n",
    "    return 1 / srinivasa_ramanujan(THRESHOLD)\n",
    "\n",
    "# Print pi\n",
    "estimate_pi()"
   ]
  },
  {
   "cell_type": "markdown",
   "id": "3b10ec69-142c-4af6-8842-774fd4de924c",
   "metadata": {
    "tags": []
   },
   "source": [
    "__Task 4.__ Dollar Script revising and correction"
   ]
  },
  {
   "cell_type": "code",
   "execution_count": 5,
   "id": "f90e67b8-e17c-40cd-8489-f91183100928",
   "metadata": {
    "tags": []
   },
   "outputs": [
    {
     "name": "stdout",
     "output_type": "stream",
     "text": [
      "Congratulations!\n",
      "The amount you entered was exactly one dollar!\n",
      "You win the game!\n"
     ]
    }
   ],
   "source": [
    "# Constant values\n",
    "PENNY_VALUE = 1\n",
    "NICKEL_VALUE = 5\n",
    "DIME_VALUE = 10\n",
    "QUARTER_VALUE = 25\n",
    "PENNIES_IN_DOLLAR = 100\n",
    "\n",
    "# User Input\n",
    "# Get number of pennies, nickels, dimes, and\n",
    "# quarters from the user.\n",
    "numPennies = 10\n",
    "numNickels = 5\n",
    "numDimes = 4\n",
    "numQuarters = 1\n",
    "\n",
    "# Sum the pennies,nicles,dimes and quarters to obtain total cent value\n",
    "totalCentValue = numPennies * PENNY_VALUE + numNickels * NICKEL_VALUE + numDimes * DIME_VALUE + numQuarters * QUARTER_VALUE\n",
    "\n",
    "# Calculate the total cent value in dollars\n",
    "totalDollars = totalCentValue /PENNIES_IN_DOLLAR\n",
    "# Determine whether user won the game:\n",
    "if totalDollars > 1.0: # The amount was more than one dollar.\n",
    "    print('Sorry, the amount you entered was more than one dollar.')\n",
    "elif totalDollars < 1.0: # The amount was less than one dollar.\n",
    "    print('Sorry, the amount you entered was less than one dollar.')\n",
    "else: # The amount was exactly one dollar.\n",
    "    print('Congratulations!')\n",
    "    print('The amount you entered was exactly one dollar!')\n",
    "    print('You win the game!')\n"
   ]
  },
  {
   "cell_type": "markdown",
   "id": "4b4fd2c7-8fd4-4702-91e1-d280e072ee4a",
   "metadata": {},
   "source": [
    "__Task 5.__ Prime Number Generation Script"
   ]
  },
  {
   "cell_type": "code",
   "execution_count": 6,
   "id": "cd32db77-f3ae-4edb-b4d0-8bbab7809a8a",
   "metadata": {
    "tags": []
   },
   "outputs": [
    {
     "name": "stdin",
     "output_type": "stream",
     "text": [
      "Enter an integer greater than 1: 20\n"
     ]
    },
    {
     "name": "stdout",
     "output_type": "stream",
     "text": [
      "2 is prime.\n",
      "3 is prime.\n",
      "4 is composite.\n",
      "5 is prime.\n",
      "6 is composite.\n",
      "7 is prime.\n",
      "8 is composite.\n",
      "9 is composite.\n",
      "10 is composite.\n",
      "11 is prime.\n",
      "12 is composite.\n",
      "13 is prime.\n",
      "14 is composite.\n",
      "15 is composite.\n",
      "16 is composite.\n",
      "17 is prime.\n",
      "18 is composite.\n",
      "19 is prime.\n",
      "20 is composite.\n"
     ]
    }
   ],
   "source": [
    "# Define if a number is prime or composite looping through all numbers from 2 -> n\n",
    "def prime_or_composite(n):\n",
    "    has_divisor = False\n",
    "    # For each number between 2 and the given number, find a divisor, if it's found then the number is composite, otherwise it's prime\n",
    "    for i in range(2, n-1):\n",
    "        has_divisor = ((n % i) == 0)\n",
    "        if has_divisor: break\n",
    "    result = \"composite\" if has_divisor else \"prime\"\n",
    "    print(f\"{n} is {result}.\")\n",
    "    \n",
    "# Ask for user input, append all numbers from 2 to the given number, and find if they are composite or prime.\n",
    "def main():\n",
    "    user_num = int(input(\"Enter an integer greater than 1:\"))\n",
    "    numbers = []\n",
    "    \n",
    "    for count in range(2, user_num+1):\n",
    "        numbers.append(count)\n",
    "        \n",
    "    for i in numbers:\n",
    "        prime_or_composite(i)\n",
    "\n",
    "main()"
   ]
  },
  {
   "cell_type": "markdown",
   "id": "447ee4e1-c514-4cc6-858e-8725f8a00045",
   "metadata": {},
   "source": [
    "__Task 6.__ Printing a Square Pattern with Numbers"
   ]
  },
  {
   "cell_type": "code",
   "execution_count": 7,
   "id": "6009ced6-1453-4989-9eaa-39e4583cd03c",
   "metadata": {
    "tags": []
   },
   "outputs": [
    {
     "name": "stdout",
     "output_type": "stream",
     "text": [
      "1 2 3 4 5\n",
      "2 2 3 4 5\n",
      "3 3 3 4 5\n",
      "4 4 4 4 5\n",
      "5 5 5 5 5 \n"
     ]
    }
   ],
   "source": [
    "# Print a square pattern using only numbers\n",
    "def print_square_pattern(limit):\n",
    "    # for each number between 1 and the given limit print the number \"limit\" times\n",
    "    # then calculate and print the remaining numbers using list comprehension and range\n",
    "    for num in range(limit):\n",
    "        print((num + 1) * (str(num + 1) + \" \"), end='')\n",
    "        left_nums = [x for x in range(num + 2, limit + 1)]\n",
    "        print(*left_nums)\n",
    "        \n",
    "print_square_pattern(5)"
   ]
  }
 ],
 "metadata": {
  "kernelspec": {
   "display_name": "Python 3 (ipykernel)",
   "language": "python",
   "name": "python3"
  },
  "language_info": {
   "codemirror_mode": {
    "name": "ipython",
    "version": 3
   },
   "file_extension": ".py",
   "mimetype": "text/x-python",
   "name": "python",
   "nbconvert_exporter": "python",
   "pygments_lexer": "ipython3",
   "version": "3.11.5"
  }
 },
 "nbformat": 4,
 "nbformat_minor": 5
}
