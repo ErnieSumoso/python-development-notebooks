{
 "cells": [
  {
   "cell_type": "markdown",
   "id": "a9f955f9-0b24-4c6c-a222-b49b92ec235f",
   "metadata": {},
   "source": [
    "#### Author: Ernie Sumoso"
   ]
  },
  {
   "cell_type": "markdown",
   "id": "b3956115-a276-424b-9dce-a9553d790b59",
   "metadata": {},
   "source": [
    "Q1. Write a function to find the longest common prefix string amongst an array of strings.\n",
    "\n",
    "If there is no common prefix, return an empty string \"\".\n",
    "\n",
    "Example 1:\n",
    "\n",
    "Input: strs = [\"flower\",\"flow\",\"flight\"]\n",
    "\n",
    "Output: \"fl\""
   ]
  },
  {
   "cell_type": "code",
   "execution_count": 11,
   "id": "6e62375c-2b8c-4407-858f-66ad8f53093a",
   "metadata": {
    "tags": []
   },
   "outputs": [
    {
     "name": "stdout",
     "output_type": "stream",
     "text": [
      "fl\n",
      "awe\n"
     ]
    }
   ],
   "source": [
    "def get_longest_prefix(lst):\n",
    "    if lst is None or lst == []: return \"\"\n",
    "    prefix = lst[0]\n",
    "    for i in range(1, len(lst)):\n",
    "        for j in range(len(prefix)):\n",
    "            if j >= len(lst[i]):\n",
    "                prefix = prefix[:j]\n",
    "                break\n",
    "            if lst[i][j] != prefix[j]:\n",
    "                prefix = prefix[:j]\n",
    "                break\n",
    "    return prefix\n",
    "\n",
    "print(get_longest_prefix([\"flower\",\"flow\",\"flight\"]))\n",
    "print(get_longest_prefix([\"awesome\",\"aweary\",\"aweather\", \"aweigh\"]))\n",
    "                "
   ]
  },
  {
   "cell_type": "markdown",
   "id": "285b7abe-91e5-446d-b782-c2b8c2ef2f3d",
   "metadata": {},
   "source": [
    "Q2. Given an array nums of size n, return the majority element.\n",
    "\n",
    "The majority element is the element that appears more than ⌊n / 2⌋ times. You may assume that the majority element always exists in the array.\n",
    "\n",
    "Example 1:\n",
    "\n",
    "Input: nums = [3,2,3]\n",
    "\n",
    "Output: 3"
   ]
  },
  {
   "cell_type": "code",
   "execution_count": 21,
   "id": "708766ec-c911-4604-a343-904994a5ba7d",
   "metadata": {},
   "outputs": [
    {
     "data": {
      "text/plain": [
       "3"
      ]
     },
     "execution_count": 21,
     "metadata": {},
     "output_type": "execute_result"
    }
   ],
   "source": [
    "def get_majority_element(nums):\n",
    "    min_amount = (len(nums) + 1) // 2\n",
    "    counts = {}\n",
    "    for num in nums:\n",
    "        counts[num] = counts.get(num, 0) + 1\n",
    "        if counts[num] == min_amount:\n",
    "            return num\n",
    "    return -1\n",
    "\n",
    "get_majority_element([3, 2, 3])"
   ]
  },
  {
   "cell_type": "markdown",
   "id": "17693df2-c0f6-4f8b-87f9-bf1f85ee6795",
   "metadata": {},
   "source": [
    "Q3.\n",
    "\n",
    "In a project, you have a list of required skills req_skills, and a list of people. The ith person people[i] contains a list of skills that the person has.\n",
    "\n",
    "Consider a sufficient team: a set of people such that for every required skill in req_skills, there is at least one person in the team who has that skill. We can represent these teams by the index of each person.\n",
    "\n",
    "For example, team = [0, 1, 3] represents the people with skills people[0], people[1], and people[3].\n",
    "Return any sufficient team of the smallest possible size, represented by the index of each person. You may return the answer in any order.\n",
    "\n",
    "It is guaranteed an answer exists.\n",
    "\n",
    "Example 1:\n",
    "\n",
    "Input: req_skills = [\"java\",\"nodejs\",\"reactjs\"], people = [[\"java\"],[\"nodejs\"],[\"nodejs\",\"reactjs\"]]\n",
    "Output: [0,2]\n",
    "\n",
    "Example 2:\n",
    "\n",
    "Input: req_skills = [\"algorithms\",\"math\",\"java\",\"reactjs\",\"csharp\",\"aws\"], people = [[\"algorithms\",\"math\",\"java\"],[\"algorithms\",\"math\",\"reactjs\"],[\"java\",\"csharp\",\"aws\"],[\"reactjs\",\"csharp\"],[\"csharp\",\"math\"],[\"aws\",\"java\"]]\n",
    "Output: [1,2]"
   ]
  },
  {
   "cell_type": "code",
   "execution_count": 54,
   "id": "d7e6dcdf-4131-4753-8f02-205bd5f5bf19",
   "metadata": {},
   "outputs": [
    {
     "name": "stdout",
     "output_type": "stream",
     "text": [
      "[0, 2]\n",
      "[1, 2]\n"
     ]
    }
   ],
   "source": [
    "def get_sufficient_team_size_n(req_skills, people, n):\n",
    "    if n == 1:\n",
    "        for i, person in enumerate(people):\n",
    "            if set(req_skills) <= set(person):\n",
    "                return [i]\n",
    "        return []\n",
    "    suff_team = []\n",
    "    for i, person in enumerate(people):\n",
    "        new_skills = [skill for skill in req_skills if skill not in person]\n",
    "        new_people = people[:i] + [[]] + people[i+1:]\n",
    "        suff_team = get_sufficient_team_size_n(new_skills, new_people, n-1)\n",
    "        if suff_team != []:\n",
    "            suff_team = [i] + suff_team\n",
    "            return suff_team\n",
    "    return suff_team\n",
    "\n",
    "def get_sufficient_team(req_skills, people):\n",
    "    suff_team = []\n",
    "    for i in range(1, len(people)+1):\n",
    "        suff_team = get_sufficient_team_size_n(req_skills[:], people, i)\n",
    "        if suff_team != []:\n",
    "            return suff_team\n",
    "    return suff_team\n",
    "\n",
    "print(get_sufficient_team([\"java\",\"nodejs\",\"reactjs\"]                          , [[\"java\"],[\"nodejs\"],[\"nodejs\",\"reactjs\"]]))\n",
    "print(get_sufficient_team([\"algorithms\",\"math\",\"java\",\"reactjs\",\"csharp\",\"aws\"], [[\"algorithms\",\"math\",\"java\"],[\"algorithms\",\"math\",\"reactjs\"],[\"java\",\"csharp\",\"aws\"],[\"reactjs\",\"csharp\"],[\"csharp\",\"math\"],[\"aws\",\"java\"]]))"
   ]
  },
  {
   "cell_type": "markdown",
   "id": "1d32e72e-e4e8-4332-a298-7502935adf12",
   "metadata": {},
   "source": [
    "Q4.\n",
    "\n",
    "Given an integer n, your task is to count how many strings of length n can be formed under the following rules:\n",
    "\n",
    "- Each character is a lower case vowel ('a', 'e', 'i', 'o', 'u')\n",
    "- Each vowel 'a' may only be followed by an 'e'.\n",
    "- Each vowel 'e' may only be followed by an 'a' or an 'i'.\n",
    "- Each vowel 'i' may not be followed by another 'i'.\n",
    "- Each vowel 'o' may only be followed by an 'i' or a 'u'.\n",
    "- Each vowel 'u' may only be followed by an 'a'.\n",
    "- Since the answer may be too large, return it modulo 10^9 + 7. \n",
    "\n",
    "Example 1:\n",
    "\n",
    "- Input: n = 1\n",
    "- Output: 5\n",
    "- Explanation: All possible strings are: \"a\", \"e\", \"i\" , \"o\" and \"u\".\n",
    "\n",
    "Example 2:\n",
    "\n",
    "- Input: n = 2\n",
    "- Output: 10\n",
    "- Explanation: All possible strings are: \"ae\", \"ea\", \"ei\", \"ia\", \"ie\", \"io\", \"iu\", \"oi\", \"ou\" and \"ua\".\n",
    "\n",
    "Example 3: \n",
    "- Input: n = 5\n",
    "- Output: 68"
   ]
  },
  {
   "cell_type": "code",
   "execution_count": 71,
   "id": "29461fe5-3440-4a4b-9093-d1ba173cef02",
   "metadata": {},
   "outputs": [
    {
     "data": {
      "text/plain": [
       "1250"
      ]
     },
     "execution_count": 71,
     "metadata": {},
     "output_type": "execute_result"
    }
   ],
   "source": [
    "def count_strings_length_n(n, prev=''):\n",
    "    chars = {'a':1, 'e':2, 'i':4, 'o':2, 'u':1}\n",
    "    \n",
    "    if n == 1:\n",
    "        return len(chars) if prev == '' else chars[prev]\n",
    "    \n",
    "    summ = 0\n",
    "    for char in chars.keys():\n",
    "        summ += count_strings_length_n(n - 1, prev=char)\n",
    "        \n",
    "    return summ\n",
    "    \n",
    "count_strings_length_n(5)"
   ]
  }
 ],
 "metadata": {
  "kernelspec": {
   "display_name": "Python 3 (ipykernel)",
   "language": "python",
   "name": "python3"
  },
  "language_info": {
   "codemirror_mode": {
    "name": "ipython",
    "version": 3
   },
   "file_extension": ".py",
   "mimetype": "text/x-python",
   "name": "python",
   "nbconvert_exporter": "python",
   "pygments_lexer": "ipython3",
   "version": "3.11.5"
  }
 },
 "nbformat": 4,
 "nbformat_minor": 5
}
