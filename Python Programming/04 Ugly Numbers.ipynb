{
 "cells": [
  {
   "cell_type": "markdown",
   "id": "aff2f701-2732-44bd-8349-042d66751b9e",
   "metadata": {},
   "source": [
    "#### Author: Ernie Sumoso"
   ]
  },
  {
   "cell_type": "markdown",
   "id": "f186cde7-266f-4c0a-a65b-54c75d081b5c",
   "metadata": {},
   "source": [
    "1-Write a Python program to check a sequence of numbers is an arithmetic progression or not.\n",
    "\n",
    "Input : [5, 7, 9, 11]\n",
    "\n",
    "Output : True\n",
    "\n",
    "In mathematics, an arithmetic progression or arithmetic sequence is a sequence of numbers such that the difference between the consecutive terms is constant.\n",
    "For example, the sequence 5, 7, 9, 11, 13, 15 ... is an arithmetic progression with common difference of 2.\n"
   ]
  },
  {
   "cell_type": "code",
   "execution_count": 1,
   "id": "47a862e8-ba58-45f2-950a-1206b3e2cfe6",
   "metadata": {
    "tags": []
   },
   "outputs": [
    {
     "name": "stdout",
     "output_type": "stream",
     "text": [
      "True\n",
      "False\n"
     ]
    }
   ],
   "source": [
    "def is_arithmetic_progression(nums):\n",
    "    if len(nums) < 3: return False\n",
    "    cons = nums[1] - nums[0]\n",
    "    for i in range(len(nums)-1):\n",
    "        diff = nums[i+1] - nums[i]\n",
    "        if diff != cons: return False\n",
    "    return True\n",
    "\n",
    "print(is_arithmetic_progression([5, 7, 9, 11]))\n",
    "print(is_arithmetic_progression([5, 7, 9, 11, 12]))"
   ]
  },
  {
   "cell_type": "markdown",
   "id": "406d56bd-d8a0-46b7-b4f1-d2c33077f7bc",
   "metadata": {},
   "source": [
    "2-Write a Python program to check whether a given number is an ugly number. \n",
    "\n",
    "Input : 12\n",
    "\n",
    "Output : True\n",
    "\n",
    "Ugly numbers are positive numbers whose only prime factors are 2, 3 or 5. The sequence 1, 2, 3, 4, 5, 6, 8, 9, 10, 12, ...\n",
    "shows the first 10 ugly numbers.\n",
    "\n",
    "Note: 1 is typically treated as an ugly number"
   ]
  },
  {
   "cell_type": "code",
   "execution_count": 2,
   "id": "2074f026-4ae0-4915-a1d8-369ce41b4f21",
   "metadata": {
    "tags": []
   },
   "outputs": [
    {
     "name": "stdout",
     "output_type": "stream",
     "text": [
      "1 2 3 4 5 6 8 9 10 12 "
     ]
    }
   ],
   "source": [
    "def is_ugly(num):\n",
    "    while num % 2 == 0: num /= 2\n",
    "    while num % 3 == 0: num /= 3\n",
    "    while num % 5 == 0: num /= 5\n",
    "    return num == 1\n",
    "\n",
    "def find_n_first_uglies(n):\n",
    "    for i in range(1, n+1):\n",
    "        is_it = is_ugly(i)\n",
    "        print(is_it*str(i), end=' '*is_it)\n",
    "\n",
    "find_n_first_uglies(12)"
   ]
  },
  {
   "cell_type": "markdown",
   "id": "c4f9e5f8-0fe3-4936-bac2-467094e76ee6",
   "metadata": {},
   "source": [
    "3-Write a Python Function to find the single number in a list that doesn't occur n times.\n",
    "\n",
    "Input : [5, 3,3,4, 4, 3, 4], N=3\n",
    "\n",
    "Output : 5"
   ]
  },
  {
   "cell_type": "code",
   "execution_count": 6,
   "id": "f74fe784-fe2e-4137-88b4-530de36e4af4",
   "metadata": {
    "tags": []
   },
   "outputs": [
    {
     "data": {
      "text/plain": [
       "5"
      ]
     },
     "execution_count": 6,
     "metadata": {},
     "output_type": "execute_result"
    }
   ],
   "source": [
    "def find_single_in_n_reps(nums, n):\n",
    "    counts = {}\n",
    "    for num in nums:\n",
    "        counts[num] = counts.get(num, 0) + 1\n",
    "    for key in counts:\n",
    "        if counts[key] != n:\n",
    "            return key\n",
    "    return -1\n",
    "\n",
    "find_single_in_n_reps([5, 3, 3, 4, 4, 3, 4], 3)"
   ]
  }
 ],
 "metadata": {
  "kernelspec": {
   "display_name": "Python 3 (ipykernel)",
   "language": "python",
   "name": "python3"
  },
  "language_info": {
   "codemirror_mode": {
    "name": "ipython",
    "version": 3
   },
   "file_extension": ".py",
   "mimetype": "text/x-python",
   "name": "python",
   "nbconvert_exporter": "python",
   "pygments_lexer": "ipython3",
   "version": "3.11.5"
  }
 },
 "nbformat": 4,
 "nbformat_minor": 5
}
