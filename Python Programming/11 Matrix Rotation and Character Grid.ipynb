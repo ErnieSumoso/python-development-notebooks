{
 "cells": [
  {
   "cell_type": "markdown",
   "id": "2a5417b8-8a71-4915-9e45-9257025a38d9",
   "metadata": {
    "tags": []
   },
   "source": [
    "#### Author: Ernie Sumoso"
   ]
  },
  {
   "cell_type": "markdown",
   "id": "6af015ea-94d1-4280-99a3-a1cd98a7e12f",
   "metadata": {},
   "source": [
    "Q1Given a signed 32-bit integer x, return x with its digits reversed. If reversing x causes the value to go outside the signed 32-bit integer range [-231, 231 - 1], then return 0.\n",
    "\n",
    "Assume the environment does not allow you to store 64-bit integers (signed or unsigned).\n",
    "\n",
    "Example 1:\n",
    "\n",
    "Input: x = 123\n",
    "\n",
    "Output: 321"
   ]
  },
  {
   "cell_type": "code",
   "execution_count": 29,
   "id": "ef6201d1-2ae9-4a05-83c6-5504332def92",
   "metadata": {},
   "outputs": [
    {
     "name": "stdout",
     "output_type": "stream",
     "text": [
      "321\n",
      "-51082\n",
      "0\n"
     ]
    }
   ],
   "source": [
    "def return_32bit_int_reversed(num):\n",
    "    MIN, MAX = - 2**31, 2 ** 31 - 1\n",
    "    rev = -int(str(num)[1:][::-1]) if num < 0 else int(str(num)[::-1])\n",
    "    return rev if rev >= MIN and rev <= MAX else 0\n",
    "\n",
    "print(return_32bit_int_reversed(123))\n",
    "print(return_32bit_int_reversed(-28015))\n",
    "print(return_32bit_int_reversed(8980102815))"
   ]
  },
  {
   "cell_type": "markdown",
   "id": "8159bcb7-f682-4877-a77f-141426a23d19",
   "metadata": {},
   "source": [
    "Q2 You are given an n x n 2D matrix representing an image, rotate the image by 90 degrees (clockwise).\n",
    "\n",
    "You have to rotate the image in-place, which means you have to modify the input 2D matrix directly. DO NOT allocate another 2D matrix and do the rotation.\n",
    "\n",
    "Input: matrix = [[1,2,3],[4,5,6],[7,8,9]]\n",
    "\n",
    "Output: [[7,4,1],[8,5,2],[9,6,3]]"
   ]
  },
  {
   "cell_type": "code",
   "execution_count": 21,
   "id": "ad469086-9488-4c83-bc3f-55e5af2fd973",
   "metadata": {
    "tags": []
   },
   "outputs": [
    {
     "data": {
      "text/plain": [
       "[[7, 4, 1], [8, 5, 2], [9, 6, 3]]"
      ]
     },
     "execution_count": 21,
     "metadata": {},
     "output_type": "execute_result"
    }
   ],
   "source": [
    "def rotate_matrix(matrix, sdi = 0): # sdi = start diagonal index\n",
    "    rotation_size = len(matrix) - 1 - sdi\n",
    "    if sdi == rotation_size: # rotate 1x1 matrix\n",
    "        return\n",
    "    if sdi + 1 == rotation_size: # rotate 2x2 matrix\n",
    "        matrix[sdi][sdi], matrix[sdi][sdi + 1] = matrix[sdi][sdi + 1], matrix[sdi][sdi]\n",
    "        matrix[sdi][sdi], matrix[sdi + 1][sdi + 1] = matrix[sdi + 1][sdi + 1], matrix[sdi][sdi]\n",
    "        matrix[sdi][sdi], matrix[sdi + 1][sdi] = matrix[sdi + 1][sdi], matrix[sdi][sdi]\n",
    "        return\n",
    "    # rotate >=3x3 matrix\n",
    "    n = len(matrix[0]) - 2 * sdi # n = len of row to rotate\n",
    "    for i in range(n-1):  # [0, 1, 2, ... n-2, n-1, n]  from 0 to n-1 on the matrix row\n",
    "        matrix[sdi][sdi+i], matrix[sdi+i][n-1-sdi] = matrix[sdi+i][n-1-sdi], matrix[sdi][sdi+i]\n",
    "        matrix[sdi][sdi+i], matrix[n-1-sdi][n-1-sdi-i] = matrix[n-1][n-1-sdi-i], matrix[sdi][sdi+i]\n",
    "        matrix[sdi][sdi+i], matrix[n-1-sdi-i][sdi] = matrix[n-1-sdi-i][sdi], matrix[sdi][sdi+i]\n",
    "    \n",
    "    rotate_matrix(matrix, sdi + 1)\n",
    "    return\n",
    "\n",
    "matrix = [[1,2,3],[4,5,6],[7,8,9]]\n",
    "rotate_matrix(matrix)\n",
    "matrix"
   ]
  },
  {
   "cell_type": "markdown",
   "id": "fcdfd5e3-b8f6-4a68-bd95-b32a763646d1",
   "metadata": {},
   "source": [
    "Q3 Given an m x n grid of characters board and a string word, return true if word exists in the grid.\n",
    "\n",
    "The word can be constructed from letters of sequentially adjacent cells, where adjacent cells are horizontally or vertically neighboring.\n",
    "\n",
    "The same letter cell may not be used more than once.\n",
    "\n",
    "Input: board = [[\"A\",\"B\",\"C\",\"E\"],[\"S\",\"F\",\"C\",\"S\"],[\"A\",\"D\",\"E\",\"E\"]], word = \"ABCCED\"\n",
    "\n",
    "Output: true"
   ]
  },
  {
   "cell_type": "code",
   "execution_count": 78,
   "id": "b7853b48-8f63-4167-9e5f-c09e9ad78f23",
   "metadata": {
    "tags": []
   },
   "outputs": [
    {
     "data": {
      "text/plain": [
       "True"
      ]
     },
     "execution_count": 78,
     "metadata": {},
     "output_type": "execute_result"
    }
   ],
   "source": [
    "def get_neighbours(board, i, j):\n",
    "    rows = len(board) # 3\n",
    "    cols = len(board[0]) # 4\n",
    "    ns = [] # neighbours: [top, bottom, left, right]\n",
    "    ns.append(board[i-1][j] if i-1 >= 0 else \"\")\n",
    "    ns.append(board[i+1][j] if i+1 < rows else \"\")\n",
    "    ns.append(board[i][j-1] if j-1 >= 0 else \"\")\n",
    "    ns.append(board[i][j+1] if j+1 < cols else \"\")\n",
    "    return ns\n",
    "\n",
    "def update_indexes(i, j, ns_index):\n",
    "    d = {\n",
    "        0: (i-1, j),\n",
    "        1: (i+1, j),\n",
    "        2: (i, j-1),\n",
    "        3: (i, j+1)\n",
    "    }\n",
    "    return ns_index in d, *d.get(ns_index, (i, j))\n",
    "\n",
    "# get_neighbours([[\"A\",\"B\",\"C\",\"E\"],[\"S\",\"F\",\"C\",\"S\"],[\"A\",\"D\",\"E\",\"E\"]], 1, 2)\n",
    "\n",
    "def find_word_in_board(board, word, i=0, j=0): # i = start search row, j = start search column\n",
    "    i_word, updated = 1, True\n",
    "    if word[0] != board[i][j]:\n",
    "        return False\n",
    "    while i_word < len(word) and updated:\n",
    "        letter = word[i_word]\n",
    "        ns = get_neighbours(board, i, j)\n",
    "        ns_index = ns.index(letter) if letter in ns else -1\n",
    "        # print(update_indexes(i, j, ns_index))\n",
    "        updated, i, j = update_indexes(i, j, ns_index)\n",
    "        i_word += 1\n",
    "    return i_word == len(word) and updated\n",
    "    \n",
    "find_word_in_board([[\"A\",\"B\",\"C\",\"E\"],[\"S\",\"F\",\"C\",\"S\"],[\"A\",\"D\",\"E\",\"E\"]], \"ABCCED\")"
   ]
  }
 ],
 "metadata": {
  "kernelspec": {
   "display_name": "Python 3 (ipykernel)",
   "language": "python",
   "name": "python3"
  },
  "language_info": {
   "codemirror_mode": {
    "name": "ipython",
    "version": 3
   },
   "file_extension": ".py",
   "mimetype": "text/x-python",
   "name": "python",
   "nbconvert_exporter": "python",
   "pygments_lexer": "ipython3",
   "version": "3.11.5"
  }
 },
 "nbformat": 4,
 "nbformat_minor": 5
}
