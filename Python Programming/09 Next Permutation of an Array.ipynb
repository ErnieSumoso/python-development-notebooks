{
 "cells": [
  {
   "cell_type": "markdown",
   "id": "30e18977-5edb-4cc6-8b44-55daaabd0e87",
   "metadata": {},
   "source": [
    "#### Author: Ernie Sumoso"
   ]
  },
  {
   "cell_type": "markdown",
   "id": "64f12dd2-6a3b-4e12-82b2-d888f9bb2405",
   "metadata": {
    "tags": []
   },
   "source": [
    "Q1 - You are given two integer arrays nums1 and nums2, sorted in non-decreasing order, and two integers m and n, representing the number of elements in nums1 and nums2 respectively.\n",
    "\n",
    "Merge nums1 and nums2 into a single array sorted in non-decreasing order.\n",
    "\n",
    "The final sorted array should not be returned by the function, but instead be stored inside the array nums1. To accommodate this, nums1 has a length of m + n, where the first m elements denote the elements that should be merged, and the last n elements are set to 0 and should be ignored. nums2 has a length of n.\n",
    "\n",
    "Example 1:\n",
    "\n",
    "Input: nums1 = [1,2,3,0,0,0], m = 3, nums2 = [2,5,6], n = 3\n",
    "\n",
    "Output: [1,2,2,3,5,6]\n",
    "\n",
    "Explanation: The arrays we are merging are [1,2,3] and [2,5,6].\n",
    "\n",
    "The result of the merge is [1,2,2,3,5,6] with the underlined elements coming from nums1."
   ]
  },
  {
   "cell_type": "code",
   "execution_count": 14,
   "id": "3009f003-0878-469c-8224-5d4d54878e4a",
   "metadata": {
    "tags": []
   },
   "outputs": [
    {
     "data": {
      "text/plain": [
       "[1, 2, 2, 3, 5, 6]"
      ]
     },
     "execution_count": 14,
     "metadata": {},
     "output_type": "execute_result"
    }
   ],
   "source": [
    "def get_sorted_array(nums1, m, nums2, n):\n",
    "    j = 0\n",
    "    for i in range(len(nums1)):\n",
    "        if j >= n: break\n",
    "        if nums2[j] < nums1[i] or nums1[i] == 0:\n",
    "            nums1[i+1:] = nums1[i:len(nums1)-1]\n",
    "            nums1[i] = nums2[j]\n",
    "            j += 1\n",
    "    return nums1\n",
    "            \n",
    "get_sorted_array([1,2,3,0,0,0], 3, [2,5,6], 3)"
   ]
  },
  {
   "cell_type": "markdown",
   "id": "cbaabc09-001b-4dec-b0f2-5a9dea82a53a",
   "metadata": {},
   "source": [
    "Q2- Given an input string s and a pattern p, implement regular expression matching with support for '.' and '*' where:\n",
    "\n",
    "'.' Matches any single character.​​​​\n",
    "'*' Matches zero or more of the preceding element.\n",
    "The matching should cover the entire input string (not partial).\n",
    "\n",
    "Example 1: Input: s = \"aa\", p = \"a\"\n",
    "\n",
    "Output: false\n",
    "\n",
    "Explanation: \"a\" does not match the entire string \"aa\".\n",
    "\n",
    "Example 2: Input: s = \"aa\", p = \"a*\"\n",
    "\n",
    "Output: true\n",
    "\n",
    "Explanation: '*' means zero or more of the preceding element, 'a'. Therefore, by repeating 'a' once, it becomes \"aa\"."
   ]
  },
  {
   "cell_type": "code",
   "execution_count": 18,
   "id": "c601bfe8-8f68-4208-b06c-9ded5230ea25",
   "metadata": {
    "tags": []
   },
   "outputs": [
    {
     "name": "stdout",
     "output_type": "stream",
     "text": [
      "False\n",
      "True\n",
      "True\n",
      "True\n",
      "False\n"
     ]
    }
   ],
   "source": [
    "# Question D solution\n",
    "def is_only_char(text, char):\n",
    "    if char == '.': return True\n",
    "    for ch in text:\n",
    "        if ch != char:\n",
    "            return False\n",
    "    return True\n",
    "def is_pattern_found(s, p, prev=''):\n",
    "    # print(s, p, prev)\n",
    "    if len(p) == 1:\n",
    "        if p[0] == '.' and len(s) > 1:\n",
    "            return False\n",
    "        if p[0] == '.' and len(s) == 1:\n",
    "            return True\n",
    "        if p[0] == '*' and prev != '' and is_only_char(s, prev):\n",
    "            return True\n",
    "        if p[0] == '*' and prev == '.':\n",
    "            return True\n",
    "        if p[0] != s[0]:\n",
    "            return False\n",
    "        if len(p) != len(s):\n",
    "            return False\n",
    "        return True\n",
    "    if p[0] == '.':\n",
    "        return is_pattern_found(s[1:], p[1:], '.')\n",
    "    if p[0] == '*' and prev == '.' and len(p) >= 2 and s[0] == p[1]:\n",
    "        return is_pattern_found(s[1:], p[2:])\n",
    "    if p[0] == '*' and prev == '.':\n",
    "        return is_pattern_found(s[1:], p, '.')\n",
    "    if p[0] == '*':\n",
    "        return is_pattern_found(s[1:], p[1:], p[0] if p[0] != '*' else '')\n",
    "    if s[0] != p[0] and p[0] != '.':\n",
    "        return False\n",
    "    return is_pattern_found(s[1:], p[1:], p[0])\n",
    "\n",
    "print(is_pattern_found('aa', 'a'))\n",
    "print(is_pattern_found('aa', 'a*'))\n",
    "print(is_pattern_found('ab', '.*'))\n",
    "print(is_pattern_found('Lorem Ipsum, hello my friend', '.*hello.*'))\n",
    "print(is_pattern_found('Lorem Ipsum, hello my friend', '.*hello'))"
   ]
  },
  {
   "cell_type": "markdown",
   "id": "a8ba83d5-adeb-45d2-9e87-d79366835e40",
   "metadata": {},
   "source": [
    "Q3- A permutation of an array of integers is an arrangement of its members into a sequence or linear order.\n",
    "\n",
    "For example, for arr = [1,2,3], the following are considered permutations of arr: [1,2,3], [1,3,2], [3,1,2], [2,3,1].\n",
    "The next permutation of an array of integers is the next lexicographically greater permutation of its integer. More formally, if all the permutations of the array are sorted in one container according to their lexicographical order, then the next permutation of that array is the permutation that follows it in the sorted container. If such arrangement is not possible, the array must be rearranged as the lowest possible order (i.e., sorted in ascending order).\n",
    "\n",
    "For example, the next permutation of arr = [1,2,3] is [1,3,2].\n",
    "Similarly, the next permutation of arr = [2,3,1] is [3,1,2].\n",
    "While the next permutation of arr = [3,2,1] is [1,2,3] because [3,2,1] does not have a lexicographical larger rearrangement.\n",
    "Given an array of integers nums, find the next permutation of nums.\n",
    "\n",
    "The replacement must be in place and use only constant extra memory.\n",
    "\n",
    " Example 1:\n",
    "\n",
    "Input: nums = [1,2,3]\n",
    "Output: [1,3,2]"
   ]
  },
  {
   "cell_type": "code",
   "execution_count": 56,
   "id": "7143f087-5a1f-4baf-8b5f-675f948a185d",
   "metadata": {},
   "outputs": [
    {
     "data": {
      "text/plain": [
       "[1, 3, 2]"
      ]
     },
     "execution_count": 56,
     "metadata": {},
     "output_type": "execute_result"
    }
   ],
   "source": [
    "def get_permutations(nums):\n",
    "    perms = []\n",
    "    perm = nums[:]\n",
    "    i,j = 0,1\n",
    "    while perm not in perms:\n",
    "        perms.append(perm[:])\n",
    "        perm[i], perm[j] = perm[j], perm[i]\n",
    "        i += 1\n",
    "        j += 1\n",
    "        if i == len(nums): i = 0\n",
    "        if j == len(nums): j = 0\n",
    "    return perms\n",
    "    \n",
    "def get_next_permutation(perm):\n",
    "    perms = sorted(get_permutations(perm))\n",
    "    return perms[perms.index(perm) + 1]\n",
    "\n",
    "get_next_permutation([1, 2, 3])"
   ]
  }
 ],
 "metadata": {
  "kernelspec": {
   "display_name": "Python 3 (ipykernel)",
   "language": "python",
   "name": "python3"
  },
  "language_info": {
   "codemirror_mode": {
    "name": "ipython",
    "version": 3
   },
   "file_extension": ".py",
   "mimetype": "text/x-python",
   "name": "python",
   "nbconvert_exporter": "python",
   "pygments_lexer": "ipython3",
   "version": "3.11.5"
  }
 },
 "nbformat": 4,
 "nbformat_minor": 5
}
