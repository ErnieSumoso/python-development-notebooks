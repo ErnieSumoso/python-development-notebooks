{
 "cells": [
  {
   "cell_type": "markdown",
   "id": "36ad5f23-55ba-4f39-af6f-1c57313be1da",
   "metadata": {},
   "source": [
    "#### Author: Ernie Sumoso"
   ]
  },
  {
   "cell_type": "markdown",
   "id": "acb96aab-6630-46c5-9c3b-8df318093ab8",
   "metadata": {},
   "source": [
    "A - Write a Python program to find the single element in a list where every element appears multiple times except for one.\n",
    "\n",
    "Input : [5, 3, 4, 3, 5, 5, 3],\n",
    "\n",
    "Output : 4\n",
    "\n",
    " \n",
    "\n",
    "B - Write a Python program to compute and return the square root of a given 'integer'. \n",
    "\n",
    "Input : 16\n",
    "\n",
    "Output : 4\n",
    "\n",
    "Note : The returned value will be an 'integer', do not use square root functions from python.\n",
    "\n",
    " \n",
    "\n",
    "C - Write a Python program to check a sequence of numbers is a geometric progression or not. \n",
    "\n",
    "Input : [2, 6, 18, 54]\n",
    "\n",
    "Output : True"
   ]
  },
  {
   "cell_type": "markdown",
   "id": "5fa1ac37-9edc-45a1-b35c-598b80baa51a",
   "metadata": {},
   "source": [
    "Extra questions:\n",
    "\n",
    "D - Given an input string s and a pattern p, implement regular expression matching with support for '.' and '*' where:\n",
    "\n",
    "'.' Matches any single character.\n",
    "\n",
    "'*' Matches zero or more of the preceding element.\n",
    "\n",
    "The matching should cover the entire input string (not partial).\n",
    "\n",
    "E - You are given a 0-indexed integer array nums having length n, an integer indexDifference, and an integer valueDifference.\n",
    "\n",
    "Your task is to find two indices i and j, both in the range [0, n - 1], that satisfy the following conditions:\n",
    "\n",
    "abs(i - j) >= indexDifference, and\n",
    "\n",
    "abs(nums[i] - nums[j]) >= valueDifference\n",
    "\n",
    "Return an integer array answer, where answer = [i, j] if there are two such indices, and answer = [-1, -1] otherwise. If there are multiple \n",
    "\n",
    "choices for the two indices, return any of them.\n",
    "\n",
    "Note: i and j may be equal."
   ]
  },
  {
   "cell_type": "code",
   "execution_count": 1,
   "id": "2d329660-3798-4fd2-b9f3-62341728dfab",
   "metadata": {
    "tags": []
   },
   "outputs": [
    {
     "data": {
      "text/plain": [
       "4"
      ]
     },
     "execution_count": 1,
     "metadata": {},
     "output_type": "execute_result"
    }
   ],
   "source": [
    "# Question A solution\n",
    "def find_single_element(lst):\n",
    "    nums = {}\n",
    "    for num in lst:\n",
    "        if num in nums:\n",
    "            nums[num] += 1\n",
    "            continue\n",
    "        nums[num] = 1\n",
    "    return -1 if lst == [] else list(nums.keys())[list(nums.values()).index(1)]\n",
    "\n",
    "find_single_element([5, 3, 4, 3, 5, 5, 3])"
   ]
  },
  {
   "cell_type": "code",
   "execution_count": 2,
   "id": "c80dfc38-0052-42ed-80ca-c0c2dd7d1700",
   "metadata": {
    "tags": []
   },
   "outputs": [
    {
     "data": {
      "text/plain": [
       "4"
      ]
     },
     "execution_count": 2,
     "metadata": {},
     "output_type": "execute_result"
    }
   ],
   "source": [
    "# Question B solution\n",
    "def perfect_sqrt(x):\n",
    "    low = 0\n",
    "    high = x\n",
    "    while low <= high:\n",
    "        mid = (low + high) // 2\n",
    "        if mid ** 2 == x:\n",
    "            return mid\n",
    "        if mid ** 2 > x:\n",
    "            high = mid - 1\n",
    "        else:\n",
    "            low = mid + 1\n",
    "    return max(0, min(low, high))\n",
    "\n",
    "perfect_sqrt(16)"
   ]
  },
  {
   "cell_type": "code",
   "execution_count": 3,
   "id": "df8da130-5cb4-45f8-b572-3bfe170a01f1",
   "metadata": {
    "tags": []
   },
   "outputs": [
    {
     "data": {
      "text/plain": [
       "True"
      ]
     },
     "execution_count": 3,
     "metadata": {},
     "output_type": "execute_result"
    }
   ],
   "source": [
    "# Question C solution\n",
    "def is_geometric_progression(lst):\n",
    "    if len(lst) < 2:\n",
    "        return False\n",
    "    prev_ratio, ratio = 0, lst[1] / lst[0]\n",
    "    for i in range(len(lst)-1):\n",
    "        prev_ratio = ratio\n",
    "        ratio = lst[i+1] / lst[i]\n",
    "        if prev_ratio != ratio:\n",
    "            return False\n",
    "    return True\n",
    "\n",
    "is_geometric_progression([2, 6, 18, 54])"
   ]
  },
  {
   "cell_type": "code",
   "execution_count": 114,
   "id": "fe6de440-fef6-45fb-b344-4115ba1327b5",
   "metadata": {
    "tags": []
   },
   "outputs": [
    {
     "name": "stdout",
     "output_type": "stream",
     "text": [
      "False\n",
      "True\n",
      "True\n",
      "True\n",
      "False\n"
     ]
    }
   ],
   "source": [
    "# Question D solution\n",
    "def is_only_char(text, char):\n",
    "    if char == '.': return True\n",
    "    for ch in text:\n",
    "        if ch != char:\n",
    "            return False\n",
    "    return True\n",
    "def is_pattern_found(s, p, prev=''):\n",
    "    # print(s, p, prev)\n",
    "    if len(p) == 1:\n",
    "        if p[0] == '.' and len(s) > 1: return False\n",
    "        if p[0] == '.' and len(s) == 1: return True\n",
    "        if p[0] == '*' and prev != '' and is_only_char(s, prev): return True\n",
    "        if p[0] == '*' and prev == '.': return True\n",
    "        if p[0] != s[0]: return False\n",
    "        if len(p) != len(s): return False\n",
    "        return True\n",
    "    if p[0] == '.': return is_pattern_found(s[1:], p[1:], '.')\n",
    "    if p[0] == '*' and prev == '.' and len(p) >= 2 and s[0] == p[1]: return is_pattern_found(s[1:], p[2:])\n",
    "    if p[0] == '*' and prev == '.': return is_pattern_found(s[1:], p, '.')\n",
    "    if p[0] == '*': return is_pattern_found(s[1:], p[1:], p[0] if p[0] != '*' else '')\n",
    "    if s[0] != p[0] and p[0] != '.': return False\n",
    "    return is_pattern_found(s[1:], p[1:], p[0])\n",
    "\n",
    "print(is_pattern_found('aa', 'a'))\n",
    "print(is_pattern_found('aa', 'a*'))\n",
    "print(is_pattern_found('ab', '.*'))\n",
    "print(is_pattern_found('Lorem Ipsum, hello my friend', '.*hello.*'))\n",
    "print(is_pattern_found('Lorem Ipsum, hello my friend', '.*hello'))"
   ]
  },
  {
   "cell_type": "code",
   "execution_count": 102,
   "id": "b0dff656-504d-4e09-a77c-64c1d56ffe2b",
   "metadata": {
    "tags": []
   },
   "outputs": [
    {
     "name": "stdout",
     "output_type": "stream",
     "text": [
      "[3, 0]\n",
      "[0, 0]\n",
      "[-1, -1]\n"
     ]
    }
   ],
   "source": [
    "# Question E solution\n",
    "def find_two_indexes(nums, indexDifference, valueDifference):\n",
    "    for i in range(len(nums)):\n",
    "        for j in range(len(nums)):\n",
    "            if abs(i-j) >= indexDifference and abs(nums[i] - nums[j]) >= valueDifference:\n",
    "                return [j, i]\n",
    "    return [-1, -1]\n",
    "\n",
    "print(find_two_indexes([5,1,4,1], 2, 4))\n",
    "print(find_two_indexes([2,1], 0, 0))\n",
    "print(find_two_indexes([1,2,3], 2, 4))"
   ]
  }
 ],
 "metadata": {
  "kernelspec": {
   "display_name": "Python 3 (ipykernel)",
   "language": "python",
   "name": "python3"
  },
  "language_info": {
   "codemirror_mode": {
    "name": "ipython",
    "version": 3
   },
   "file_extension": ".py",
   "mimetype": "text/x-python",
   "name": "python",
   "nbconvert_exporter": "python",
   "pygments_lexer": "ipython3",
   "version": "3.11.5"
  }
 },
 "nbformat": 4,
 "nbformat_minor": 5
}
