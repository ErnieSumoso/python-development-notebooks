{
 "cells": [
  {
   "cell_type": "markdown",
   "id": "6c5059ab-9c27-41c0-bd8e-5aaff693de1c",
   "metadata": {},
   "source": [
    "#### Author: Ernie Sumoso"
   ]
  },
  {
   "cell_type": "code",
   "execution_count": 29,
   "id": "05c18bdb-805a-443f-bee1-196926d4ad60",
   "metadata": {
    "tags": []
   },
   "outputs": [
    {
     "name": "stdout",
     "output_type": "stream",
     "text": [
      "\n",
      "Inventory Management System\n",
      "1. Add item\n",
      "2. Remove item\n",
      "3. Search for item\n",
      "4. Display total number of items\n",
      "5. Exit\n"
     ]
    },
    {
     "name": "stdin",
     "output_type": "stream",
     "text": [
      " 1\n",
      "What item do you want to add? apples\n",
      "How many of them? 5\n"
     ]
    },
    {
     "name": "stdout",
     "output_type": "stream",
     "text": [
      "apples: 5\n"
     ]
    },
    {
     "name": "stdin",
     "output_type": "stream",
     "text": [
      " 1\n",
      "What item do you want to add? oranges\n",
      "How many of them? 2\n"
     ]
    },
    {
     "name": "stdout",
     "output_type": "stream",
     "text": [
      "apples: 5\n",
      "oranges: 2\n"
     ]
    },
    {
     "name": "stdin",
     "output_type": "stream",
     "text": [
      " 2\n",
      "What item do you want to remove? apples\n",
      "How many of them? 2\n"
     ]
    },
    {
     "name": "stdout",
     "output_type": "stream",
     "text": [
      "apples: 3\n",
      "oranges: 2\n"
     ]
    },
    {
     "name": "stdin",
     "output_type": "stream",
     "text": [
      " 2\n",
      "What item do you want to remove? oranges\n",
      "How many of them? 2\n"
     ]
    },
    {
     "name": "stdout",
     "output_type": "stream",
     "text": [
      "apples: 3\n",
      "oranges: 0\n"
     ]
    },
    {
     "name": "stdin",
     "output_type": "stream",
     "text": [
      " 3\n",
      "What item do you want to search? apples\n"
     ]
    },
    {
     "name": "stdout",
     "output_type": "stream",
     "text": [
      "You have 3 of apples\n"
     ]
    },
    {
     "name": "stdin",
     "output_type": "stream",
     "text": [
      " 3\n",
      "What item do you want to search? oranges\n"
     ]
    },
    {
     "name": "stdout",
     "output_type": "stream",
     "text": [
      "You have 0 of oranges\n"
     ]
    },
    {
     "name": "stdin",
     "output_type": "stream",
     "text": [
      " 3\n",
      "What item do you want to search? bananas\n"
     ]
    },
    {
     "name": "stdout",
     "output_type": "stream",
     "text": [
      "There is no bananas in your inventory.\n"
     ]
    },
    {
     "name": "stdin",
     "output_type": "stream",
     "text": [
      " 4\n"
     ]
    },
    {
     "name": "stdout",
     "output_type": "stream",
     "text": [
      "The total number of items are 2\n"
     ]
    },
    {
     "name": "stdin",
     "output_type": "stream",
     "text": [
      " 5\n"
     ]
    },
    {
     "name": "stdout",
     "output_type": "stream",
     "text": [
      "Please try again.\n"
     ]
    }
   ],
   "source": [
    "def display_inventory(inv):\n",
    "    for item, quantity in inv.items():\n",
    "        print(f\"{item}: {quantity}\")\n",
    "    return\n",
    "\n",
    "def ask_quantity():\n",
    "    quantity = input(\"How many of them?\")\n",
    "    return quantity\n",
    "\n",
    "def add_item(inv):\n",
    "    item = input(\"What item do you want to add?\")\n",
    "    quantity = ask_quantity()\n",
    "    inv[item] = quantity\n",
    "    display_inventory(inv)\n",
    "\n",
    "def remove_item(inv):\n",
    "    item = input(\"What item do you want to remove?\")\n",
    "    quantity = ask_quantity()\n",
    "    if item in inv and quantity <= inv[item]:\n",
    "        inv[item] = int(inv[item]) - int(quantity)\n",
    "    elif item in inv and quantity > inv[item]:\n",
    "        print(f\"You can not remove {quantity} from {item}, there is just {inv[item]}\")\n",
    "    elif item not in inv:\n",
    "        print(f\"There is no {item} in your inventory.\")\n",
    "    display_inventory(inv)\n",
    "\n",
    "def search_item(inv):\n",
    "    item = input(\"What item do you want to search?\")\n",
    "    if item in inv:\n",
    "        print(f\"You have {inv[item]} of {item}\")\n",
    "    else:\n",
    "        print(f\"There is no {item} in your inventory.\")\n",
    "\n",
    "def display_total_number_items(inv):\n",
    "    print(f\"The total number of items are {len(inv)}\")\n",
    "\n",
    "def display_menu():\n",
    "    inventory={}\n",
    "    print(\"\\nInventory Management System\") \n",
    "    print(\"1. Add item\")\n",
    "    print(\"2. Remove item\")\n",
    "    print(\"3. Search for item\")\n",
    "    print(\"4. Display total number of items\")\n",
    "    print(\"5. Exit\")\n",
    "    option = \"\"\n",
    "    while option != \"5\":\n",
    "        option = input()\n",
    "        if option == \"1\":\n",
    "            add_item(inventory)\n",
    "        elif option == \"2\":\n",
    "            remove_item(inventory)\n",
    "        elif option == \"3\":\n",
    "            search_item(inventory)\n",
    "        elif option == \"4\":\n",
    "            display_total_number_items(inventory)\n",
    "        else:\n",
    "            print(\"Please try again.\")\n",
    "\n",
    "display_menu()"
   ]
  }
 ],
 "metadata": {
  "kernelspec": {
   "display_name": "Python 3 (ipykernel)",
   "language": "python",
   "name": "python3"
  },
  "language_info": {
   "codemirror_mode": {
    "name": "ipython",
    "version": 3
   },
   "file_extension": ".py",
   "mimetype": "text/x-python",
   "name": "python",
   "nbconvert_exporter": "python",
   "pygments_lexer": "ipython3",
   "version": "3.11.5"
  }
 },
 "nbformat": 4,
 "nbformat_minor": 5
}
