{
 "cells": [
  {
   "cell_type": "markdown",
   "id": "092945ea-c74b-4382-89c7-2b411ba297d5",
   "metadata": {},
   "source": [
    "#### Author: Ernie Sumoso"
   ]
  },
  {
   "cell_type": "code",
   "execution_count": 24,
   "id": "eaf132a4-7ec3-4ed8-abea-9f75158c8dbf",
   "metadata": {
    "tags": []
   },
   "outputs": [
    {
     "name": "stdin",
     "output_type": "stream",
     "text": [
      "Guess a letter! P\n"
     ]
    },
    {
     "name": "stdout",
     "output_type": "stream",
     "text": [
      "_ _ P _ _ \n",
      "You guessed letter 'P'\n"
     ]
    },
    {
     "name": "stdin",
     "output_type": "stream",
     "text": [
      "Guess a letter! N\n"
     ]
    },
    {
     "name": "stdout",
     "output_type": "stream",
     "text": [
      "N _ P _ _ \n",
      "You guessed letter 'N'\n"
     ]
    },
    {
     "name": "stdin",
     "output_type": "stream",
     "text": [
      "Guess a letter! L\n"
     ]
    },
    {
     "name": "stdout",
     "output_type": "stream",
     "text": [
      "N _ P _ L \n",
      "You guessed letter 'L'\n"
     ]
    },
    {
     "name": "stdin",
     "output_type": "stream",
     "text": [
      "Guess a letter! Q\n"
     ]
    },
    {
     "name": "stdout",
     "output_type": "stream",
     "text": [
      "---\n",
      "N _ P _ L \n"
     ]
    },
    {
     "name": "stdin",
     "output_type": "stream",
     "text": [
      "Guess a letter! W\n"
     ]
    },
    {
     "name": "stdout",
     "output_type": "stream",
     "text": [
      "---\n",
      "   |\n",
      "N _ P _ L \n"
     ]
    },
    {
     "name": "stdin",
     "output_type": "stream",
     "text": [
      "Guess a letter! E\n"
     ]
    },
    {
     "name": "stdout",
     "output_type": "stream",
     "text": [
      "N E P _ L \n",
      "You guessed letter 'E'\n"
     ]
    },
    {
     "name": "stdin",
     "output_type": "stream",
     "text": [
      "Guess a letter! R\n"
     ]
    },
    {
     "name": "stdout",
     "output_type": "stream",
     "text": [
      "---\n",
      "   |\n",
      "   O\n",
      "N E P _ L \n"
     ]
    },
    {
     "name": "stdin",
     "output_type": "stream",
     "text": [
      "Guess a letter! T\n"
     ]
    },
    {
     "name": "stdout",
     "output_type": "stream",
     "text": [
      "---\n",
      "   |\n",
      "   O\n",
      "  /\n",
      "N E P _ L \n"
     ]
    },
    {
     "name": "stdin",
     "output_type": "stream",
     "text": [
      "Guess a letter! Y\n"
     ]
    },
    {
     "name": "stdout",
     "output_type": "stream",
     "text": [
      "---\n",
      "   |\n",
      "   O\n",
      "  /|\n",
      "N E P _ L \n"
     ]
    },
    {
     "name": "stdin",
     "output_type": "stream",
     "text": [
      "Guess a letter! U\n"
     ]
    },
    {
     "name": "stdout",
     "output_type": "stream",
     "text": [
      "---\n",
      "   |\n",
      "   O\n",
      "  /|\\\n",
      "N E P _ L \n"
     ]
    },
    {
     "name": "stdin",
     "output_type": "stream",
     "text": [
      "Guess a letter! A\n"
     ]
    },
    {
     "name": "stdout",
     "output_type": "stream",
     "text": [
      "N E P A L \n",
      "You guessed letter 'A'\n",
      "YOU WON!!! The word was: NEPAL\n"
     ]
    }
   ],
   "source": [
    "import random\n",
    "\n",
    "def ask_char():\n",
    "    abc = \"abcdefghijklmnopqrstuvwxyz \"\n",
    "    user_input = input(\"Guess a letter!\")\n",
    "    while user_input.lower() not in abc:\n",
    "        user_input = input(\"Guess a letter!\")\n",
    "    return user_input.upper()\n",
    "\n",
    "def print_word(word, correct_guesses):\n",
    "    for char in word:\n",
    "        if char in correct_guesses:\n",
    "            print(char, end=\" \")\n",
    "        else:\n",
    "            print(\"_\", end=\" \")\n",
    "    print()\n",
    "\n",
    "def check_win(word, correct_guesses):\n",
    "    for c in word:\n",
    "        if c not in correct_guesses:\n",
    "            return False\n",
    "    return True\n",
    "    \n",
    "def draw_hangman(incorrect_guesses):\n",
    "    # rope, head , neck, 2 hands, body, 2 legs = 8 max failed tries\n",
    "    drawing = [\"---\", \"\\n   |\", \"\\n   O\", \"\\n  /\", \"|\", \"\\\\\", \"\\n  /\", \" \\\\\"]\n",
    "    for i in range(incorrect_guesses):\n",
    "        print(drawing[i], end=\"\")\n",
    "    print()\n",
    "    return len(drawing)\n",
    "\n",
    "def play_hangman(word):\n",
    "    word = word.upper()\n",
    "    incorrect_guesses = 0\n",
    "    correct_guesses = []\n",
    "    while(True):\n",
    "        char = ask_char()\n",
    "        if char in word:\n",
    "            correct_guesses.append(char)\n",
    "            print_word(word, correct_guesses)\n",
    "            print(f\"You guessed letter '{char}'\")\n",
    "            if check_win(word, correct_guesses):\n",
    "                print(f\"YOU WON!!! The word was: {word}\")\n",
    "                return\n",
    "        else:\n",
    "            incorrect_guesses += 1\n",
    "            len_draw = draw_hangman(incorrect_guesses)\n",
    "            print_word(word, correct_guesses)\n",
    "            if incorrect_guesses == len_draw:\n",
    "                print(f\"YOU LOST!!! The word was: {word}\")\n",
    "                return\n",
    "\n",
    "words = [\"Albania\", \"Canada\", \"India\", \"Nepal\", \"Peru\", \"Colombia\", \"Russia\", \"United States\"]\n",
    "play_hangman(random.choice(words))"
   ]
  }
 ],
 "metadata": {
  "kernelspec": {
   "display_name": "Python 3 (ipykernel)",
   "language": "python",
   "name": "python3"
  },
  "language_info": {
   "codemirror_mode": {
    "name": "ipython",
    "version": 3
   },
   "file_extension": ".py",
   "mimetype": "text/x-python",
   "name": "python",
   "nbconvert_exporter": "python",
   "pygments_lexer": "ipython3",
   "version": "3.11.5"
  }
 },
 "nbformat": 4,
 "nbformat_minor": 5
}
