{
 "cells": [
  {
   "cell_type": "markdown",
   "metadata": {},
   "source": [
    "#### Author: Ernie Sumoso"
   ]
  },
  {
   "cell_type": "markdown",
   "metadata": {},
   "source": [
    "# Question 1"
   ]
  },
  {
   "attachments": {
    "histogram.jpg": {
     "image/jpeg": "[encoded data removed]"
    }
   },
   "cell_type": "markdown",
   "metadata": {},
   "source": [
    "Given an array of integers heights representing the histogram's bar height where the width of each bar is 1, return the area of the largest rectangle in the histogram.\n",
    "\n",
    "\n",
    "\n",
    "\n",
    "Input: heights = [2,1,5,6,2,3]\n",
    "\n",
    "Output: 10\n",
    "\n",
    "Explanation: The above is a histogram where width of each bar is 1.\n",
    "The largest rectangle is shown in the red area, which has an area = 10 units.\n",
    "\n",
    "Use function and input method![histogram.jpg](attachment:histogram.jpg)"
   ]
  },
  {
   "cell_type": "code",
   "execution_count": 55,
   "metadata": {
    "tags": []
   },
   "outputs": [
    {
     "name": "stdout",
     "output_type": "stream",
     "text": [
      "[2, 1, 5, 6, 2, 3]\n",
      "10\n"
     ]
    },
    {
     "name": "stdin",
     "output_type": "stream",
     "text": [
      "Insert the heights separated by a blank space. 10 10 10 12 13\n"
     ]
    },
    {
     "name": "stdout",
     "output_type": "stream",
     "text": [
      "[10, 10, 10, 12, 13]\n"
     ]
    },
    {
     "data": {
      "text/plain": [
       "50"
      ]
     },
     "execution_count": 55,
     "metadata": {},
     "output_type": "execute_result"
    }
   ],
   "source": [
    "#Answer 1\n",
    "def get_largest_rectangle_area(heights = None):\n",
    "    if heights is None:\n",
    "        heights = [int(h) for h in input(\"Insert the heights separated by a blank space.\").split(\" \")]\n",
    "    print(heights)\n",
    "    areas = []\n",
    "    for i in range(len(heights)): # loop through heights\n",
    "        for j in range(1, len(heights)+1): # choose amount of rectangles\n",
    "            rectangles = heights[i:i+j][:]\n",
    "            count = 0\n",
    "            while 0 not in rectangles:\n",
    "                rectangles = list(map(lambda x:x-1, rectangles))\n",
    "                count += 1\n",
    "            areas.append(count * len(rectangles))\n",
    "    return max(areas)\n",
    "\n",
    "print(get_largest_rectangle_area([2,1,5,6,2,3]))\n",
    "get_largest_rectangle_area()"
   ]
  },
  {
   "cell_type": "markdown",
   "metadata": {},
   "source": [
    "# Question 2"
   ]
  },
  {
   "cell_type": "markdown",
   "metadata": {},
   "source": [
    "Write a function to find the longest common prefix string amongst an array of strings, use Input method to test it.\n",
    "\n",
    "Also you code should return the length of the longest common prefix string amongst an array of strings\n",
    "\n",
    "If there is no common prefix, return an empty string \"\".\n",
    "\n",
    " \n",
    "Example 1:\n",
    "\n",
    "Input: strs = [\"Flower\",\"flow\",\"flight\"]\n",
    "\n",
    "Output: \"fl\", 2\n",
    "\n",
    "This should work irrespective of upper or lower case!"
   ]
  },
  {
   "cell_type": "code",
   "execution_count": 56,
   "metadata": {
    "tags": []
   },
   "outputs": [
    {
     "name": "stdout",
     "output_type": "stream",
     "text": [
      "['flower', 'flow', 'flight']\n",
      "('fl', 2)\n",
      "['plants', 'ember', 'water']\n",
      "('', 0)\n"
     ]
    },
    {
     "name": "stdin",
     "output_type": "stream",
     "text": [
      "Insert the words separated by a blank space. words word wow woo what\n"
     ]
    },
    {
     "name": "stdout",
     "output_type": "stream",
     "text": [
      "['words', 'word', 'wow', 'woo', 'what']\n"
     ]
    },
    {
     "data": {
      "text/plain": [
       "('w', 1)"
      ]
     },
     "execution_count": 56,
     "metadata": {},
     "output_type": "execute_result"
    }
   ],
   "source": [
    "#Answer 2\n",
    "def find_longest_prefix(words = None):\n",
    "    if words is None:\n",
    "        words = [w.lower() for w in input(\"Insert the words separated by a blank space.\").split(\" \")]\n",
    "    if len(words) == 0:\n",
    "        return \"\"\n",
    "    words = [w.lower() for w in words]\n",
    "    print(words)\n",
    "    prefix = words[0]\n",
    "    for i in range(1, len(words)):\n",
    "        j = 0\n",
    "        for j in range(len(words[i])):\n",
    "            # print(words, i, j, prefix)\n",
    "            if j >= len(prefix) or words[i][j] != prefix[j]:\n",
    "                break\n",
    "        prefix = words[i][:j]\n",
    "    return prefix, len(prefix)\n",
    "\n",
    "print(find_longest_prefix([\"Flower\",\"flow\",\"flight\"]))\n",
    "print(find_longest_prefix([\"plants\",\"ember\",\"water\"]))\n",
    "find_longest_prefix()"
   ]
  },
  {
   "cell_type": "markdown",
   "metadata": {},
   "source": [
    "# Question 3"
   ]
  },
  {
   "cell_type": "markdown",
   "metadata": {},
   "source": [
    "An alphabetical continuous string is a string consisting of consecutive letters in the alphabet (A, B, C, D, E, F, G, H, I, J, K, L, M, N, O, P, Q, R, S, T, U, V, W, X, Y, Z). \n",
    "\n",
    "In other words, it is any substring of the string \"abcdefghijklmnopqrstuvwxyz\".\n",
    "\n",
    "For example, \"abc\" is an alphabetical continuous string, while \"acb\" and \"za\" are not.\n",
    "\n",
    "Given a string s consisting of lowercase or upper case letters only, return the length of the longest alphabetical continuous substring irrespective of lower case or upper case\n",
    "\n",
    " \n",
    "\n",
    "Example 1:\n",
    "\n",
    "Input: s = \"aBacaba\"\n",
    "\n",
    "Output: 2\n",
    "\n",
    "Explanation: There are 4 distinct continuous substrings: \"a\", \"b\", \"c\" and \"ab\".\n",
    "\n",
    "\"ab\" is the longest continuous substring.\n",
    "\n",
    "Example 2:\n",
    "\n",
    "Input: s = \"abcde\"\n",
    "\n",
    "Output: 5\n",
    "\n",
    "Explanation: \"abcde\" is the longest continuous substring."
   ]
  },
  {
   "cell_type": "code",
   "execution_count": 44,
   "metadata": {
    "tags": []
   },
   "outputs": [
    {
     "name": "stdout",
     "output_type": "stream",
     "text": [
      "aBacaba\n",
      "2\n",
      "abcde\n",
      "5\n"
     ]
    },
    {
     "name": "stdin",
     "output_type": "stream",
     "text": [
      "Insert the text including only alphabetic letters. mnopqabcdefghijklrstu\n"
     ]
    },
    {
     "name": "stdout",
     "output_type": "stream",
     "text": [
      "mnopqabcdefghijklrstu\n"
     ]
    },
    {
     "data": {
      "text/plain": [
       "12"
      ]
     },
     "execution_count": 44,
     "metadata": {},
     "output_type": "execute_result"
    }
   ],
   "source": [
    "#Answer 3\n",
    "def get_len_largest_alphabet_substring(text = None):\n",
    "    \n",
    "    if text is None:\n",
    "        text = input(\"Insert the text including only alphabetic letters.\").lower()\n",
    "    print(text)\n",
    "    text = text.lower()\n",
    "    alphabet = \"abcdefghijklmnopqrstuvwxyz\"\n",
    "    \n",
    "    lens = []\n",
    "    for i, letter in enumerate(text):\n",
    "        alphabet_i = alphabet.index(letter)\n",
    "        for j in range(i, len(text)):\n",
    "            # print(i, alphabet_i, j, letter, text[j], alphabet[alphabet_i])\n",
    "            if alphabet_i >= len(alphabet) or text[j] != alphabet[alphabet_i]:\n",
    "                lens.append(j-i)\n",
    "                break\n",
    "            alphabet_i += 1\n",
    "        else:\n",
    "            lens.append(j-i+1)\n",
    "        # print()\n",
    "    return max(lens)\n",
    "\n",
    "print(get_len_largest_alphabet_substring(\"aBacaba\"))\n",
    "print(get_len_largest_alphabet_substring(\"abcde\"))\n",
    "get_len_largest_alphabet_substring()"
   ]
  },
  {
   "cell_type": "code",
   "execution_count": null,
   "metadata": {},
   "outputs": [],
   "source": []
  }
 ],
 "metadata": {
  "kernelspec": {
   "display_name": "Python 3 (ipykernel)",
   "language": "python",
   "name": "python3"
  },
  "language_info": {
   "codemirror_mode": {
    "name": "ipython",
    "version": 3
   },
   "file_extension": ".py",
   "mimetype": "text/x-python",
   "name": "python",
   "nbconvert_exporter": "python",
   "pygments_lexer": "ipython3",
   "version": "3.11.5"
  }
 },
 "nbformat": 4,
 "nbformat_minor": 4
}
