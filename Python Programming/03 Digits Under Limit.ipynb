{
 "cells": [
  {
   "cell_type": "markdown",
   "id": "e599851a-9934-4edf-a70f-360341318895",
   "metadata": {},
   "source": [
    "#### Author: Ernie Sumoso"
   ]
  },
  {
   "cell_type": "markdown",
   "id": "c66cefba-213c-4dd3-8873-80fd58a5ae83",
   "metadata": {},
   "source": [
    "A. You are given a 0-indexed binary string s having an even length.\n",
    "\n",
    "A string is beautiful if it's possible to partition it into one or more substrings such that:\n",
    "\n",
    "- Each substring has an even length.\n",
    "- Each substring contains only 1's or only 0's.\n",
    "- You can change any character in s to 0 or 1.\n",
    "\n",
    "Return the minimum number of changes required to make the string s beautiful.\n",
    "\n",
    "\n",
    "- Example 1:\n",
    "\n",
    "Input: s = \"1001\"\n",
    "\n",
    "Output: 2\n",
    "\n",
    "Explanation: We change s[1] to 1 and s[3] to 0 to get string \"1100\".\n",
    "\n",
    "It can be seen that the string \"1100\" is beautiful because we can partition it into \"11|00\".\n",
    "\n",
    "It can be proven that 2 is the minimum number of changes needed to make the string beautiful.\n",
    "\n",
    "- Example 2:\n",
    "\n",
    "Input: s = \"10\"\n",
    "\n",
    "Output: 1\n",
    "\n",
    "Explanation: We change s[1] to 1 to get string \"11\".\n",
    "\n",
    "It can be seen that the string \"11\" is beautiful because we can partition it into \"11\".\n",
    "\n",
    "It can be proven that 1 is the minimum number of changes needed to make the string beautiful.\n",
    "\n",
    "- Example 3:\n",
    "\n",
    "Input: s = \"0000\"\n",
    "\n",
    "Output: 0\n",
    "\n",
    "Explanation: We don't need to make any changes as the string \"0000\" is beautiful already."
   ]
  },
  {
   "cell_type": "code",
   "execution_count": 44,
   "id": "95a6b27e-ef83-4d41-aa94-218e1e0aa888",
   "metadata": {
    "tags": []
   },
   "outputs": [
    {
     "data": {
      "text/plain": [
       "['0000', '0011', '1100', '1111']"
      ]
     },
     "execution_count": 44,
     "metadata": {},
     "output_type": "execute_result"
    }
   ],
   "source": [
    "from itertools import product\n",
    "\n",
    "reps = list(product(['00', '11'], repeat=4 // 2))\n",
    "possible_bs = []\n",
    "for rep in reps:\n",
    "    possible_bs.append(''.join(rep))\n",
    "possible_bs"
   ]
  },
  {
   "cell_type": "code",
   "execution_count": 52,
   "id": "7edae470-c02b-4f04-8366-65404c30e80b",
   "metadata": {
    "tags": []
   },
   "outputs": [
    {
     "name": "stdout",
     "output_type": "stream",
     "text": [
      "2\n",
      "1\n",
      "0\n"
     ]
    }
   ],
   "source": [
    "from itertools import product\n",
    "# Problem A solution\n",
    "def get_possible_bs_of_n_length(n):\n",
    "    if n <= 0 or n % 2 != 0: return 0\n",
    "    reps = list(product(['00', '11'], repeat= n // 2))\n",
    "    possible_bs = []\n",
    "    for rep in reps:\n",
    "        possible_bs.append(''.join(rep))\n",
    "    return possible_bs\n",
    "    \n",
    "def count_changes_required(text, bs):\n",
    "    count = 0\n",
    "    for i in range(len(bs)):\n",
    "        if text[i] != bs[i]:\n",
    "            count += 1\n",
    "    return count        \n",
    "    \n",
    "def get_min_changes_for_b(text):\n",
    "    possible_bs = get_possible_bs_of_n_length(len(text))\n",
    "    changes = []\n",
    "    for bs in possible_bs:\n",
    "        changes.append(count_changes_required(text, bs))\n",
    "    return min(changes)\n",
    "\n",
    "print(get_min_changes_for_b('1001'))\n",
    "print(get_min_changes_for_b('10'))\n",
    "print(get_min_changes_for_b('0000'))"
   ]
  },
  {
   "cell_type": "markdown",
   "id": "03424e23-8522-4150-b14d-911bc27f89d9",
   "metadata": {},
   "source": [
    "B. Write a Python program to find all the numbers from 0-9 from a string:\n",
    "\n",
    "input: '89ADFRE41'\n",
    "\n",
    "Output :[8941]"
   ]
  },
  {
   "cell_type": "code",
   "execution_count": 1,
   "id": "fcd5cf06-e9b7-4950-989f-06eec3e9d781",
   "metadata": {
    "tags": []
   },
   "outputs": [
    {
     "data": {
      "text/plain": [
       "[8, 9, 4, 1]"
      ]
     },
     "execution_count": 1,
     "metadata": {},
     "output_type": "execute_result"
    }
   ],
   "source": [
    "# Problem B solution\n",
    "def find_all_numbers(text):\n",
    "    nums = []\n",
    "    for ch in text:\n",
    "        if ch in [str(i) for i in range(10)]:\n",
    "            nums.append(int(ch))\n",
    "    return nums\n",
    "find_all_numbers('89ADFRE41')"
   ]
  },
  {
   "cell_type": "markdown",
   "id": "d624a702-6232-47ac-b268-c18348f950fa",
   "metadata": {},
   "source": [
    "C. Write a Python program to find two elements once in a list where every element appears exactly n times in the list. \n",
    "\n",
    "Input : [1, 2, 1, 3, 2, 5], 2    (n=2)\n",
    "\n",
    "Output :[5, 3]"
   ]
  },
  {
   "cell_type": "code",
   "execution_count": 3,
   "id": "53f5cf7d-0227-4a62-bb39-8af3109d6c3b",
   "metadata": {
    "tags": []
   },
   "outputs": [
    {
     "data": {
      "text/plain": [
       "[3, 5]"
      ]
     },
     "execution_count": 3,
     "metadata": {},
     "output_type": "execute_result"
    }
   ],
   "source": [
    "# Problem C solution\n",
    "def find_once_nums_in_n_repeated_list(lst, n):\n",
    "    counts = {}\n",
    "    once_nums = []\n",
    "    for num in lst:\n",
    "        if num not in once_nums: once_nums.append(num)\n",
    "        counts[num] = counts.get(num, 0) + 1\n",
    "        if counts[num] != 1: once_nums.remove(num)\n",
    "    return once_nums\n",
    "\n",
    "find_once_nums_in_n_repeated_list([1, 2, 1, 3, 2, 5], 2)"
   ]
  },
  {
   "cell_type": "markdown",
   "id": "32169cfa-dc33-43a2-ae1c-417e307c5372",
   "metadata": {},
   "source": [
    "D. Write a Python program to reverse the digits of an integer. \n",
    "- Input : 234\n",
    "- Input : -234\n",
    "- Output: 432\n",
    "- Output : -432"
   ]
  },
  {
   "cell_type": "code",
   "execution_count": 21,
   "id": "4fd88828-82d5-4599-bba7-9b6419615bf7",
   "metadata": {
    "tags": []
   },
   "outputs": [
    {
     "name": "stdout",
     "output_type": "stream",
     "text": [
      "432\n",
      "-432\n"
     ]
    }
   ],
   "source": [
    "# Problem D solution\n",
    "def reverse_digits(num):\n",
    "    return int(str(num)[::-1]) if num > 0 else -int(str(num)[-1:0:-1])\n",
    "\n",
    "print(reverse_digits(234))\n",
    "print(reverse_digits(-234))"
   ]
  },
  {
   "cell_type": "markdown",
   "id": "2e9f28c6-6b54-4e7c-b88d-89cf1efbc383",
   "metadata": {},
   "source": [
    "E. You are given three integers start, finish, and limit. You are also given a 0-indexed string s representing a positive integer.\n",
    "\n",
    "A positive integer x is called powerful if it ends with s (in other words, s is a suffix of x) and each digit in x is at most limit.\n",
    "\n",
    "Return the total number of powerful integers in the range [start..finish].\n",
    "\n",
    "A string x is a suffix of a string y if and only if x is a substring of y that starts from some index (including 0) in y and extends to the index y.length - 1. For example, 25 is a suffix of 5125 whereas 512 is not.\n",
    "\n",
    "- Example 1:\n",
    "\n",
    "Input: start = 1, finish = 6000, limit = 4, s = \"124\"\n",
    "\n",
    "Output: 5\n",
    "\n",
    "Explanation: The powerful integers in the range [1..6000] are 124, 1124, 2124, 3124, and, 4124. All these integers have each digit <= 4, and \"124\" as a suffix. Note that 5124 is not a powerful integer because the first digit is 5 which is greater than 4.\n",
    "It can be shown that there are only 5 powerful integers in this range.\n",
    "\n",
    "- Example 2:\n",
    "\n",
    "Input: start = 15, finish = 215, limit = 6, s = \"10\"\n",
    "\n",
    "Output: 2\n",
    "\n",
    "Explanation: The powerful integers in the range [15..215] are 110 and 210. All these integers have each digit <= 6, and \"10\" as a suffix.\n",
    "It can be shown that there are only 2 powerful integers in this range."
   ]
  },
  {
   "cell_type": "code",
   "execution_count": 14,
   "id": "3b7cf361-c053-4a91-b091-c3441dad1fba",
   "metadata": {
    "tags": []
   },
   "outputs": [
    {
     "name": "stdout",
     "output_type": "stream",
     "text": [
      "[124, 1124, 2124, 3124, 4124]\n",
      "[110, 210]\n"
     ]
    }
   ],
   "source": [
    "# Problem E solution\n",
    "def are_digits_under_limit(num, limit):\n",
    "    allowed_digs = {str(i) for i in range(0, limit + 1)}\n",
    "    digs = {dig for dig in str(num)}\n",
    "    return digs.issubset(allowed_digs)\n",
    "\n",
    "def is_sufix_of_number(num, s):\n",
    "    return str(num)[len(str(num)) - len(s):] == s\n",
    "\n",
    "def get_powerful_numbers(start, finish, limit, s):\n",
    "    powerful = []\n",
    "    for num in range(start, finish + 1):\n",
    "        if not are_digits_under_limit(num, limit): continue\n",
    "        if not is_sufix_of_number(num, s): continue\n",
    "        powerful.append(num)\n",
    "    return powerful\n",
    "\n",
    "print(get_powerful_numbers(1, 6000, 4, \"124\"))\n",
    "print(get_powerful_numbers(15, 215, 6, \"10\"))"
   ]
  }
 ],
 "metadata": {
  "kernelspec": {
   "display_name": "Python 3 (ipykernel)",
   "language": "python",
   "name": "python3"
  },
  "language_info": {
   "codemirror_mode": {
    "name": "ipython",
    "version": 3
   },
   "file_extension": ".py",
   "mimetype": "text/x-python",
   "name": "python",
   "nbconvert_exporter": "python",
   "pygments_lexer": "ipython3",
   "version": "3.11.5"
  }
 },
 "nbformat": 4,
 "nbformat_minor": 5
}
