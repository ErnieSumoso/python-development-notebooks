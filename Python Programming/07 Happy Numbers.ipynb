{
 "cells": [
  {
   "cell_type": "markdown",
   "id": "bc47af18-aec2-4463-8829-27dbd401bb1c",
   "metadata": {},
   "source": [
    "#### Author: Ernie Sumoso"
   ]
  },
  {
   "cell_type": "markdown",
   "id": "a6a28c65-2973-4751-9194-ba9448ca54d6",
   "metadata": {},
   "source": [
    "Q1: A phrase is a palindrome if, after converting all uppercase letters into lowercase letters and removing all non-alphanumeric characters, it reads the same forward and backward. Alphanumeric characters include letters and numbers. Given a string s, return true if it is a palindrome, or false otherwise.\n",
    "\n",
    "Example 1:\n",
    "\n",
    "Input: s = \"A man, a plan, a canal: Panama\"\n",
    "\n",
    "Output: true\n",
    "\n",
    "Explanation: \"amanaplanacanalpanama\" is a palindrome.\n",
    "\n",
    "Example 2:\n",
    "\n",
    "Input: s = \"race a car\"\n",
    "\n",
    "Output: false\n",
    "\n",
    "Explanation: \"raceacar\" is not a palindrome."
   ]
  },
  {
   "cell_type": "code",
   "execution_count": 5,
   "id": "a660add7-21cc-4bb8-baba-c342d07cc1fb",
   "metadata": {
    "tags": []
   },
   "outputs": [
    {
     "name": "stdout",
     "output_type": "stream",
     "text": [
      "True\n",
      "False\n"
     ]
    }
   ],
   "source": [
    "def is_phrase_palindrome(text):\n",
    "    chrs = [ch.lower() for ch in text if ch.isalnum()]\n",
    "    return chrs == chrs[::-1]\n",
    "\n",
    "print(is_phrase_palindrome(\"A man, a plan, a canal: Panama\"))\n",
    "print(is_phrase_palindrome(\"race a car\"))"
   ]
  },
  {
   "cell_type": "markdown",
   "id": "13f74977-ca57-4ce2-ac61-b2b93c748912",
   "metadata": {},
   "source": [
    "Q2 Given an array nums of size n, return the majority element. The majority element is the element that appears more than ⌊n / 2⌋ times. You may assume that the majority element always exists in the array.\n",
    "\n",
    "Example 1:\n",
    "\n",
    "Input: nums = [3,2,3]\n",
    "\n",
    "Output: 3\n",
    "\n",
    "Example 2:\n",
    "\n",
    "Input: nums = [2,2,1,1,1,2,2]\n",
    "\n",
    "Output: 2"
   ]
  },
  {
   "cell_type": "code",
   "execution_count": 14,
   "id": "d8000cd7-0263-4e64-8016-6ee1bc4ddeb7",
   "metadata": {
    "tags": []
   },
   "outputs": [
    {
     "name": "stdout",
     "output_type": "stream",
     "text": [
      "3\n",
      "2\n"
     ]
    }
   ],
   "source": [
    "def get_majority_element(nums):\n",
    "    min_amount = (len(nums) + 1) // 2\n",
    "    counts = {}\n",
    "    for num in nums:\n",
    "        counts[num] = counts.get(num, 0) + 1\n",
    "        if counts[num] == min_amount:\n",
    "            return num\n",
    "    return -1\n",
    "\n",
    "print(get_majority_element([3, 2, 3]))\n",
    "print(get_majority_element([2, 2, 1, 1, 1, 2, 2]))"
   ]
  },
  {
   "cell_type": "markdown",
   "id": "2b9a0de6-c8cd-40bf-ab45-6081e3951dee",
   "metadata": {},
   "source": [
    "Q3 Write an algorithm to determine if a number n is happy. A happy number is a number defined by the following process:\n",
    "\n",
    "Starting with any positive integer, replace the number by the sum of the squares of its digits.\n",
    "Repeat the process until the number equals 1 (where it will stay), or it loops endlessly in a cycle which does not include 1.\n",
    "Those numbers for which this process ends in 1 are happy.\n",
    "Return true if n is a happy number, and false if not.\n",
    "\n",
    " Example 1:\n",
    "\n",
    "Input: n = 19\n",
    "\n",
    "Output: true\n",
    "\n",
    "Explanation:\n",
    "\n",
    "12 + 92 = 82\n",
    "\n",
    "82 + 22 = 68\n",
    "\n",
    "62 + 82 = 100\n",
    "\n",
    "12 + 02 + 02 = 1\n",
    "\n",
    "Example 2:\n",
    "\n",
    "Input: n = 2\n",
    "\n",
    "Output: false"
   ]
  },
  {
   "cell_type": "code",
   "execution_count": 13,
   "id": "2134d641-6852-4738-8d79-ced645f0d55e",
   "metadata": {
    "tags": []
   },
   "outputs": [
    {
     "name": "stdout",
     "output_type": "stream",
     "text": [
      "True\n",
      "False\n"
     ]
    }
   ],
   "source": [
    "def is_happy_number(num):\n",
    "    visited = []\n",
    "    digs = [i for i in str(num)]\n",
    "    while True:\n",
    "        summ = sum([int(i)**2 for i in digs])\n",
    "        if summ in visited: return False\n",
    "        if summ == 1: return True\n",
    "        visited.append(summ)\n",
    "        digs = [i for i in str(summ)]\n",
    "        \n",
    "print(is_happy_number(19))\n",
    "print(is_happy_number(2))"
   ]
  },
  {
   "cell_type": "markdown",
   "id": "0e1b59a2-ccf2-4293-8848-e4aa785f432d",
   "metadata": {},
   "source": [
    "Q4.\n",
    "You are given an integer array nums. We call a subset of nums good if its product can be represented as a product of one or more distinct prime numbers.\n",
    "\n",
    "For example, if nums = [1, 2, 3, 4]:\n",
    "[2, 3], [1, 2, 3], and [1, 3] are good subsets with products 6 = 2*3, 6 = 2*3, and 3 = 3 respectively.\n",
    "[1, 4] and [4] are not good subsets with products 4 = 2*2 and 4 = 2*2 respectively.\n",
    "Return the number of different good subsets in nums modulo 109 + 7.\n",
    "\n",
    "A subset of nums is any array that can be obtained by deleting some (possibly none or all) elements from nums. Two subsets are different if and only if the chosen indices to delete are different.\n",
    "\n",
    " \n",
    "\n",
    "Example 1:\n",
    "\n",
    "Input: nums = [1,2,3,4]\n",
    "Output: 6\n",
    "Explanation: The good subsets are:\n",
    "- [1,2]: product is 2, which is the product of distinct prime 2.\n",
    "- [1,2,3]: product is 6, which is the product of distinct primes 2 and 3.\n",
    "- [1,3]: product is 3, which is the product of distinct prime 3.\n",
    "- [2]: product is 2, which is the product of distinct prime 2.\n",
    "- [2,3]: product is 6, which is the product of distinct primes 2 and 3.\n",
    "- [3]: product is 3, which is the product of distinct prime 3.\n",
    "Example 2:\n",
    "\n",
    "Input: nums = [4,2,3,15]\n",
    "Output: 5\n",
    "Explanation: The good subsets are:\n",
    "- [2]: product is 2, which is the product of distinct prime 2.\n",
    "- [2,3]: product is 6, which is the product of distinct primes 2 and 3.\n",
    "- [2,15]: product is 30, which is the product of distinct primes 2, 3, and 5.\n",
    "- [3]: product is 3, which is the product of distinct prime 3.\n",
    "- [15]: product is 15, which is the product of distinct primes 3 and 5."
   ]
  },
  {
   "cell_type": "code",
   "execution_count": null,
   "id": "927e5afb-06f6-4dab-89ac-4d393b8d3200",
   "metadata": {},
   "outputs": [],
   "source": []
  }
 ],
 "metadata": {
  "kernelspec": {
   "display_name": "Python 3 (ipykernel)",
   "language": "python",
   "name": "python3"
  },
  "language_info": {
   "codemirror_mode": {
    "name": "ipython",
    "version": 3
   },
   "file_extension": ".py",
   "mimetype": "text/x-python",
   "name": "python",
   "nbconvert_exporter": "python",
   "pygments_lexer": "ipython3",
   "version": "3.11.5"
  }
 },
 "nbformat": 4,
 "nbformat_minor": 5
}
