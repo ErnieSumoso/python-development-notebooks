{
 "cells": [
  {
   "cell_type": "markdown",
   "metadata": {},
   "source": [
    "#### Author: Ernie Sumoso"
   ]
  },
  {
   "cell_type": "markdown",
   "metadata": {},
   "source": [
    "# Question 1"
   ]
  },
  {
   "cell_type": "markdown",
   "metadata": {},
   "source": [
    "Given a string 's' answer the followings:\n",
    "\n",
    "1- Return the length of the longest substring  without repeating characters. (3 marks)\n",
    "\n",
    "2- and also retun that substring (3 marks)\n",
    "\n",
    "3- How many times does that repeat in your main string? (4 marks)\n",
    "\n",
    "Use input method to test your code!\n",
    "\n",
    " \n",
    "\n",
    "Example 1:\n",
    "\n",
    "Input: s = \"abcabcbb\"\n",
    "\n",
    "Output: 3, abc , 2\n",
    "\n",
    "Explanation: The answer is \"abc\", with the length of 3 and repeats 2 times\n",
    "\n",
    "\n",
    "Example 2:\n",
    "\n",
    "Input: s = \"bbbbb\"\n",
    "\n",
    "Output: 1, b , 4\n",
    "\n",
    "Explanation: The answer is \"b\", with the length of 1 and repeats 4 times\n",
    "\n"
   ]
  },
  {
   "cell_type": "code",
   "execution_count": 1,
   "metadata": {
    "tags": []
   },
   "outputs": [
    {
     "name": "stdout",
     "output_type": "stream",
     "text": [
      "(3, 'abc', 2)\n",
      "(1, 'b', 5)\n"
     ]
    },
    {
     "name": "stdin",
     "output_type": "stream",
     "text": [
      " abcabcdesaa\n"
     ]
    },
    {
     "data": {
      "text/plain": [
       "(6, 'abcdes', 1)"
      ]
     },
     "execution_count": 1,
     "metadata": {},
     "output_type": "execute_result"
    }
   ],
   "source": [
    "#Answer 1\n",
    "def find_longest_sub_without_rep(s):\n",
    "    visited, subs, current = [], [], \"\"\n",
    "    for i, ch in enumerate(s):\n",
    "        if ch not in visited:\n",
    "            visited.append(ch)\n",
    "            current += ch\n",
    "            continue\n",
    "        subs.append(current)\n",
    "        visited, current = [ch], ch\n",
    "    subs.append(current)\n",
    "    lens = list(map(len, subs))\n",
    "    index_max = lens.index(max(lens))\n",
    "    sub_max = subs[index_max]\n",
    "    return max(lens), sub_max, subs.count(sub_max)\n",
    "print(find_longest_sub_without_rep(\"abcabcbb\"))\n",
    "print(find_longest_sub_without_rep(\"bbbbb\"))\n",
    "find_longest_sub_without_rep(input())"
   ]
  },
  {
   "cell_type": "code",
   "execution_count": null,
   "metadata": {},
   "outputs": [],
   "source": []
  },
  {
   "cell_type": "markdown",
   "metadata": {},
   "source": [
    "# Question 2"
   ]
  },
  {
   "cell_type": "markdown",
   "metadata": {},
   "source": [
    "Write and test a fucntion for the following. Make sure to use input method to test it!\n",
    "\n",
    "You are given a 0-indexed binary string s having an even length.\n",
    "\n",
    "A string is beautiful if it's possible to partition it into one or more substrings such that:\n",
    "\n",
    "Each substring has an even length.\n",
    "Each substring contains only 1's or only 0's.\n",
    "You can change any character in s to 0 or 1.\n",
    "\n",
    "Return the minimum number of changes required to make the string s beautiful.\n",
    "\n",
    " \n",
    "\n",
    "Example 1:\n",
    "\n",
    "Input: s = \"1001\"\n",
    "\n",
    "Output: 2\n",
    "\n",
    "Explanation: We change s[1] to 1 and s[3] to 0 to get string \"1100\".\n",
    "It can be seen that the string \"1100\" is beautiful because we can partition it into \"11|00\".\n",
    "It can be proven that 2 is the minimum number of changes needed to make the string beautiful.\n",
    "\n",
    "\n",
    "Example 2:\n",
    "\n",
    "Input: s = \"10\"\n",
    "\n",
    "Output: 1\n",
    "\n",
    "Explanation: We change s[1] to 1 to get string \"11\".\n",
    "It can be seen that the string \"11\" is beautiful because we can partition it into \"11\".\n",
    "It can be proven that 1 is the minimum number of changes needed to make the string beautiful.\n",
    "\n",
    "Example 3:\n",
    "\n",
    "Input: s = \"0000\"\n",
    "\n",
    "Output: 0\n",
    "\n",
    "Explanation: We don't need to make any changes as the string \"0000\" is beautiful already.\n",
    "\n",
    "Example 4:\n",
    "\n",
    "Input: s = \"11\"\n",
    "\n",
    "Output: ??"
   ]
  },
  {
   "cell_type": "code",
   "execution_count": 58,
   "metadata": {
    "tags": []
   },
   "outputs": [
    {
     "name": "stdout",
     "output_type": "stream",
     "text": [
      "2\n",
      "1\n",
      "0\n",
      "0\n"
     ]
    },
    {
     "name": "stdin",
     "output_type": "stream",
     "text": [
      " 11101111000011100001000011110010\n"
     ]
    },
    {
     "name": "stdout",
     "output_type": "stream",
     "text": [
      "4\n"
     ]
    }
   ],
   "source": [
    "#Answer 2\n",
    "def count_min_steps_to_beautiful(s):\n",
    "    if len(s) < 2 or len(s) % 2 != 0: return -1\n",
    "    if s in ['01', '10']: return 1\n",
    "    if s in ['00', '11']: return 0\n",
    "    return count_min_steps_to_beautiful(s[:len(s)//2]) + count_min_steps_to_beautiful(s[len(s)//2:])\n",
    "    \n",
    "\n",
    "print(count_min_steps_to_beautiful('1001'))\n",
    "print(count_min_steps_to_beautiful('10'))\n",
    "print(count_min_steps_to_beautiful('0000'))\n",
    "print(count_min_steps_to_beautiful('11'))\n",
    "print(count_min_steps_to_beautiful(input()))"
   ]
  },
  {
   "cell_type": "code",
   "execution_count": null,
   "metadata": {},
   "outputs": [],
   "source": []
  },
  {
   "cell_type": "markdown",
   "metadata": {},
   "source": [
    "# Question 3"
   ]
  },
  {
   "cell_type": "markdown",
   "metadata": {},
   "source": [
    "Write a function and use input method!\n",
    "\n",
    "Roman numerals are represented by seven different symbols: I, V, X, L, C, D and M.\n",
    "\n",
    "Symbol   :    Value\n",
    "\n",
    "I   :          1\n",
    "\n",
    "V   :          5\n",
    "\n",
    "X    :         10\n",
    "\n",
    "L    :         50\n",
    "\n",
    "C    :         100\n",
    "\n",
    "D     :        500\n",
    "\n",
    "M     :        1000\n",
    "\n",
    "For example, 2 is written as II in Roman numeral, just two one's added together. 12 is written as XII, which is simply X + II. The number 27 is written as XXVII, which is XX + V + II.\n",
    "\n",
    "Roman numerals are usually written largest to smallest from left to right. However, the numeral for four is not IIII. Instead, the number four is written as IV. Because the one is before the five we subtract it making four. The same principle applies to the number nine, which is written as IX. There are six instances where subtraction is used:\n",
    "\n",
    "I can be placed before V (5) and X (10) to make 4 and 9. \n",
    "\n",
    "X can be placed before L (50) and C (100) to make 40 and 90. \n",
    "\n",
    "C can be placed before D (500) and M (1000) to make 400 and 900.\n",
    "\n",
    "Given an integer, convert it to a roman numeral.\n",
    "\n",
    "\n",
    " \n",
    "\n",
    "Example 1:\n",
    "\n",
    "Input: num = 3\n",
    "\n",
    "Output: \"III\"\n",
    "\n",
    "Explanation: 3 is represented as 3 ones.\n",
    "\n",
    "Example 2:\n",
    "\n",
    "Input: num = 58\n",
    "\n",
    "Output: \"LVIII\"\n",
    "\n",
    "Explanation: L = 50, V = 5, III = 3."
   ]
  },
  {
   "cell_type": "code",
   "execution_count": 59,
   "metadata": {
    "tags": []
   },
   "outputs": [
    {
     "name": "stdout",
     "output_type": "stream",
     "text": [
      "3\n",
      "58\n"
     ]
    },
    {
     "name": "stdin",
     "output_type": "stream",
     "text": [
      " MCMXCVIV\n"
     ]
    },
    {
     "name": "stdout",
     "output_type": "stream",
     "text": [
      "1999\n"
     ]
    }
   ],
   "source": [
    "#Answer 3\n",
    "def roman_to_int(roman):\n",
    "    singles = {'I' : 1, 'V' : 5, 'X' : 10, 'L' : 50, 'C' : 100, 'D' : 500, 'M' : 1000}\n",
    "    doubles = {'IV': 4, 'IX': 9, 'XL': 40, 'XC': 90, 'CD': 400, 'CM': 900}\n",
    "    num, i = 0, 0\n",
    "    while i < len(roman):\n",
    "        if roman[i:i+2] in doubles.keys():\n",
    "            num += doubles[roman[i:i+2]]\n",
    "            i += 2\n",
    "            continue\n",
    "        num += singles[roman[i]]\n",
    "        i += 1\n",
    "    return num\n",
    "print(roman_to_int(\"III\"))\n",
    "print(roman_to_int(\"LVIII\"))\n",
    "print(roman_to_int(input()))"
   ]
  },
  {
   "cell_type": "code",
   "execution_count": null,
   "metadata": {},
   "outputs": [],
   "source": []
  },
  {
   "cell_type": "code",
   "execution_count": null,
   "metadata": {},
   "outputs": [],
   "source": []
  },
  {
   "cell_type": "code",
   "execution_count": null,
   "metadata": {},
   "outputs": [],
   "source": []
  }
 ],
 "metadata": {
  "kernelspec": {
   "display_name": "Python 3 (ipykernel)",
   "language": "python",
   "name": "python3"
  },
  "language_info": {
   "codemirror_mode": {
    "name": "ipython",
    "version": 3
   },
   "file_extension": ".py",
   "mimetype": "text/x-python",
   "name": "python",
   "nbconvert_exporter": "python",
   "pygments_lexer": "ipython3",
   "version": "3.11.5"
  }
 },
 "nbformat": 4,
 "nbformat_minor": 4
}
