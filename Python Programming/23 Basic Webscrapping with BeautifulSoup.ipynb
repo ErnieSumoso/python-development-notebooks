{
 "cells": [
  {
   "cell_type": "markdown",
   "id": "baf4664e-251f-4501-bbe6-acb3b184b869",
   "metadata": {},
   "source": [
    "#### Author: Ernie Sumoso\n",
    "\n",
    "# Using Beautiful Soup to webscrap contact information from TMU website"
   ]
  },
  {
   "cell_type": "code",
   "execution_count": 55,
   "id": "6a84d177-d54e-48a9-9f39-2813e6c2c648",
   "metadata": {},
   "outputs": [],
   "source": [
    "import requests\n",
    "import re\n",
    "from bs4 import BeautifulSoup\n",
    "\n",
    "def scrap_data(website):\n",
    "    r = requests.get(website)\n",
    "    soup = BeautifulSoup(r.content)\n",
    "    headers = soup.findAll('h1')\n",
    "    subheaders = soup.findAll('h2')\n",
    "    contact_info = soup.findAll('address')\n",
    "    return headers, subheaders, contact_info\n",
    "\n",
    "website = \"https://www.torontomu.ca/\"\n",
    "headers, subheaders, contact_info = scrap_data(website)"
   ]
  },
  {
   "cell_type": "code",
   "execution_count": 56,
   "id": "81f22dda-4ece-4231-bb36-3d2c59e46442",
   "metadata": {},
   "outputs": [
    {
     "name": "stdout",
     "output_type": "stream",
     "text": [
      "----------HEADERS:----------\n",
      "Toronto Metropolitan University Home\n",
      "----------SUBHEADERS:----------\n",
      "Future students\n",
      "News\n",
      "Events\n",
      "Explore\n",
      "----------ADDRESS & PHONE:----------\n",
      "350 Victoria Street Toronto, ON M5B 2K3 P: 416-979-5000\n"
     ]
    }
   ],
   "source": [
    "def display_headers(headers):\n",
    "    print(\"-\"*10 + \"HEADERS:\" + \"-\"*10)\n",
    "    for header in headers:\n",
    "        print(header.text.strip())\n",
    "        \n",
    "def display_subheaders(subheaders):\n",
    "    print(\"-\"*10 + \"SUBHEADERS:\" + \"-\"*10)\n",
    "    for header in subheaders:\n",
    "        print(header.text.strip())\n",
    "        \n",
    "def display_contact_info(contact_info):\n",
    "    print(\"-\"*10 + \"ADDRESS & PHONE:\" + \"-\"*10)\n",
    "    for i, info in enumerate(contact_info):\n",
    "        print(' '.join(info.text.strip().split()))\n",
    "\n",
    "\n",
    "display_headers(headers)\n",
    "display_subheaders(subheaders)\n",
    "display_contact_info(contact_info)"
   ]
  }
 ],
 "metadata": {
  "kernelspec": {
   "display_name": "Python 3 (ipykernel)",
   "language": "python",
   "name": "python3"
  },
  "language_info": {
   "codemirror_mode": {
    "name": "ipython",
    "version": 3
   },
   "file_extension": ".py",
   "mimetype": "text/x-python",
   "name": "python",
   "nbconvert_exporter": "python",
   "pygments_lexer": "ipython3",
   "version": "3.11.5"
  }
 },
 "nbformat": 4,
 "nbformat_minor": 5
}
