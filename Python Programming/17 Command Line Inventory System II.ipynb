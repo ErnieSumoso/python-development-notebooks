{
 "cells": [
  {
   "cell_type": "markdown",
   "metadata": {},
   "source": [
    "#### Author: Ernie Sumoso"
   ]
  },
  {
   "cell_type": "code",
   "execution_count": 24,
   "metadata": {
    "id": "QnH95zuMrHxb",
    "tags": []
   },
   "outputs": [
    {
     "name": "stdout",
     "output_type": "stream",
     "text": [
      "----------\n",
      "Inventory Management System\n",
      "1. Add item\n",
      "2. Remove item\n",
      "3. Search for item\n",
      "4. Display total number of items\n",
      "5. Exit\n",
      "----------\n"
     ]
    },
    {
     "name": "stdin",
     "output_type": "stream",
     "text": [
      " 1\n",
      "Type the name of your item apples\n",
      "Type the quantity of your item 'apples'. 10\n"
     ]
    },
    {
     "name": "stdout",
     "output_type": "stream",
     "text": [
      "**********\n",
      "INVENTORY\n",
      "You have 10 of 'apples'.\n",
      "**********\n",
      "----------\n",
      "Inventory Management System\n",
      "1. Add item\n",
      "2. Remove item\n",
      "3. Search for item\n",
      "4. Display total number of items\n",
      "5. Exit\n",
      "----------\n"
     ]
    },
    {
     "name": "stdin",
     "output_type": "stream",
     "text": [
      " 1\n",
      "Type the name of your item oranges\n",
      "Type the quantity of your item 'oranges'. 100\n"
     ]
    },
    {
     "name": "stdout",
     "output_type": "stream",
     "text": [
      "**********\n",
      "INVENTORY\n",
      "You have 10 of 'apples'.\n",
      "You have 100 of 'oranges'.\n",
      "**********\n",
      "----------\n",
      "Inventory Management System\n",
      "1. Add item\n",
      "2. Remove item\n",
      "3. Search for item\n",
      "4. Display total number of items\n",
      "5. Exit\n",
      "----------\n"
     ]
    },
    {
     "name": "stdin",
     "output_type": "stream",
     "text": [
      " 2\n",
      "Type the name of your item apples\n",
      "Type the quantity of your item 'apples'. 2\n"
     ]
    },
    {
     "name": "stdout",
     "output_type": "stream",
     "text": [
      "**********\n",
      "INVENTORY\n",
      "You have 8 of 'apples'.\n",
      "You have 100 of 'oranges'.\n",
      "**********\n",
      "----------\n",
      "Inventory Management System\n",
      "1. Add item\n",
      "2. Remove item\n",
      "3. Search for item\n",
      "4. Display total number of items\n",
      "5. Exit\n",
      "----------\n"
     ]
    },
    {
     "name": "stdin",
     "output_type": "stream",
     "text": [
      " 2\n",
      "Type the name of your item apples\n",
      "Type the quantity of your item 'apples'. 10\n"
     ]
    },
    {
     "name": "stdout",
     "output_type": "stream",
     "text": [
      "##########\n",
      "Can't remove that many 'apples', you only have 8 of them.\n",
      "##########\n",
      "----------\n",
      "Inventory Management System\n",
      "1. Add item\n",
      "2. Remove item\n",
      "3. Search for item\n",
      "4. Display total number of items\n",
      "5. Exit\n",
      "----------\n"
     ]
    },
    {
     "name": "stdin",
     "output_type": "stream",
     "text": [
      " 2\n",
      "Type the name of your item apples\n",
      "Type the quantity of your item 'apples'. 8\n"
     ]
    },
    {
     "name": "stdout",
     "output_type": "stream",
     "text": [
      "**********\n",
      "INVENTORY\n",
      "You have 0 of 'apples'.\n",
      "You have 100 of 'oranges'.\n",
      "**********\n",
      "----------\n",
      "Inventory Management System\n",
      "1. Add item\n",
      "2. Remove item\n",
      "3. Search for item\n",
      "4. Display total number of items\n",
      "5. Exit\n",
      "----------\n"
     ]
    },
    {
     "name": "stdin",
     "output_type": "stream",
     "text": [
      " 2\n",
      "Type the name of your item bananas\n",
      "Type the quantity of your item 'bananas'. 9\n"
     ]
    },
    {
     "name": "stdout",
     "output_type": "stream",
     "text": [
      "##########\n",
      "There is no item 'bananas' in your inventory.\n",
      "##########\n",
      "----------\n",
      "Inventory Management System\n",
      "1. Add item\n",
      "2. Remove item\n",
      "3. Search for item\n",
      "4. Display total number of items\n",
      "5. Exit\n",
      "----------\n"
     ]
    },
    {
     "name": "stdin",
     "output_type": "stream",
     "text": [
      " 3\n",
      "Type the name of your item apples\n"
     ]
    },
    {
     "name": "stdout",
     "output_type": "stream",
     "text": [
      "##########\n",
      "You don't have 'apples', item not in stock (0 in stock).\n",
      "##########\n",
      "----------\n",
      "Inventory Management System\n",
      "1. Add item\n",
      "2. Remove item\n",
      "3. Search for item\n",
      "4. Display total number of items\n",
      "5. Exit\n",
      "----------\n"
     ]
    },
    {
     "name": "stdin",
     "output_type": "stream",
     "text": [
      " 3\n",
      "Type the name of your item oranges\n"
     ]
    },
    {
     "name": "stdout",
     "output_type": "stream",
     "text": [
      "##########\n",
      "You have 100 of 'oranges'.\n",
      "##########\n",
      "----------\n",
      "Inventory Management System\n",
      "1. Add item\n",
      "2. Remove item\n",
      "3. Search for item\n",
      "4. Display total number of items\n",
      "5. Exit\n",
      "----------\n"
     ]
    },
    {
     "name": "stdin",
     "output_type": "stream",
     "text": [
      " 3\n",
      "Type the name of your item bananas\n"
     ]
    },
    {
     "name": "stdout",
     "output_type": "stream",
     "text": [
      "##########\n",
      "There is no item 'bananas' in your inventory.\n",
      "##########\n",
      "----------\n",
      "Inventory Management System\n",
      "1. Add item\n",
      "2. Remove item\n",
      "3. Search for item\n",
      "4. Display total number of items\n",
      "5. Exit\n",
      "----------\n"
     ]
    },
    {
     "name": "stdin",
     "output_type": "stream",
     "text": [
      " 4\n"
     ]
    },
    {
     "name": "stdout",
     "output_type": "stream",
     "text": [
      "**********\n",
      "INVENTORY\n",
      "You have 0 of 'apples'.\n",
      "You have 100 of 'oranges'.\n",
      "**********\n",
      "----------\n",
      "Inventory Management System\n",
      "1. Add item\n",
      "2. Remove item\n",
      "3. Search for item\n",
      "4. Display total number of items\n",
      "5. Exit\n",
      "----------\n"
     ]
    },
    {
     "name": "stdin",
     "output_type": "stream",
     "text": [
      " 5\n"
     ]
    }
   ],
   "source": [
    "#Question #1\n",
    "# You are given a basic inventory management system written in Python. Your task is to enhance its functionality by adding new\n",
    "# features and improving error handling.\n",
    "\n",
    "# Requirements:\n",
    "#Display Your full name and student number\n",
    "# You must Use Class object method\n",
    "\n",
    "# Add Item Removal Feature:\n",
    "\n",
    "# Update the menu with an option to remove items from the inventory.\n",
    "\n",
    "# Implement functionality allowing users to specify the item name and quantity to remove.\n",
    "\n",
    "# Implement Error Handling:\n",
    "\n",
    "# Ensure that the user inputs a valid positive integer for both adding and removing items.\n",
    "\n",
    "# Catch and handle any exceptions that might occur due to invalid inputs.\n",
    "\n",
    "# Stock Warning Message:\n",
    "\n",
    "# Modify the program to display a warning if the user attempts to remove more items than are available in stock.\n",
    "\n",
    "# Implement Item Search:\n",
    "\n",
    "# Add a menu option that allows users to search for a specific item in the inventory.\n",
    "\n",
    "# If the item exists, display its quantity; if not, inform the user that the item is not in stock.\n",
    "\n",
    "# Create Total Inventory Function:\n",
    "\n",
    "# Write a new function that calculates the total number of items in the inventory.\n",
    "\n",
    "# Add an option to the menu to display this total count to the user.\n",
    "# def display_menu():\n",
    "\n",
    "#     print(\"\\nInventory Management System\")\n",
    "\n",
    "#     print(\"1. Add item\")\n",
    "\n",
    "#     print(\"2. Remove item\")\n",
    "\n",
    "#     print(\"3. Search for item\")\n",
    "\n",
    "#     print(\"4. Display total number of items\")\n",
    "#     print(\"5. Exit\")\n",
    "\n",
    "class Inventory():\n",
    "    \n",
    "    def __init__(self):\n",
    "        self.items = {}\n",
    "        \n",
    "    def display_menu(self):\n",
    "        print(\"-\"*10)\n",
    "        print(\"Inventory Management System\")\n",
    "        print(\"1. Add item\")\n",
    "        print(\"2. Remove item\")\n",
    "        print(\"3. Search for item\")\n",
    "        print(\"4. Display total number of items\")\n",
    "        print(\"5. Exit\")\n",
    "        print(\"-\"*10)\n",
    "        \n",
    "    def start(self):\n",
    "        while True:\n",
    "            self.display_menu()\n",
    "            option = self.ask_user_menu_input()\n",
    "            if option == 1:\n",
    "                self.add_item()\n",
    "            elif option == 2:\n",
    "                self.remove_item()\n",
    "            elif option == 3:\n",
    "                self.search_item()\n",
    "            elif option == 4:\n",
    "                self.display_items()\n",
    "            elif option == 5:\n",
    "                break\n",
    "            else:\n",
    "                continue\n",
    "                \n",
    "    def ask_user_menu_input(self):\n",
    "        option = \"|\"\n",
    "        acceptable_chars = \"12345\"\n",
    "        while option == \"|\":\n",
    "            user_input = input()\n",
    "            if len(user_input) != 1:\n",
    "                print(\"That is not acceptable. Please select one option.\")\n",
    "                continue\n",
    "            if user_input not in acceptable_chars:\n",
    "                print(\"That is not acceptable. Please select one option.\")\n",
    "                continue\n",
    "            option = int(user_input)\n",
    "        return option\n",
    "    \n",
    "    def add_item(self):\n",
    "        name, quantity = self.ask_user_item()\n",
    "        if name in self.items.keys(): # existing item\n",
    "            self.items[name] += quantity\n",
    "        else: # new item\n",
    "            self.items[name] = quantity\n",
    "        self.display_items()\n",
    "            \n",
    "    def remove_item(self):\n",
    "        name, quantity = self.ask_user_item()\n",
    "        if name in self.items.keys() and self.items[name] >= quantity: # existing item and stocked\n",
    "            self.items[name] -= quantity\n",
    "            self.display_items()\n",
    "        elif name in self.items.keys() and self.items[name] < quantity: # existing item not stocked\n",
    "            print(\"#\"*10)\n",
    "            print(f\"Can't remove that many '{name}', you only have {self.items[name]} of them.\")\n",
    "            print(\"#\"*10)\n",
    "        elif name not in self.items.keys():\n",
    "            print(\"#\"*10)\n",
    "            print(f\"There is no item '{name}' in your inventory.\")\n",
    "            print(\"#\"*10)\n",
    "            \n",
    "    def search_item(self):\n",
    "        name,i = self.ask_user_item(name_only = True)\n",
    "        if name in self.items.keys() and self.items[name] > 0: # existing item and stocked\n",
    "            print(\"#\"*10)\n",
    "            print(f\"You have {self.items[name]} of '{name}'.\")\n",
    "            print(\"#\"*10)\n",
    "        elif name in self.items.keys() and self.items[name] == 0: # existing item not stocked\n",
    "            print(\"#\"*10)\n",
    "            print(f\"You don't have '{name}', item not in stock (0 in stock).\")\n",
    "            print(\"#\"*10)\n",
    "        elif name not in self.items.keys():\n",
    "            print(\"#\"*10)\n",
    "            print(f\"There is no item '{name}' in your inventory.\")\n",
    "            print(\"#\"*10)\n",
    "        \n",
    "    def display_items(self):\n",
    "        print(\"*\"*10)\n",
    "        print(\"INVENTORY\")\n",
    "        total = self.total_number_items()\n",
    "        if total == 0:\n",
    "            print(\"Your inventory is empty.\")\n",
    "        else:\n",
    "            for name, quantity in self.items.items():\n",
    "                print(f\"You have {quantity} of '{name}'.\")\n",
    "        print(\"*\"*10)\n",
    "    \n",
    "    def total_number_items(self):\n",
    "        total = 0\n",
    "        for quantity in self.items.values():\n",
    "            total += quantity\n",
    "        return total\n",
    "    \n",
    "    def ask_user_item(self, name_only=False):\n",
    "        name = \"|\"\n",
    "        quantity = \"|\"\n",
    "        while name == \"|\":\n",
    "            user_input = input(\"Type the name of your item\")\n",
    "            name = user_input.strip()\n",
    "        \n",
    "        if name_only:\n",
    "            return name,-1\n",
    "        \n",
    "        acceptable_chars = \"0123456789\"\n",
    "        while quantity == \"|\":\n",
    "            user_input = input(f\"Type the quantity of your item '{name}'.\")\n",
    "            valid_chars = True\n",
    "            for letter in user_input:\n",
    "                if letter not in acceptable_chars:\n",
    "                    valid_chars = False\n",
    "            if not valid_chars:\n",
    "                print(\"That is not correct. You must only type numbers.\")\n",
    "                continue\n",
    "            user_number = int(user_input) # we have alreaady validated input is only numbers\n",
    "            if user_number < 1:\n",
    "                print(\"That is not correct. You must only enter positive numbers.\")\n",
    "                continue\n",
    "            quantity = user_number\n",
    "        return name, user_number\n",
    "                \n",
    "        \n",
    "inv = Inventory()\n",
    "inv.start()"
   ]
  },
  {
   "cell_type": "code",
   "execution_count": 40,
   "metadata": {
    "id": "NRJ2yKwCrSKs",
    "tags": []
   },
   "outputs": [
    {
     "data": {
      "text/plain": [
       "120"
      ]
     },
     "execution_count": 40,
     "metadata": {},
     "output_type": "execute_result"
    }
   ],
   "source": [
    "# Question #2\n",
    "# Write a loop to find the factorial of any number.\n",
    "# Note: The factorial (symbol: !) means to multiply all whole numbers from our chosen number down to 1.\n",
    "# Examples: Calculate the factorial of 5\n",
    "# 5! = 5 × 4 × 3 × 2 × 1 = 120\n",
    "\n",
    "class Factorial():\n",
    "    \n",
    "    def __init__(self, num):\n",
    "        self.num = num\n",
    "        \n",
    "    def get_factorial(self):\n",
    "        if not isinstance(self.num, int) or self.num < 0:\n",
    "            print(\"Number must be positive integer.\")\n",
    "            return\n",
    "        fact = 1\n",
    "        for i in range(self.num):\n",
    "            fact *= (i+1)\n",
    "        return fact\n",
    "\n",
    "fact = Factorial(5)\n",
    "fact.get_factorial()"
   ]
  }
 ],
 "metadata": {
  "colab": {
   "provenance": []
  },
  "kernelspec": {
   "display_name": "Python 3 (ipykernel)",
   "language": "python",
   "name": "python3"
  },
  "language_info": {
   "codemirror_mode": {
    "name": "ipython",
    "version": 3
   },
   "file_extension": ".py",
   "mimetype": "text/x-python",
   "name": "python",
   "nbconvert_exporter": "python",
   "pygments_lexer": "ipython3",
   "version": "3.11.5"
  }
 },
 "nbformat": 4,
 "nbformat_minor": 4
}
