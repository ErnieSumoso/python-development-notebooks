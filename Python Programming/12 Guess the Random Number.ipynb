{
 "cells": [
  {
   "cell_type": "markdown",
   "id": "6e032348-c64d-41dd-864d-6b659e5b5c73",
   "metadata": {},
   "source": [
    "#### Author: Ernie Sumoso"
   ]
  },
  {
   "cell_type": "code",
   "execution_count": 1,
   "id": "3c10561a-943c-476d-9066-7225cdfe8be2",
   "metadata": {
    "tags": []
   },
   "outputs": [],
   "source": [
    "# import Python library to generate random integers\n",
    "import random"
   ]
  },
  {
   "cell_type": "code",
   "execution_count": 30,
   "id": "32d276b5-d875-4b1b-9b36-2743970fe14d",
   "metadata": {
    "tags": []
   },
   "outputs": [],
   "source": [
    "def play_player(num_players):\n",
    "    nums = [random.randint(1,20) for i in range(num_players)] # generating random integer between 1-20\n",
    "    tries = [0 for i in range(num_players)]\n",
    "    lost = [False for i in range(num_players)]\n",
    "    won = [False for i in range(num_players)]\n",
    "    while True:\n",
    "        guesses = []\n",
    "        for i in range(num_players):\n",
    "            guess = \"\"\n",
    "            while True:\n",
    "                # ask for player input and compare with generated number\n",
    "                guess = input(f\"Player {i+1}. Please, guess a number from 1-20 inclusive.\")\n",
    "                # Make sure the user input is a number between 1-20\n",
    "                if guess not in [str(x) for x in range(1,21)]:\n",
    "                    print(\"That is not correct. Please follow instructions.\")\n",
    "                else:\n",
    "                    break\n",
    "            guesses.append(int(guess))\n",
    "\n",
    "        for i in range(num_players):\n",
    "            tries[i] += 1\n",
    "            if guesses[i] == nums[i]: # if both are the same, player won, otherwise tell if it's lower or higher\n",
    "                print(f\"Player {i+1}. YOU WON! The number was {nums[i]}. It took you {tries[i]} tries.\")\n",
    "                won[i] = True\n",
    "            elif guesses[i] > nums[i]:\n",
    "                print(f\"Player {i+1}. # Tries: {tries[i]}. Your guess is too high! Try lower.\")\n",
    "            else:\n",
    "                print(f\"Player {i+1}. # Tries: {tries[i]}. Your guess is too low! Try higher.\")\n",
    "        count_winners = 0\n",
    "        someone_won = False\n",
    "        for w in won:\n",
    "            if w:\n",
    "                count_winners += 1\n",
    "                someone_won = True\n",
    "        if someone_won and count_winners > 1:\n",
    "            print(\"DRAW!! between players \", end=\"\")\n",
    "            for player,w in enumerate(won):\n",
    "                print(f\"{player+1} AND \", end=\"\")\n",
    "            print(\"\")\n",
    "            return 0\n",
    "        if someone_won:\n",
    "            return int(won.index(True) + 1)\n",
    "\n",
    "        everyone_lost = True\n",
    "        for i in range(num_players):\n",
    "            if tries[i] == 5:\n",
    "                print(f\"Player {i+1}. YOU LOST! The number was {nums[i]}. You did {tries[i]} tries.\")\n",
    "                lost[i] = True\n",
    "            everyone_lost &= lost[i]\n",
    "        if everyone_lost:\n",
    "            return 0"
   ]
  },
  {
   "cell_type": "code",
   "execution_count": 31,
   "id": "b33a3218-3ea4-4e7f-b32f-635f46c5f995",
   "metadata": {
    "tags": []
   },
   "outputs": [],
   "source": [
    "def play():\n",
    "    rounds = int(input(\"How many rounds to play?\"))\n",
    "    players = int(input(\"How many players?\"))\n",
    "    scores = [0 for i in range(players)]\n",
    "    for i in range(rounds):\n",
    "        print(f\"Round {i+1} has started!!\")\n",
    "        result = play_player(players)\n",
    "        if result != 0:\n",
    "            scores[result-1] += 1\n",
    "        print(f\"Scores:\")\n",
    "        for p in range(players):\n",
    "            print(f\"Player {p+1}: {scores[p]}\")"
   ]
  },
  {
   "cell_type": "code",
   "execution_count": null,
   "id": "a9acc3e6-35cc-4ada-9950-8ee37cdfd06b",
   "metadata": {
    "tags": []
   },
   "outputs": [
    {
     "name": "stdin",
     "output_type": "stream",
     "text": [
      "How many rounds to play? 3\n",
      "How many players? 3\n"
     ]
    },
    {
     "name": "stdout",
     "output_type": "stream",
     "text": [
      "Round 1 has started!!\n"
     ]
    }
   ],
   "source": [
    "play()"
   ]
  }
 ],
 "metadata": {
  "kernelspec": {
   "display_name": "Python 3 (ipykernel)",
   "language": "python",
   "name": "python3"
  },
  "language_info": {
   "codemirror_mode": {
    "name": "ipython",
    "version": 3
   },
   "file_extension": ".py",
   "mimetype": "text/x-python",
   "name": "python",
   "nbconvert_exporter": "python",
   "pygments_lexer": "ipython3",
   "version": "3.11.5"
  }
 },
 "nbformat": 4,
 "nbformat_minor": 5
}
