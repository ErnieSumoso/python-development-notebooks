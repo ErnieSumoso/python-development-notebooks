{
 "cells": [
  {
   "cell_type": "markdown",
   "id": "69207e63-220d-4546-b81a-6e063ed55d54",
   "metadata": {},
   "source": [
    "#### Author: Ernie Sumoso"
   ]
  },
  {
   "cell_type": "markdown",
   "id": "13a9041f-faf0-4f63-b4a4-b00c197d1d4a",
   "metadata": {},
   "source": [
    "Q1) Given two non-negative integers num1 and num2 represented as strings, return the product of num1 and num2, also represented as a string.\n",
    "\n",
    "Note: You must not use any built-in BigInteger library or convert the inputs to integer directly.\n",
    "\n",
    " \n",
    "\n",
    "Example 1:\n",
    "\n",
    "Input: num1 = \"2\", num2 = \"3\"\n",
    "\n",
    "Output: \"6\""
   ]
  },
  {
   "cell_type": "code",
   "execution_count": 6,
   "id": "708912ff-eabc-4e98-8199-a78518008bf9",
   "metadata": {
    "tags": []
   },
   "outputs": [
    {
     "data": {
      "text/plain": [
       "'77330'"
      ]
     },
     "execution_count": 6,
     "metadata": {},
     "output_type": "execute_result"
    }
   ],
   "source": [
    "def get_int_from_string(num_str):\n",
    "    num = 0\n",
    "    for i, ch in enumerate(num_str):\n",
    "        num += (ord(ch) - ord(\"0\")) * (10 ** (len(num_str) - i - 1))\n",
    "    return num\n",
    "\n",
    "def get_product_numstrings(num1, num2):\n",
    "    int1 = get_int_from_string(num1)\n",
    "    int2 = get_int_from_string(num2)\n",
    "    return str(int1 * int2)\n",
    "\n",
    "get_product_numstrings(\"22\", \"3515\")"
   ]
  },
  {
   "cell_type": "markdown",
   "id": "e5939297-7511-4cee-a1bd-f2ee286633f1",
   "metadata": {},
   "source": [
    "Q2) The count-and-say sequence is a sequence of digit strings defined by the recursive formula:\n",
    "\n",
    "countAndSay(1) = \"1\"\n",
    "\n",
    "countAndSay(n) is the way you would \"say\" the digit string from countAndSay(n-1), which is then converted into a different digit string.\n",
    "\n",
    "To determine how you \"say\" a digit string, split it into the minimal number of substrings such that each substring contains exactly one unique digit. Then for each substring, say the number of digits, then say the digit. Finally, concatenate every said digit.\n",
    "\n",
    "For example, the saying and conversion for digit string \"3322251\":"
   ]
  },
  {
   "cell_type": "code",
   "execution_count": 2,
   "id": "4250bb79-f5f9-4dc0-9a8f-194b5945cc75",
   "metadata": {
    "tags": []
   },
   "outputs": [
    {
     "name": "stdout",
     "output_type": "stream",
     "text": [
      "11\n",
      "23321511\n",
      "23321591138\n"
     ]
    }
   ],
   "source": [
    "def countAndSay(n):\n",
    "    count, say = 1, \"\"\n",
    "    prev_dig = str(n)[0]\n",
    "    for dig in str(n)[1:]:\n",
    "        if dig == prev_dig:\n",
    "            count += 1\n",
    "            continue\n",
    "        say += str(count) + prev_dig\n",
    "        prev_dig, count = dig, 1\n",
    "    say += str(count) + prev_dig\n",
    "    return say\n",
    "\n",
    "print(countAndSay(1))\n",
    "print(countAndSay(3322251))\n",
    "print(countAndSay(3322251111111118888888888888))"
   ]
  }
 ],
 "metadata": {
  "kernelspec": {
   "display_name": "Python 3 (ipykernel)",
   "language": "python",
   "name": "python3"
  },
  "language_info": {
   "codemirror_mode": {
    "name": "ipython",
    "version": 3
   },
   "file_extension": ".py",
   "mimetype": "text/x-python",
   "name": "python",
   "nbconvert_exporter": "python",
   "pygments_lexer": "ipython3",
   "version": "3.11.5"
  }
 },
 "nbformat": 4,
 "nbformat_minor": 5
}
