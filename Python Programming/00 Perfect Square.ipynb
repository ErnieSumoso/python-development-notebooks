{
 "cells": [
  {
   "cell_type": "markdown",
   "id": "5a829ed3-681b-42b4-bd2f-9f2b4107dcf6",
   "metadata": {},
   "source": [
    "#### Author: Ernie Sumoso"
   ]
  },
  {
   "cell_type": "markdown",
   "id": "12f6579c-6b39-45a0-b4de-e9489a8faff0",
   "metadata": {},
   "source": [
    "Do not use any of Python functions:\n",
    "\n",
    "A-Write a Python program to check if a number is a perfect square\n",
    "\n",
    "B- Write a Python program to find a missing number from a list. \n",
    "Input : [1,2,3,4,6,7,8]\n",
    "Output : 5 \n",
    "\n",
    "C- Write a Python program to find the single number in a list that doesn't occur twice.\n",
    "Input : [5, 3, 4, 3, 4]\n",
    "Output : 5"
   ]
  },
  {
   "cell_type": "code",
   "execution_count": 25,
   "id": "3039ab85-a008-41b9-992d-9ded79a16388",
   "metadata": {
    "tags": []
   },
   "outputs": [
    {
     "data": {
      "text/plain": [
       "True"
      ]
     },
     "execution_count": 25,
     "metadata": {},
     "output_type": "execute_result"
    }
   ],
   "source": [
    "def is_perfect_square(num):\n",
    "    test_num = 0\n",
    "    if num == 1: return True\n",
    "    while test_num <= num // 2:\n",
    "        if test_num ** 2 == num:\n",
    "            return True\n",
    "        test_num += 1\n",
    "    return False\n",
    "\n",
    "is_perfect_square(81)"
   ]
  },
  {
   "cell_type": "code",
   "execution_count": 28,
   "id": "3f2ebcb5-c59f-4b20-9d9d-f76a289d666b",
   "metadata": {
    "tags": []
   },
   "outputs": [
    {
     "data": {
      "text/plain": [
       "5"
      ]
     },
     "execution_count": 28,
     "metadata": {},
     "output_type": "execute_result"
    }
   ],
   "source": [
    "def find_missing_number(lst):\n",
    "    for i in range(len(lst) - 1):\n",
    "        if lst[i] + 1 != lst[i+1]:\n",
    "            return lst[i] + 1\n",
    "\n",
    "find_missing_number([1,2,3,4,6,7,8])"
   ]
  },
  {
   "cell_type": "code",
   "execution_count": 35,
   "id": "ed3677b4-474b-4c01-a095-81a8451b993f",
   "metadata": {
    "tags": []
   },
   "outputs": [
    {
     "data": {
      "text/plain": [
       "5"
      ]
     },
     "execution_count": 35,
     "metadata": {},
     "output_type": "execute_result"
    }
   ],
   "source": [
    "def find_non_repeating_number(lst):\n",
    "    p1, p2 = 0, 1\n",
    "    while p2 != len(lst):\n",
    "        if lst[p1] == lst[p2]:\n",
    "            p1 += 1\n",
    "            p2 = 0\n",
    "        p2 += 1\n",
    "    return lst[p1]\n",
    "\n",
    "find_non_repeating_number([5, 3, 4, 3, 4])"
   ]
  },
  {
   "cell_type": "code",
   "execution_count": null,
   "id": "ae686f19-12d5-4631-ae44-6ae785c5af39",
   "metadata": {},
   "outputs": [],
   "source": []
  }
 ],
 "metadata": {
  "kernelspec": {
   "display_name": "Python 3 (ipykernel)",
   "language": "python",
   "name": "python3"
  },
  "language_info": {
   "codemirror_mode": {
    "name": "ipython",
    "version": 3
   },
   "file_extension": ".py",
   "mimetype": "text/x-python",
   "name": "python",
   "nbconvert_exporter": "python",
   "pygments_lexer": "ipython3",
   "version": "3.11.5"
  }
 },
 "nbformat": 4,
 "nbformat_minor": 5
}
