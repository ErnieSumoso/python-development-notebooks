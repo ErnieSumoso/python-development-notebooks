{
 "cells": [
  {
   "cell_type": "markdown",
   "id": "48afbc2c-8d5b-4197-ac80-1b4674254b5e",
   "metadata": {},
   "source": [
    "#### Author: Ernie Sumoso"
   ]
  },
  {
   "cell_type": "markdown",
   "id": "25eddb54-9fbe-4f62-a067-3d62c632c70c",
   "metadata": {},
   "source": [
    "Q1 You are given a large integer represented as an integer array digits, where each digits[i] is the ith digit of the integer. The digits are ordered from most significant to least significant in left-to-right order. The large integer does not contain any leading 0's.\n",
    "\n",
    "Increment the large integer by one and return the resulting array of digits.\n",
    "\n",
    " Example 1:\n",
    "\n",
    "Input: digits = [1,2,3]\n",
    "\n",
    "Output: [1,2,4]\n",
    "\n",
    "Explanation: The array represents the integer 123.\n",
    "\n",
    "Incrementing by one gives 123 + 1 = 124.\n",
    "\n",
    "Thus, the result should be [1,2,4]."
   ]
  },
  {
   "cell_type": "code",
   "execution_count": 21,
   "id": "b1c18ee9-7d33-4494-ad9e-96e3db76f058",
   "metadata": {
    "tags": []
   },
   "outputs": [
    {
     "name": "stdout",
     "output_type": "stream",
     "text": [
      "[1, 2, 4]\n",
      "[9, 2, 9, 3]\n",
      "[2, 4, 0, 0]\n",
      "[1, 0, 0, 0, 0, 0]\n"
     ]
    }
   ],
   "source": [
    "def increment_integer_array_digit(digs):\n",
    "    last_untouched = -1\n",
    "    for i in range(len(digs)):\n",
    "        if digs[-1 - i] == 9:\n",
    "            digs[-1 - i] = 0\n",
    "            continue\n",
    "        last_untouched = -1 - i + len(digs)\n",
    "        break\n",
    "    if last_untouched != -1:\n",
    "        digs[last_untouched] += 1\n",
    "    else:\n",
    "        digs = [1] + digs\n",
    "    return digs\n",
    "    \n",
    "print(increment_integer_array_digit([1,2,3]))\n",
    "print(increment_integer_array_digit([9,2,9,2]))\n",
    "print(increment_integer_array_digit([2,3,9,9]))\n",
    "print(increment_integer_array_digit([9,9,9,9,9]))"
   ]
  },
  {
   "cell_type": "markdown",
   "id": "1a07e680-6a18-436b-bfb7-516620a53e5f",
   "metadata": {},
   "source": [
    "Q2 Given two strings ransomNote and magazine, return true if ransomNote can be constructed by using the letters from magazine and false otherwise.\n",
    "\n",
    "Each letter in magazine can only be used once in ransomNote.\n",
    "\n",
    " Example 1:\n",
    "\n",
    "Input: ransomNote = \"a\", magazine = \"b\"\n",
    "\n",
    "Output: false\n",
    "\n",
    "Example 2:\n",
    "\n",
    "Input: ransomNote = \"aa\", magazine = \"ab\"\n",
    "\n",
    "Output: false"
   ]
  },
  {
   "cell_type": "code",
   "execution_count": 34,
   "id": "c171ff61-04b1-4ba3-8b41-e294dfa14809",
   "metadata": {
    "tags": []
   },
   "outputs": [
    {
     "name": "stdout",
     "output_type": "stream",
     "text": [
      "False\n",
      "False\n",
      "True\n"
     ]
    }
   ],
   "source": [
    "def can_construct_note(ransom_note, magazine):\n",
    "    available = list(magazine)\n",
    "    for ch in ransom_note:\n",
    "        if ch in available:\n",
    "            available.remove(ch)\n",
    "            continue\n",
    "        return False\n",
    "    return True\n",
    "\n",
    "print(can_construct_note(\"a\", \"b\"))\n",
    "print(can_construct_note(\"aa\", \"ab\"))\n",
    "print(can_construct_note(\"ernie\", \"abcdeefghijklmnopqrstuvwxyz\"))"
   ]
  },
  {
   "cell_type": "markdown",
   "id": "843f0aa5-c3d6-412c-a6dd-12e30e94da6c",
   "metadata": {},
   "source": [
    "Q3 A permutation of an array of integers is an arrangement of its members into a sequence or linear order.\n",
    "\n",
    "For example, for arr = [1,2,3], the following are considered permutations of arr: [1,2,3], [1,3,2], [3,1,2], [2,3,1].\n",
    "The next permutation of an array of integers is the next lexicographically greater permutation of its integer. More formally, if all the permutations of the array are sorted in one container according to their lexicographical order, then the next permutation of that array is the permutation that follows it in the sorted container. If such arrangement is not possible, the array must be rearranged as the lowest possible order (i.e., sorted in ascending order).\n",
    "\n",
    "For example, the next permutation of arr = [1,2,3] is [1,3,2].\n",
    "Similarly, the next permutation of arr = [2,3,1] is [3,1,2].\n",
    "While the next permutation of arr = [3,2,1] is [1,2,3] because [3,2,1] does not have a lexicographical larger rearrangement.\n",
    "Given an array of integers nums, find the next permutation of nums.\n",
    "\n",
    "The replacement must be in place and use only constant extra memory.\n",
    "\n",
    " Example 1:\n",
    "\n",
    "Input: nums = [1,2,3]\n",
    "Output: [1,3,2]"
   ]
  },
  {
   "cell_type": "code",
   "execution_count": 35,
   "id": "00252b97-4803-4f31-b571-913c49a7c24e",
   "metadata": {
    "tags": []
   },
   "outputs": [
    {
     "data": {
      "text/plain": [
       "[1, 3, 2]"
      ]
     },
     "execution_count": 35,
     "metadata": {},
     "output_type": "execute_result"
    }
   ],
   "source": [
    "def get_permutations(nums):\n",
    "    perms = []\n",
    "    perm = nums[:]\n",
    "    i,j = 0,1\n",
    "    while perm not in perms:\n",
    "        perms.append(perm[:])\n",
    "        perm[i], perm[j] = perm[j], perm[i]\n",
    "        i += 1\n",
    "        j += 1\n",
    "        if i == len(nums): i = 0\n",
    "        if j == len(nums): j = 0\n",
    "    return perms\n",
    "    \n",
    "def get_next_permutation(perm):\n",
    "    perms = sorted(get_permutations(perm))\n",
    "    return perms[perms.index(perm) + 1]\n",
    "\n",
    "get_next_permutation([1, 2, 3])"
   ]
  }
 ],
 "metadata": {
  "kernelspec": {
   "display_name": "Python 3 (ipykernel)",
   "language": "python",
   "name": "python3"
  },
  "language_info": {
   "codemirror_mode": {
    "name": "ipython",
    "version": 3
   },
   "file_extension": ".py",
   "mimetype": "text/x-python",
   "name": "python",
   "nbconvert_exporter": "python",
   "pygments_lexer": "ipython3",
   "version": "3.11.5"
  }
 },
 "nbformat": 4,
 "nbformat_minor": 5
}
