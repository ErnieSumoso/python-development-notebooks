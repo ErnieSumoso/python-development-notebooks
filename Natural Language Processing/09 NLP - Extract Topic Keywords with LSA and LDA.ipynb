{
 "cells": [
  {
   "cell_type": "markdown",
   "id": "4851b27d",
   "metadata": {},
   "source": [
    "#### Author: Ernie Sumoso"
   ]
  },
  {
   "cell_type": "markdown",
   "id": "0e65c62f",
   "metadata": {},
   "source": [
    "1- How to replace all the pronouns in a text with their respective object names\n",
    "\n",
    "Q. Replace the pronouns in below text by the respective object names\n",
    "\n",
    "Input :\n",
    "\n",
    "text=\" My sister has a dog and she loves him\"\n",
    "\n",
    "Desired Output :\n",
    "\n",
    "\n",
    "[My sister,she]\n",
    "\n",
    "[a dog ,him ]"
   ]
  },
  {
   "cell_type": "code",
   "execution_count": 76,
   "id": "8fe727c1",
   "metadata": {
    "tags": []
   },
   "outputs": [
    {
     "ename": "ModuleNotFoundError",
     "evalue": "No module named 'spacy'",
     "output_type": "error",
     "traceback": [
      "\u001b[1;31m---------------------------------------------------------------------------\u001b[0m",
      "\u001b[1;31mModuleNotFoundError\u001b[0m                       Traceback (most recent call last)",
      "Cell \u001b[1;32mIn[76], line 5\u001b[0m\n\u001b[0;32m      1\u001b[0m \u001b[38;5;66;03m# Problem 1 not giving results:\u001b[39;00m\n\u001b[0;32m      2\u001b[0m \u001b[38;5;66;03m# I tried solving the libraries dependencies and errors by downgrading versions, creating a new environment, changing Python version but none of it worked.\u001b[39;00m\n\u001b[0;32m      3\u001b[0m \u001b[38;5;66;03m# Problem 2 and 3 are working correctly.\u001b[39;00m\n\u001b[1;32m----> 5\u001b[0m \u001b[38;5;28;01mimport\u001b[39;00m \u001b[38;5;21;01mspacy\u001b[39;00m\n\u001b[0;32m      6\u001b[0m \u001b[38;5;28;01mimport\u001b[39;00m \u001b[38;5;21;01mneuralcoref\u001b[39;00m\n\u001b[0;32m      8\u001b[0m \u001b[38;5;28;01mdef\u001b[39;00m \u001b[38;5;21mreplace_pronouns_with_object_names\u001b[39m(text, pipeline\u001b[38;5;241m=\u001b[39m\u001b[38;5;124m'\u001b[39m\u001b[38;5;124men_core_web_sm\u001b[39m\u001b[38;5;124m'\u001b[39m):\n",
      "\u001b[1;31mModuleNotFoundError\u001b[0m: No module named 'spacy'"
     ]
    }
   ],
   "source": [
    "# Problem 1 not giving results:\n",
    "# I tried solving the libraries dependencies and errors by downgrading versions, creating a new environment, changing Python version but none of it worked.\n",
    "# Problem 2 and 3 are working correctly.\n",
    "\n",
    "import spacy\n",
    "import neuralcoref\n",
    "\n",
    "def replace_pronouns_with_object_names(text, pipeline='en_core_web_sm'):\n",
    "    nlp = spacy.load(pipeline)\n",
    "    neuralcoref.add_to_pipe(nlp)\n",
    "    doc = nlp(text)\n",
    "    return doc._.coref_clusters\n",
    "    \n",
    "text = 'My sister has a dog. She loves him.'\n",
    "replace_pronouns_with_object_names(text)"
   ]
  },
  {
   "cell_type": "code",
   "execution_count": 14,
   "id": "aa3da029",
   "metadata": {
    "tags": []
   },
   "outputs": [],
   "source": [
    "# !pip list\n",
    "# !pip freeze\n",
    "# !pip show spacy\n",
    "# !pip install spacy==2.3.5\n",
    "# !pip install en_core_web_sm\n",
    "# !pip install --upgrade spacy\n",
    "# !spacy download en_core_web_sm\n",
    "# !python -m spacy download en_core_web_sm\n",
    "# !pip install neuralcoref --no-binary neuralcoref"
   ]
  },
  {
   "cell_type": "code",
   "execution_count": 13,
   "id": "50718d01",
   "metadata": {
    "tags": []
   },
   "outputs": [],
   "source": [
    "# import spacy.cli \n",
    "# spacy.cli.download(\"en_core_web_md\")"
   ]
  },
  {
   "cell_type": "markdown",
   "id": "88412d8a",
   "metadata": {},
   "source": [
    "2- How to extract topic keywords using LSA?\n",
    "Q. Extract the topic keywords from the given texts using LSA(Latent Semantic Analysis )\n",
    "\n",
    "Input :\n",
    "\n",
    "texts= [...]\n",
    "\n",
    "Desired Output :\n",
    "\n",
    "#> Topic 0: \n",
    "#> learn new life travelling country feel  \n",
    "#> Topic 1: \n",
    "#> life cherish diaries let share experience  \n",
    "#> Topic 2: \n",
    "#> feel know time people just regions  "
   ]
  },
  {
   "cell_type": "code",
   "execution_count": 17,
   "id": "269dbd9e",
   "metadata": {
    "tags": []
   },
   "outputs": [],
   "source": [
    "texts = [\"\"\"It's all about travel. I travel a lot.  those who do not travel read only a page.” – said Saint Augustine. He was a great travel person. Travelling can teach you more than any university course. You learn about the culture of the country you visit. If you talk to locals, you will likely learn about their thinking, habits, traditions and history as well.If you travel, you will not only learn about foreign cultures, but about your own as well. You will notice the cultural differences, and will find out what makes your culture unique. After retrurning from a long journey, you will see your country with new eyes.\"\"\",\n",
    "        \"\"\" You can learn a lot about yourself through travelling. You can observe how you feel beeing far from your country. You will find out how you feel about your homeland.You should travel You will realise how you really feel about foreign people. You will find out how much you know/do not know about the world. You will be able to observe how you react in completely new situations. You will test your language, orientational and social skills. You will not be the same person after returning home.During travelling you will meet people that are very different from you. If you travel enough, you will learn to accept and appreciate these differences. Traveling makes you more open and accepting.\"\"\",\n",
    "        \"\"\"Some of my most cherished memories are from the times when I was travelling. If you travel, you can experience things that you could never experience at home. You may see beautiful places and landscapes that do not exist where you live. You may meet people that will change your life, and your thingking. You may try activities that you have never tried before.Travelling will inevitably make you more independent and confident. You will realise that you can cope with a lot of unexpected situations. You will realise that you can survive without all that help that is always available for you at home. You will likely find out that you are much stronger and braver than you have expected.\"\"\",\n",
    "        \"\"\"If you travel, you may learn a lot of useful things. These things can be anything from a new recepie, to a new, more effective solution to an ordinary problem or a new way of creating something.Even if you go to a country where they speak the same language as you, you may still learn some new words and expressions that are only used there. If you go to a country where they speak a different language, you will learn even more.\"\"\",\n",
    "        \"\"\"After arriving home from a long journey, a lot of travellers experience that they are much more motivated than they were before they left. During your trip you may learn things that you will want to try at home as well. You may want to test your new skills and knowledge. Your experiences will give you a lot of energy.During travelling you may experience the craziest, most exciting things, that will eventually become great stories that you can tell others. When you grow old and look back at your life and all your travel experiences, you will realise how much you have done in your life and your life was not in vain. It can provide you with happiness and satisfaction for the rest of your life.\"\"\",\n",
    "        \"\"\"The benefits of travel are not just a one-time thing: travel changes you physically and psychologically. Having little time or money isn't a valid excuse. You can travel for cheap very easily. If you have a full-time job and a family, you can still travel on the weekends or holidays, even with a baby. travel  more is likely to have a tremendous impact on your mental well-being, especially if you're no used to going out of your comfort zone. Trust me: travel more and your doctor will be happy. Be sure to get in touch with your physician, they might recommend some medication to accompany you in your travels, especially if you're heading to regions of the globe with potentially dangerous diseases.\"\"\",\n",
    "        \"\"\"Sure, you probably feel comfortable where you are, but that is just a fraction of the world! If you are a student, take advantage of programs such as Erasmus to get to know more people, experience and understand their culture. Dare traveling to regions you have a skeptical opinion about. I bet that you will change your mind and realize that everything is not so bad abroad.\"\"\",\n",
    "        \"\"\" So, travel makes you cherish life. Let's travel more . Share your travel diaries with us too\"\"\"\n",
    "        ]"
   ]
  },
  {
   "cell_type": "code",
   "execution_count": 27,
   "id": "30bcd46c",
   "metadata": {
    "tags": []
   },
   "outputs": [
    {
     "name": "stdout",
     "output_type": "stream",
     "text": [
      "\n",
      "Topic 0: \n",
      "travel learn life new country travelling things home lot feel \n",
      "Topic 1: \n",
      "travel time cherish diaries let share makes especially accompany baby \n",
      "Topic 2: \n",
      "life home experience experiences want cherish diaries let share try \n",
      "Topic 3: \n",
      "time just regions sure travel abroad advantage bad bet comfortable \n",
      "Topic 4: \n",
      "time especially things new speak used accompany baby benefits changes \n",
      "Topic 5: \n",
      "life experiences want things new advantage bad bet comfortable dare \n",
      "Topic 6: \n",
      "culture augustine course cultural cultures eyes habits history locals notice \n",
      "Topic 7: \n",
      "observe feel experiences want skills test know differences foreign person "
     ]
    }
   ],
   "source": [
    "from sklearn.feature_extraction.text import TfidfVectorizer\n",
    "from sklearn.decomposition import TruncatedSVD # to represent docs and terms in vectors\n",
    "\n",
    "def extract_keywords_per_topic_with_LSA(docs, top_n=10):\n",
    "    tfidf = TfidfVectorizer(stop_words='english')\n",
    "    matrix= tfidf.fit_transform(texts)\n",
    "    feature_names = tfidf.get_feature_names_out() # terms\n",
    "\n",
    "    svd = TruncatedSVD(n_components=10, algorithm='randomized', n_iter=100)\n",
    "    svd.fit(matrix)\n",
    "\n",
    "    # Loop through topics\n",
    "    for i, component in enumerate(svd.components_):\n",
    "        terms_comp = zip(feature_names, component)\n",
    "        sorted_terms = sorted(terms_comp, key= lambda x:x[1], reverse=True)[:top_n]\n",
    "\n",
    "        print(\"\\nTopic \"+str(i)+\": \")\n",
    "        for t in sorted_terms: print(t[0],end=' ')\n",
    "\n",
    "extract_keywords_per_topic_with_LSA(texts)"
   ]
  },
  {
   "cell_type": "markdown",
   "id": "a1e3c020",
   "metadata": {},
   "source": [
    "3- How to extract topic Keywords using LDA ?\n",
    "\n",
    "Extract the the topics from the given texts with the help of LDA(Latent dirichlet algorithm)\n",
    "\n",
    "Input :\n",
    "\n",
    "texts= [...]\n",
    "\n",
    "Desired Output :\n",
    "\n",
    "[(0, '0.068*\"travel\" + 0.044*\"learn\" + 0.027*\"country\" + 0.027*\"If\" + 0.026*\"find\"'), (1, '0.054*\"may\" + 0.036*\"realise\" + 0.036*\"home\" + 0.036*\"experience\" + 0.036*\"never\"'), (2, '0.047*\"may\" + 0.044*\"life\" + 0.039*\"new\" + 0.036*\"things\" + 0.032*\"learn\"'), (3, '0.031*\"If\" + 0.031*\"people\" + 0.031*\"I\" + 0.031*\"world\" + 0.031*\"know\"'), (4, '0.085*\"travel\" + 0.042*\"\\'\" + 0.042*\"-\" + 0.042*\"time\" + 0.028*\"especially\"')]"
   ]
  },
  {
   "cell_type": "code",
   "execution_count": 39,
   "id": "34a6968f",
   "metadata": {
    "tags": []
   },
   "outputs": [],
   "source": [
    "texts = [\"\"\"It's all about travel. I travel a lot.  those who do not travel read only a page.\" - said Saint Augustine. He was a great travel person. Travelling can teach you more than any university course. You learn about the culture of the country you visit. If you talk to locals, you will likely learn about their thinking, habits, traditions and history as well.If you travel, you will not only learn about foreign cultures, but about your own as well. You will notice the cultural differences, and will find out what makes your culture unique. After retrurning from a long journey, you will see your country with new eyes.\"\"\",\n",
    "        \"\"\" You can learn a lot about yourself through travelling. You can observe how you feel beeing far from your country. You will find out how you feel about your homeland.You should travel You will realise how you really feel about foreign people. You will find out how much you know/do not know about the world. You will be able to observe how you react in completely new situations. You will test your language, orientational and social skills. You will not be the same person after returning home.During travelling you will meet people that are very different from you. If you travel enough, you will learn to accept and appreciate these differences. Traveling makes you more open and accepting.\"\"\",\n",
    "        \"\"\"Some of my most cherished memories are from the times when I was travelling. If you travel, you can experience things that you could never experience at home. You may see beautiful places and landscapes that do not exist where you live. You may meet people that will change your life, and your thingking. You may try activities that you have never tried before.Travelling will inevitably make you more independent and confident. You will realise that you can cope with a lot of unexpected situations. You will realise that you can survive without all that help that is always available for you at home. You will likely find out that you are much stronger and braver than you have expected.\"\"\",\n",
    "        \"\"\"If you travel, you may learn a lot of useful things. These things can be anything from a new recepie, to a new, more effective solution to an ordinary problem or a new way of creating something.Even if you go to a country where they speak the same language as you, you may still learn some new words and expressions that are only used there. If you go to a country where they speak a different language, you will learn even more.\"\"\",\n",
    "        \"\"\"After arriving home from a long journey, a lot of travellers experience that they are much more motivated than they were before they left. During your trip you may learn things that you will want to try at home as well. You may want to test your new skills and knowledge. Your experiences will give you a lot of energy.During travelling you may experience the craziest, most exciting things, that will eventually become great stories that you can tell others. When you grow old and look back at your life and all your travel experiences, you will realise how much you have done in your life and your life was not in vain. It can provide you with happiness and satisfaction for the rest of your life.\"\"\",\n",
    "        \"\"\"The benefits of travel are not just a one-time thing: travel changes you physically and psychologically. Having little time or money isn't a valid excuse. You can travel for cheap very easily. If you have a full-time job and a family, you can still travel on the weekends or holidays, even with a baby. travel  more is likely to have a tremendous impact on your mental well-being, especially if you're no used to going out of your comfort zone. Trust me: travel more and your doctor will be happy. Be sure to get in touch with your physician, they might recommend some medication to accompany you in your travels, especially if you're heading to regions of the globe with potentially dangerous diseases.\"\"\",\n",
    "        \"\"\"Sure, you probably feel comfortable where you are, but that is just a fraction of the world! If you are a student, take advantage of programs such as Erasmus to get to know more people, experience and understand their culture. Dare traveling to regions you have a skeptical opinion about. I bet that you will change your mind and realize that everything is not so bad abroad.\"\"\",\n",
    "        \"\"\" So, travel makes you cherish life. Let's travel more . Share your travel diaries with us too\"\"\"\n",
    "        ]"
   ]
  },
  {
   "cell_type": "code",
   "execution_count": 67,
   "id": "965a00af-b7d4-4db1-bdb6-538292824f17",
   "metadata": {
    "tags": []
   },
   "outputs": [
    {
     "name": "stdout",
     "output_type": "stream",
     "text": [
      "[(0, '0.004*\"travel\" + 0.004*\"experience\" + 0.004*\"never\" + 0.004*\"likely\" + 0.004*\"change\"'), (1, '0.004*\"travel\" + 0.004*\"life\" + 0.004*\"youre\" + 0.004*\"regions\" + 0.004*\"experience\"'), (2, '0.024*\"life\" + 0.024*\"feel\" + 0.018*\"much\" + 0.018*\"travelling\" + 0.018*\"people\"'), (3, '0.086*\"travel\" + 0.033*\"learn\" + 0.023*\"culture\" + 0.023*\"country\" + 0.023*\"makes\"'), (4, '0.041*\"may\" + 0.033*\"new\" + 0.025*\"things\" + 0.025*\"learn\" + 0.017*\"language\"'), (5, '0.064*\"travel\" + 0.023*\"youre\" + 0.023*\"especially\" + 0.012*\"regions\" + 0.012*\"get\"')]\n"
     ]
    }
   ],
   "source": [
    "import string\n",
    "from nltk.corpus import stopwords\n",
    "from nltk import word_tokenize\n",
    "from gensim import models, corpora\n",
    "from gensim.models.ldamodel import LdaModel\n",
    "\n",
    "stopwords = stopwords.words('english')\n",
    "\n",
    "def remove_punctuation_stopwords_and_tokenize(docs, stopwords):\n",
    "    clean_docs = []\n",
    "    for doc in docs:\n",
    "        clean_doc = doc.translate(str.maketrans('', '', string.punctuation))\n",
    "        doc_tokens = word_tokenize(clean_doc)\n",
    "        i = 0\n",
    "        while i < len(doc_tokens):\n",
    "            if doc_tokens[i].lower() in stopwords:\n",
    "                doc_tokens.pop(i)\n",
    "                i -= 1\n",
    "                continue\n",
    "            i += 1\n",
    "        clean_docs.append(doc_tokens)\n",
    "    return clean_docs\n",
    "\n",
    "def extract_keywords_per_topic_with_LDA(tokenized_docs, num_topics=6):\n",
    "    dic = corpora.Dictionary(tokenized_docs)\n",
    "    matrix = [dic.doc2bow(doc) for doc in tokenized_docs] # document-term matrix\n",
    "    lda = LdaModel(matrix, num_topics=num_topics, id2word=dic, passes=40)\n",
    "    print(lda.print_topics(num_topics=num_topics, num_words=5))\n",
    "    \n",
    "clean_tokenized_docs = remove_punctuation_stopwords_and_tokenize(texts, stopwords)\n",
    "extract_keywords_per_topic_with_LDA(clean_tokenized_docs)"
   ]
  }
 ],
 "metadata": {
  "kernelspec": {
   "display_name": "Python 3 (ipykernel)",
   "language": "python",
   "name": "python3"
  },
  "language_info": {
   "codemirror_mode": {
    "name": "ipython",
    "version": 3
   },
   "file_extension": ".py",
   "mimetype": "text/x-python",
   "name": "python",
   "nbconvert_exporter": "python",
   "pygments_lexer": "ipython3",
   "version": "3.11.5"
  }
 },
 "nbformat": 4,
 "nbformat_minor": 5
}
