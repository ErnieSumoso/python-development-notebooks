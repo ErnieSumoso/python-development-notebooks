{
 "cells": [
  {
   "cell_type": "markdown",
   "id": "2a43778a-76c6-47ff-a4da-905cf98d7d72",
   "metadata": {},
   "source": [
    "#### Author: Ernie Sumoso"
   ]
  },
  {
   "cell_type": "markdown",
   "id": "f4570b37-78e9-41e1-9ff2-8036bc7a849c",
   "metadata": {},
   "source": [
    "1. Correct the spelling errors in the following text\n",
    "\n",
    "Input :\n",
    "\n",
    "text=\"He is a gret person. He beleives in bod\"\n",
    "\n",
    "Desired Output:\n",
    "\n",
    "text=\"He is a great person. He believes in god\""
   ]
  },
  {
   "cell_type": "code",
   "execution_count": 1,
   "id": "6cdcbf40-e3ef-437e-b372-c20644fc2493",
   "metadata": {
    "tags": []
   },
   "outputs": [],
   "source": [
    "#!pip install pattern"
   ]
  },
  {
   "cell_type": "code",
   "execution_count": 3,
   "id": "5d84d9e1-219d-4f24-911c-b050ac156129",
   "metadata": {
    "tags": []
   },
   "outputs": [
    {
     "data": {
      "text/plain": [
       "'He is a great person. He believes in god'"
      ]
     },
     "execution_count": 3,
     "metadata": {},
     "output_type": "execute_result"
    }
   ],
   "source": [
    "import string\n",
    "from pattern.en import suggest\n",
    "from nltk import word_tokenize\n",
    "\n",
    "def correct_spelling_errors(text):\n",
    "    tokens = word_tokenize(text)\n",
    "    new_text = \"\"\n",
    "    for token in tokens:\n",
    "        if token in string.punctuation:\n",
    "            new_text = new_text[:-1] + token + \" \"\n",
    "        else:\n",
    "            new_text += suggest(token)[0][0] + \" \"\n",
    "    return new_text[:-1]\n",
    "\n",
    "sample_text=\"He is a gret person. He beleives in bod\"\n",
    "correct_spelling_errors(sample_text)"
   ]
  },
  {
   "cell_type": "markdown",
   "id": "2a2a12a7-0e50-478a-8b76-28b7dc80bbf0",
   "metadata": {},
   "source": [
    "2. Clean the following tweet and tokenize them\n",
    "\n",
    "Input :\n",
    "\n",
    "text=\" Having lots of fun #goa #vaction #summervacation. Fancy dinner @Beachbay restro :) \"\n",
    "\n",
    "Desired Output :\n",
    "\n",
    "['Having',\n",
    " 'lots',\n",
    " 'of',\n",
    " 'fun',\n",
    " 'goa',\n",
    " 'vaction',\n",
    " 'summervacation',\n",
    " 'Fancy',\n",
    " 'dinner',\n",
    " 'Beachbay',\n",
    " 'restro']"
   ]
  },
  {
   "cell_type": "code",
   "execution_count": 4,
   "id": "9cffe25c-16e1-407d-9118-d8b8beb9f82e",
   "metadata": {
    "tags": []
   },
   "outputs": [
    {
     "name": "stdout",
     "output_type": "stream",
     "text": [
      "['Having', 'lots', 'of', 'fun', 'goa', 'vaction', 'summervacation', 'Fancy', 'dinner', 'Beachbay', 'restro']\n"
     ]
    }
   ],
   "source": [
    "def tokenize_tweet(text):\n",
    "    clean = text.translate(str.maketrans('', '', string.punctuation))\n",
    "    return word_tokenize(clean)\n",
    "\n",
    "sample_text = \" Having lots of fun #goa #vaction #summervacation. Fancy dinner @Beachbay restro :) \"\n",
    "print(tokenize_tweet(sample_text))"
   ]
  },
  {
   "cell_type": "markdown",
   "id": "2e2f18cc-4d50-424f-9573-6ea90cb762a1",
   "metadata": {},
   "source": [
    "3. Write a Python program to find the occurrence and position of substrings within a string."
   ]
  },
  {
   "cell_type": "code",
   "execution_count": 5,
   "id": "228ffd8c-346f-4409-80f7-a9082590bd42",
   "metadata": {
    "tags": []
   },
   "outputs": [
    {
     "data": {
      "text/plain": [
       "[('this is', 0),\n",
       " ('this is', 40),\n",
       " ('this is', 58),\n",
       " ('this is', 76),\n",
       " ('real', 12),\n",
       " ('real', 52),\n",
       " ('real', 70)]"
      ]
     },
     "execution_count": 5,
     "metadata": {},
     "output_type": "execute_result"
    }
   ],
   "source": [
    "# Solution 1. Using Python built-in methods only\n",
    "def find_occurrences(text, subs):\n",
    "    occurrences = []\n",
    "    for sub in subs:\n",
    "        i = 0\n",
    "        while i <= len(text):\n",
    "            i = text.find(sub, i)\n",
    "            if i == -1: break\n",
    "            occurrences.append((sub, i))\n",
    "            i += 1\n",
    "    return occurrences\n",
    "\n",
    "sample_text = \"this is not real, right? i am dreaming, this is not real, this is not real, this is fake\"\n",
    "find_occurrences(sample_text, ['this is', 'real'])"
   ]
  },
  {
   "cell_type": "code",
   "execution_count": 6,
   "id": "6dc375c3-4a2b-40b4-b97a-27d564244896",
   "metadata": {
    "tags": []
   },
   "outputs": [
    {
     "data": {
      "text/plain": [
       "[('this is', 0),\n",
       " ('this is', 40),\n",
       " ('this is', 58),\n",
       " ('this is', 76),\n",
       " ('real', 12),\n",
       " ('real', 52),\n",
       " ('real', 70)]"
      ]
     },
     "execution_count": 6,
     "metadata": {},
     "output_type": "execute_result"
    }
   ],
   "source": [
    "# Solution 2. Using regex\n",
    "import re\n",
    "    \n",
    "def find_occurrences_re(text, subs):\n",
    "    occs = []\n",
    "    for sub in subs:\n",
    "        occs += [(sub, m.start()) for m in re.finditer(sub, sample_text)]\n",
    "    return occs\n",
    "\n",
    "find_occurrences_re(sample_text, [\"this is\", 'real'])"
   ]
  },
  {
   "cell_type": "markdown",
   "id": "bc2d0a05-b6bf-4027-9cba-3b20c7e34556",
   "metadata": {},
   "source": [
    "4. Write a Python program to replace whitespaces with an underscore and vice versa."
   ]
  },
  {
   "cell_type": "code",
   "execution_count": 7,
   "id": "a2fbc681-a6aa-4f4c-9a4a-45f2cded2905",
   "metadata": {
    "tags": []
   },
   "outputs": [
    {
     "name": "stdout",
     "output_type": "stream",
     "text": [
      "this_is_not_real,_right?_i_am_dreaming,_this_is_not_real,_this_is_not_real,_this_is_fake\n",
      "this is not real, right? i am dreaming, this is not real, this is not real, this is fake\n"
     ]
    }
   ],
   "source": [
    "def replace_underscore_with_whitespace(text, vice=False):\n",
    "    return text.replace(\"_\", \" \") if not vice else text.replace(\" \", \"_\")\n",
    "\n",
    "sample_text = \"this is not real, right? i am dreaming, this is not real, this is not real, this is fake\"\n",
    "print(replace_underscore_with_whitespace(sample_text, True))\n",
    "print(replace_underscore_with_whitespace(sample_text))"
   ]
  }
 ],
 "metadata": {
  "kernelspec": {
   "display_name": "Python 3 (ipykernel)",
   "language": "python",
   "name": "python3"
  },
  "language_info": {
   "codemirror_mode": {
    "name": "ipython",
    "version": 3
   },
   "file_extension": ".py",
   "mimetype": "text/x-python",
   "name": "python",
   "nbconvert_exporter": "python",
   "pygments_lexer": "ipython3",
   "version": "3.11.5"
  }
 },
 "nbformat": 4,
 "nbformat_minor": 5
}
