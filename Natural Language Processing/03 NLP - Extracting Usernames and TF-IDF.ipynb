{
 "cells": [
  {
   "cell_type": "markdown",
   "id": "6bfbc16e-fc5e-4ba6-b82a-7d9bb9bb55a9",
   "metadata": {},
   "source": [
    "#### Author: Ernie Sumoso"
   ]
  },
  {
   "cell_type": "markdown",
   "id": "7c0e641f-1c9a-4756-889e-3039c3478b0d",
   "metadata": {},
   "source": [
    "1-Extract the usernames from the email addresses present in the text\n",
    "\n",
    "Input :\n",
    "\n",
    "text= \"The new registrations are potter709@gmail.com , elixir101@gmail.com. If you find any disruptions, kindly contact granger111@gamil.com or severus77@gamil.com \"\n",
    "\n",
    "Desired Output : ['potter709', 'elixir101', 'granger111', 'severus77']"
   ]
  },
  {
   "cell_type": "code",
   "execution_count": 10,
   "id": "f40f3d1f-1823-465f-9dba-ce2622058b60",
   "metadata": {
    "tags": []
   },
   "outputs": [
    {
     "data": {
      "text/plain": [
       "['potter709', 'elixir101', 'granger111', 'severus77']"
      ]
     },
     "execution_count": 10,
     "metadata": {},
     "output_type": "execute_result"
    }
   ],
   "source": [
    "import re\n",
    "\n",
    "# Problem 1 solution\n",
    "def extract_email_usernames(text):\n",
    "    emails = re.findall('\\S+@\\S+.com', sample_text)\n",
    "    return [email[:email.index('@')] for email in emails]\n",
    "\n",
    "sample_text = \"The new registrations are potter709@gmail.com , elixir101@gmail.com. If you find any disruptions, kindly contact granger111@gamil.com or severus77@gamil.com \"\n",
    "extract_email_usernames(sample_text)"
   ]
  },
  {
   "cell_type": "markdown",
   "id": "d633441a-f09a-4da0-ba8c-f1c0d11d7e22",
   "metadata": {},
   "source": [
    "2-Extract the top 10 most common words in the given text excluding stopwords.\n",
    "\n",
    "Input :\n",
    "\n",
    "text=\"\"\"Junkfood - Food that do no good to our body. And there's no need of them in our body but still we willingly eat them because they are great in taste and easy to cook or ready to eat. Junk foods have no or very less nutritional value and irrespective of the way they are marketed, they are not healthy to consume.The only reason of their gaining popularity and increased trend of consumption is \n",
    "that they are ready to eat or easy to cook foods. People, of all age groups are moving towards Junkfood as it is hassle free and often ready to grab and eat. Cold drinks, chips, noodles, pizza, burgers, French fries etc. are few examples from the great variety of junk food available in the market.\n",
    " Junkfood is the most dangerous food ever but it is pleasure in eating and it gives a great taste in mouth examples of Junkfood are kurkure and chips.. cold rings are also source of junk food... they shud nt be ate in high amounts as it results fatal to our body... it cn be eated in a limited extend ... in research its found tht ths junk foods r very dangerous fr our health\n",
    "Junkfood is very harmful that is slowly eating away the health of the present generation. The term itself denotes how dangerous it is for our bodies. Most importantly, it tastes so good that people consume it on a daily basis. However, not much awareness is spread about the harmful effects of Junkfood .\n",
    "The problem is more serious than you think. Various studies show that Junkfood impacts our health negatively. They contain higher levels of calories, fats, and sugar. On the contrary, they have very low amounts of healthy nutrients and lack dietary fibers. Parents must discourage their children from consuming junk food because of the ill effects it has on one’s health.\n",
    "Junkfood is the easiest way to gain unhealthy weight. The amount of fats and sugar in the food makes you gain weight rapidly. However, this is not a healthy weight. It is more of fats and cholesterol which will have a harmful impact on your health. Junk food is also one of the main reasons for the increase in obesity nowadays.\n",
    "This food only looks and tastes good, other than that, it has no positive points. The amount of calorie your body requires to stay fit is not fulfilled by this food. For instance, foods like French fries, burgers, candy, and cookies, all have high amounts of sugar and fats. Therefore, this can result in long-term illnesses like diabetes and high blood pressure. This may also result in kidney failure.\"\"\"\n",
    "\n",
    "Desired Output:\n",
    "\n",
    "text= {Junkfood: 10,\n",
    " food: 8,\n",
    " good: 5,\n",
    " harmful : 3\n",
    " body: 1,\n",
    " need: 1, ...(truncated)"
   ]
  },
  {
   "cell_type": "code",
   "execution_count": 35,
   "id": "2d6e7892-7869-43a5-862c-e67e7a163cec",
   "metadata": {
    "tags": []
   },
   "outputs": [
    {
     "data": {
      "text/plain": [
       "{'food': 9,\n",
       " 'junkfood': 8,\n",
       " 'junk': 6,\n",
       " 'health': 5,\n",
       " 'body': 4,\n",
       " 'eat': 4,\n",
       " 'foods': 4,\n",
       " 'fats': 4,\n",
       " 'good': 3,\n",
       " 'great': 3}"
      ]
     },
     "execution_count": 35,
     "metadata": {},
     "output_type": "execute_result"
    }
   ],
   "source": [
    "from nltk.tokenize import word_tokenize\n",
    "from nltk.corpus import stopwords\n",
    "import string\n",
    "# Problem 2 solution\n",
    "\n",
    "def remove_stopwords(text):\n",
    "    tokens = word_tokenize(text)\n",
    "    tokens_lower = map(str.lower, tokens)\n",
    "    stops = stopwords.words('english')\n",
    "    filtered = []\n",
    "    for word in tokens_lower:\n",
    "        if word not in stops:\n",
    "            filtered.append(word)\n",
    "    return filtered\n",
    "\n",
    "def get_top_n_common_words(text, n):\n",
    "    no_punc = text.translate(str.maketrans('', '', string.punctuation))\n",
    "    filtered = remove_stopwords(no_punc)\n",
    "    counts = {}\n",
    "    for word in filtered:\n",
    "        if word not in counts:\n",
    "            counts[word] = filtered.count(word)\n",
    "    return dict(sorted(counts.items(), key=lambda item: item[1], reverse=True)[:n])\n",
    "\n",
    "sample_text = \"\"\"Junkfood - Food that do no good to our body. And there's no need of them in our body but still we willingly eat them because they are great in taste and easy to cook or ready to eat. Junk foods have no or very less nutritional value and irrespective of the way they are marketed, they are not healthy to consume.The only reason of their gaining popularity and increased trend of consumption is that they are ready to eat or easy to cook foods. People, of all age groups are moving towards Junkfood as it is hassle free and often ready to grab and eat. Cold drinks, chips, noodles, pizza, burgers, French fries etc. are few examples from the great variety of junk food available in the market. Junkfood is the most dangerous food ever but it is pleasure in eating and it gives a great taste in mouth examples of Junkfood are kurkure and chips.. cold rings are also source of junk food... they shud nt be ate in high amounts as it results fatal to our body... it cn be eated in a limited extend ... in research its found tht ths junk foods r very dangerous fr our health Junkfood is very harmful that is slowly eating away the health of the present generation. The term itself denotes how dangerous it is for our bodies. Most importantly, it tastes so good that people consume it on a daily basis. However, not much awareness is spread about the harmful effects of Junkfood . The problem is more serious than you think. Various studies show that Junkfood impacts our health negatively. They contain higher levels of calories, fats, and sugar. On the contrary, they have very low amounts of healthy nutrients and lack dietary fibers. Parents must discourage their children from consuming junk food because of the ill effects it has on one’s health. Junkfood is the easiest way to gain unhealthy weight. The amount of fats and sugar in the food makes you gain weight rapidly. However, this is not a healthy weight. It is more of fats and cholesterol which will have a harmful impact on your health. Junk food is also one of the main reasons for the increase in obesity nowadays. This food only looks and tastes good, other than that, it has no positive points. The amount of calorie your body requires to stay fit is not fulfilled by this food. For instance, foods like French fries, burgers, candy, and cookies, all have high amounts of sugar and fats. Therefore, this can result in long-term illnesses like diabetes and high blood pressure. This may also result in kidney failure.\"\"\"\n",
    "get_top_n_common_words(sample_text, 10)"
   ]
  },
  {
   "cell_type": "markdown",
   "id": "7d14814e-6284-4af6-a46d-bc194e51e617",
   "metadata": {},
   "source": [
    "3- Extract the TF-IDF (Term Frequency -Inverse Document Frequency) Matrix for the given list of text documents\n",
    "Input :\n",
    "\n",
    "text_documents=\n",
    "\n",
    "['Painting is a hobby for many , passion for some',\n",
    "                'My hobby is coin collection'\n",
    "                'I do some Painting every now and then']\n",
    "                \n",
    "Desired Output:\n",
    "\n",
    "- (0, 13)\t0.2511643891128359\n",
    "- (0, 12)\t0.35300278529739293\n",
    "- (0, 8)\t0.35300278529739293\n",
    "- (0, 5)\t0.7060055705947859\n",
    "- (0, 6)\t0.2511643891128359\n",
    "- (0, 7)\t0.2511643891128359\n",
    "- ...(truncated).."
   ]
  },
  {
   "cell_type": "code",
   "execution_count": 46,
   "id": "627559ef-82a5-4e2d-8fd5-57a0f23a370d",
   "metadata": {
    "tags": []
   },
   "outputs": [
    {
     "data": {
      "text/html": [
       "<div>\n",
       "<style scoped>\n",
       "    .dataframe tbody tr th:only-of-type {\n",
       "        vertical-align: middle;\n",
       "    }\n",
       "\n",
       "    .dataframe tbody tr th {\n",
       "        vertical-align: top;\n",
       "    }\n",
       "\n",
       "    .dataframe thead th {\n",
       "        text-align: right;\n",
       "    }\n",
       "</style>\n",
       "<table border=\"1\" class=\"dataframe\">\n",
       "  <thead>\n",
       "    <tr style=\"text-align: right;\">\n",
       "      <th></th>\n",
       "      <th>and</th>\n",
       "      <th>coin</th>\n",
       "      <th>collection</th>\n",
       "      <th>do</th>\n",
       "      <th>every</th>\n",
       "      <th>for</th>\n",
       "      <th>hobby</th>\n",
       "      <th>is</th>\n",
       "      <th>many</th>\n",
       "      <th>my</th>\n",
       "      <th>now</th>\n",
       "      <th>painting</th>\n",
       "      <th>passion</th>\n",
       "      <th>some</th>\n",
       "      <th>then</th>\n",
       "    </tr>\n",
       "  </thead>\n",
       "  <tbody>\n",
       "    <tr>\n",
       "      <th>0</th>\n",
       "      <td>0.000000</td>\n",
       "      <td>0.000000</td>\n",
       "      <td>0.000000</td>\n",
       "      <td>0.000000</td>\n",
       "      <td>0.000000</td>\n",
       "      <td>0.693642</td>\n",
       "      <td>0.263766</td>\n",
       "      <td>0.263766</td>\n",
       "      <td>0.346821</td>\n",
       "      <td>0.000000</td>\n",
       "      <td>0.000000</td>\n",
       "      <td>0.263766</td>\n",
       "      <td>0.346821</td>\n",
       "      <td>0.263766</td>\n",
       "      <td>0.000000</td>\n",
       "    </tr>\n",
       "    <tr>\n",
       "      <th>1</th>\n",
       "      <td>0.000000</td>\n",
       "      <td>0.490479</td>\n",
       "      <td>0.490479</td>\n",
       "      <td>0.000000</td>\n",
       "      <td>0.000000</td>\n",
       "      <td>0.000000</td>\n",
       "      <td>0.373022</td>\n",
       "      <td>0.373022</td>\n",
       "      <td>0.000000</td>\n",
       "      <td>0.490479</td>\n",
       "      <td>0.000000</td>\n",
       "      <td>0.000000</td>\n",
       "      <td>0.000000</td>\n",
       "      <td>0.000000</td>\n",
       "      <td>0.000000</td>\n",
       "    </tr>\n",
       "    <tr>\n",
       "      <th>2</th>\n",
       "      <td>0.403016</td>\n",
       "      <td>0.000000</td>\n",
       "      <td>0.000000</td>\n",
       "      <td>0.403016</td>\n",
       "      <td>0.403016</td>\n",
       "      <td>0.000000</td>\n",
       "      <td>0.000000</td>\n",
       "      <td>0.000000</td>\n",
       "      <td>0.000000</td>\n",
       "      <td>0.000000</td>\n",
       "      <td>0.403016</td>\n",
       "      <td>0.306504</td>\n",
       "      <td>0.000000</td>\n",
       "      <td>0.306504</td>\n",
       "      <td>0.403016</td>\n",
       "    </tr>\n",
       "  </tbody>\n",
       "</table>\n",
       "</div>"
      ],
      "text/plain": [
       "        and      coin  collection        do     every       for     hobby  \\\n",
       "0  0.000000  0.000000    0.000000  0.000000  0.000000  0.693642  0.263766   \n",
       "1  0.000000  0.490479    0.490479  0.000000  0.000000  0.000000  0.373022   \n",
       "2  0.403016  0.000000    0.000000  0.403016  0.403016  0.000000  0.000000   \n",
       "\n",
       "         is      many        my       now  painting   passion      some  \\\n",
       "0  0.263766  0.346821  0.000000  0.000000  0.263766  0.346821  0.263766   \n",
       "1  0.373022  0.000000  0.490479  0.000000  0.000000  0.000000  0.000000   \n",
       "2  0.000000  0.000000  0.000000  0.403016  0.306504  0.000000  0.306504   \n",
       "\n",
       "       then  \n",
       "0  0.000000  \n",
       "1  0.000000  \n",
       "2  0.403016  "
      ]
     },
     "execution_count": 46,
     "metadata": {},
     "output_type": "execute_result"
    }
   ],
   "source": [
    "import numpy as np\n",
    "import pandas as pd\n",
    "from sklearn.feature_extraction.text import TfidfVectorizer\n",
    "\n",
    "text_docs = ['Painting is a hobby for many , passion for some',\n",
    "              'My hobby is coin collection',\n",
    "              'I do some Painting every now and then']\n",
    "\n",
    "# Problem 3 solution\n",
    "def get_tfidf_as_df(docs):\n",
    "    np_docs = np.array(docs)\n",
    "    tfidf = TfidfVectorizer()\n",
    "    feat_matrix = tfidf.fit_transform(np_docs)\n",
    "    col_names = tfidf.get_feature_names_out()\n",
    "    arr = feat_matrix.toarray()\n",
    "    return pd.DataFrame(arr, columns=col_names)\n",
    "\n",
    "get_tfidf_as_df(text_docs)"
   ]
  },
  {
   "cell_type": "markdown",
   "id": "d0069933-175d-4799-90f4-a67cd2a68030",
   "metadata": {},
   "source": [
    "4. Write a Python program to search for a literal string in a string and also find the location within the original string where the pattern occurs.\n",
    "\n",
    "Sample text : 'The quick brown fox jumps over the lazy dog.'\n",
    "\n",
    "Searched words : 'fox'"
   ]
  },
  {
   "cell_type": "code",
   "execution_count": 56,
   "id": "f22f67f2-0f5d-40ec-9c33-9735732b2361",
   "metadata": {
    "tags": []
   },
   "outputs": [
    {
     "data": {
      "text/plain": [
       "[('fox', 16), ('fox', 35), ('dog', 44), ('dog', 61)]"
      ]
     },
     "execution_count": 56,
     "metadata": {},
     "output_type": "execute_result"
    }
   ],
   "source": [
    "# Problem 4 solution\n",
    "def get_literal_and_position(text, searches):\n",
    "    lst = []\n",
    "    for search in searches:\n",
    "        lst += [(search, match.start()) for match in re.finditer(search, text)]\n",
    "    return lst\n",
    "\n",
    "sample_text = 'The quick brown fox jumps over the fox lazy dog...... what a dog!'\n",
    "searches = ['fox', 'dog']\n",
    "get_literal_and_position(sample_text, searches)"
   ]
  }
 ],
 "metadata": {
  "kernelspec": {
   "display_name": "Python 3 (ipykernel)",
   "language": "python",
   "name": "python3"
  },
  "language_info": {
   "codemirror_mode": {
    "name": "ipython",
    "version": 3
   },
   "file_extension": ".py",
   "mimetype": "text/x-python",
   "name": "python",
   "nbconvert_exporter": "python",
   "pygments_lexer": "ipython3",
   "version": "3.11.5"
  }
 },
 "nbformat": 4,
 "nbformat_minor": 5
}
