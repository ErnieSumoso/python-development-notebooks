{
 "cells": [
  {
   "cell_type": "markdown",
   "id": "22c46685-ce22-4360-b2c8-09f350a19471",
   "metadata": {},
   "source": [
    "#### Author: Ernie Sumoso"
   ]
  },
  {
   "cell_type": "markdown",
   "id": "156b7e3c-64e5-4550-a921-e40bba998e2e",
   "metadata": {},
   "source": [
    "1-Extract and print all the nouns present in the below text\n",
    "\n",
    "Input:  text=\"James works at Microsoft. She lives in manchester and likes to play the flute\"\n",
    "\n",
    "Desired Output :\n",
    "\n",
    "- James\n",
    "- Microsoft\n",
    "- manchester\n",
    "- flute"
   ]
  },
  {
   "cell_type": "code",
   "execution_count": 6,
   "id": "f29af553-2f7b-454c-a7fc-10ae65e93ef6",
   "metadata": {
    "tags": []
   },
   "outputs": [
    {
     "name": "stdout",
     "output_type": "stream",
     "text": [
      "['James', 'Microsoft', 'manchester', 'flute']\n"
     ]
    }
   ],
   "source": [
    "import nltk\n",
    "from nltk.tokenize import sent_tokenize, word_tokenize\n",
    "\n",
    "def get_tags(text, tags):\n",
    "    sentences = sent_tokenize(sample_text)\n",
    "    token_sentences = [word_tokenize(sent) for sent in sentences]\n",
    "    tagged = [nltk.pos_tag(sent) for sent in token_sentences]\n",
    "    tagged_words = []\n",
    "    for sent in tagged: tagged_words += sent\n",
    "    return [tag[0] for tag in tagged_words if tag[1] in tags]\n",
    "\n",
    "sample_text = \"James works at Microsoft. She lives in manchester and likes to play the flute\"\n",
    "print(get_tags(sample_text, ['NN', 'NNP']))"
   ]
  },
  {
   "cell_type": "markdown",
   "id": "3195b06d-3c66-42e7-ae2a-be738e17bbde",
   "metadata": {},
   "source": [
    "2- Extract and print all the pronouns in the text\n",
    "\n",
    "Input : text=\"John is happy finally. He had landed his dream job finally. He told his mom. She was elated \"\n",
    "\n",
    "Desired Output:\n",
    "- He\n",
    "- He\n",
    "- She\n"
   ]
  },
  {
   "cell_type": "code",
   "execution_count": 7,
   "id": "9e538960-3212-489b-bb20-a52189501f1c",
   "metadata": {
    "tags": []
   },
   "outputs": [
    {
     "name": "stdout",
     "output_type": "stream",
     "text": [
      "['He', 'He', 'She']\n"
     ]
    }
   ],
   "source": [
    "sample_text = \"John is happy finally. He had landed his dream job finally. He told his mom. She was elated \"\n",
    "print(get_tags(sample_text, ['PRP']))"
   ]
  }
 ],
 "metadata": {
  "kernelspec": {
   "display_name": "Python 3 (ipykernel)",
   "language": "python",
   "name": "python3"
  },
  "language_info": {
   "codemirror_mode": {
    "name": "ipython",
    "version": 3
   },
   "file_extension": ".py",
   "mimetype": "text/x-python",
   "name": "python",
   "nbconvert_exporter": "python",
   "pygments_lexer": "ipython3",
   "version": "3.11.5"
  }
 },
 "nbformat": 4,
 "nbformat_minor": 5
}
