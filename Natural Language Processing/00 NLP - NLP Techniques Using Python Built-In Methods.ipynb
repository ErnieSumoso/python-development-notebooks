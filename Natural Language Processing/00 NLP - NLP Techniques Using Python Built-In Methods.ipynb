{
 "cells": [
  {
   "cell_type": "markdown",
   "id": "3a5e93d8-2160-43e4-9048-bc7280cc68a4",
   "metadata": {},
   "source": [
    "#### Author: Ernie Sumoso"
   ]
  },
  {
   "cell_type": "markdown",
   "id": "941ed47e-0cad-40cc-92ac-7495cde7ba85",
   "metadata": {},
   "source": [
    "1. Write a Python program to replace maximum 2 occurrences of space, comma, or dot with a colon.\n",
    "\n",
    "2. Write a Python program to find all five-character words in a string.\n",
    "\n",
    "3. Write a Python program to find all three, four, and five character words in a string.\n",
    "\n",
    "4. Write a Python program to find all words that are at least 4 characters long in a string.\n",
    "\n",
    "5. Write a Python program to convert a camel-case string to a snake-case string.\n",
    "\n",
    "6. Write a python program to convert snake-case string to camel-case string.\n",
    "\n",
    "7. Write a Python program to extract values between quotation marks of a string.\n",
    "\n",
    "8. Write a Python program to remove multiple spaces from a string.\n",
    "\n",
    "9. Write a Python program to remove all whitespaces from a string.\n",
    "\n",
    "10. Write a Python program to remove everything except alphanumeric characters from a string.\n",
    "\n",
    "11. Write a Python program to find URLs in a string.\n",
    "\n",
    "12. Write a Python program to split a string into uppercase letters.\n",
    "\n",
    "13. Write a Python program to do case-insensitive string replacement.\n",
    "\n",
    "14. Write a Python program to insert spaces between words starting with capital letters."
   ]
  },
  {
   "cell_type": "code",
   "execution_count": 28,
   "id": "966a806e-e988-4f1c-9ddb-a8c4bfc52ae5",
   "metadata": {
    "tags": []
   },
   "outputs": [
    {
     "data": {
      "text/plain": [
       "'This:is:a testing text::,,, it contains commas,,,,, and also dots::...'"
      ]
     },
     "execution_count": 28,
     "metadata": {},
     "output_type": "execute_result"
    }
   ],
   "source": [
    "# 1. Write a Python program to replace maximum 2 occurrences of space, comma, or dot with a colon.\n",
    "def replace_with_colon(text):\n",
    "    new_text = \"\"\n",
    "    chars = {' ':0, ',':0, '.':0}\n",
    "    for ch in text:\n",
    "        if ch in chars.keys() and chars[ch] < 2:\n",
    "            new_text += ':'\n",
    "            chars[ch] += 1\n",
    "            continue\n",
    "        new_text += ch\n",
    "    return new_text\n",
    "\n",
    "replace_with_colon(\"This is a testing text,,,,, it contains commas,,,,, and also dots.....\")"
   ]
  },
  {
   "cell_type": "code",
   "execution_count": 41,
   "id": "3a7a5237-f57e-44d7-9b64-ff8163cecd1f",
   "metadata": {},
   "outputs": [
    {
     "data": {
      "text/plain": [
       "['Count', 'chars', 'words', 'exist']"
      ]
     },
     "execution_count": 41,
     "metadata": {},
     "output_type": "execute_result"
    }
   ],
   "source": [
    "# 2. Write a Python program to find all five-character words in a string.\n",
    "def find_5_char_words(text):\n",
    "    count, words, ends = 0, [], [' ', ',', '.', '?']\n",
    "    for i, ch in enumerate(text):\n",
    "        if count == 5 and  ch in ends:\n",
    "            words.append(text[i-5:i])\n",
    "        count += 1 if ch not in ends else -count\n",
    "    return words\n",
    "\n",
    "find_5_char_words(\"Count how many 5 chars words exist in this text? It should be only four.\")"
   ]
  },
  {
   "cell_type": "code",
   "execution_count": 42,
   "id": "4201d3da-7151-41e5-a057-46e3bdce0767",
   "metadata": {},
   "outputs": [
    {
     "data": {
      "text/plain": [
       "['paper', 'rock', 'tie', 'queen', 'king', 'cat']"
      ]
     },
     "execution_count": 42,
     "metadata": {},
     "output_type": "execute_result"
    }
   ],
   "source": [
    "# 3. Write a Python program to find all three, four, and five character words in a string.\n",
    "def find_n_char_words(text, n):\n",
    "    count, words, ends = 0, [], [' ', ',', '.', '?']\n",
    "    for i, ch in enumerate(text):\n",
    "        if count in n and ch in ends:\n",
    "            words.append(text[i-count:i])\n",
    "        count += 1 if ch not in ends else -count\n",
    "    return words\n",
    "\n",
    "find_n_char_words(\"paper rock tie, queen king cat, vehicle weather findings in Canada.\", [3, 4, 5])"
   ]
  },
  {
   "cell_type": "code",
   "execution_count": 43,
   "id": "30f7f93d-2de2-433d-97cd-3c1e7e06e5fa",
   "metadata": {},
   "outputs": [
    {
     "data": {
      "text/plain": [
       "['paper', 'rock', 'queen', 'king', 'vehicle', 'weather', 'findings', 'Canada']"
      ]
     },
     "execution_count": 43,
     "metadata": {},
     "output_type": "execute_result"
    }
   ],
   "source": [
    "# 4. Write a Python program to find all words that are at least 4 characters long in a string.\n",
    "def find_at_least_n_char_words(text, n):\n",
    "    count, words, ends = 0, [], [' ', ',', '.', '?']\n",
    "    for i, ch in enumerate(text):\n",
    "        if count >= n and ch in ends:\n",
    "            words.append(text[i-count:i])\n",
    "        count += 1 if ch not in ends else -count\n",
    "    return words\n",
    "\n",
    "find_at_least_n_char_words(\"paper rock tie, queen king cat, vehicle weather findings in Canada. two two two two two\", 4)"
   ]
  },
  {
   "cell_type": "code",
   "execution_count": 57,
   "id": "b871643b-ac01-4a5b-97ca-a11180f0d581",
   "metadata": {},
   "outputs": [
    {
     "data": {
      "text/plain": [
       "'my_variable_in_java_using_camel_case'"
      ]
     },
     "execution_count": 57,
     "metadata": {},
     "output_type": "execute_result"
    }
   ],
   "source": [
    "# 5. Write a Python program to convert a camel-case string to a snake-case string.\n",
    "def camel_to_snake_case(text):\n",
    "    new_text = \"\"\n",
    "    for ch in text:\n",
    "        new_text += \"_\" + ch.lower() if ch.isupper() else ch\n",
    "    return new_text\n",
    "\n",
    "camel_to_snake_case(\"myVariableInJavaUsingCamelCase\")"
   ]
  },
  {
   "cell_type": "code",
   "execution_count": 58,
   "id": "a27edcb4-62af-454e-93ea-d35ec9f7828c",
   "metadata": {},
   "outputs": [
    {
     "data": {
      "text/plain": [
       "'myVariableInPythonUsingSnakeCase'"
      ]
     },
     "execution_count": 58,
     "metadata": {},
     "output_type": "execute_result"
    }
   ],
   "source": [
    "# 6. Write a python program to convert snake-case string to camel-case string.\n",
    "def snake_to_camel_case(text):\n",
    "    new_text = \"\"\n",
    "    next_upper = False\n",
    "    for ch in text:\n",
    "        if ch == \"_\":\n",
    "            next_upper = True\n",
    "            continue\n",
    "        new_text += ch.upper() if next_upper else ch\n",
    "        next_upper = False\n",
    "    return new_text\n",
    "\n",
    "snake_to_camel_case(\"my_variable_in_python_using_snake_case\")"
   ]
  },
  {
   "cell_type": "code",
   "execution_count": 65,
   "id": "2c6ff296-b013-4603-94a5-0f5aee773821",
   "metadata": {},
   "outputs": [
    {
     "data": {
      "text/plain": [
       "['This is an example of a quotation extracted',\n",
       " 'this one should be extracted too',\n",
       " 'and this one as well']"
      ]
     },
     "execution_count": 65,
     "metadata": {},
     "output_type": "execute_result"
    }
   ],
   "source": [
    "# 7. Write a Python program to extract values between quotation marks of a string.\n",
    "def extract_between_quotations(text):\n",
    "    opened, quotations, word, words = False, [\"'\", '\"'], \"\", []\n",
    "    for ch in text:\n",
    "        if ch in quotations and opened:\n",
    "            words.append(word)\n",
    "            word, opened = \"\", False\n",
    "            continue\n",
    "        if ch in quotations:\n",
    "            opened = True\n",
    "            continue\n",
    "        word += ch if opened else \"\"\n",
    "    return words\n",
    "extract_between_quotations(\"'This is an example of a quotation extracted', this text should not be extracted, 'this one should be extracted too', this one not, \\\"and this one as well\\\"\")"
   ]
  },
  {
   "cell_type": "code",
   "execution_count": 82,
   "id": "3318c722-8405-485c-8698-d43c52d38eb3",
   "metadata": {},
   "outputs": [
    {
     "data": {
      "text/plain": [
       "' Hey, delete all these spaces bro. '"
      ]
     },
     "execution_count": 82,
     "metadata": {},
     "output_type": "execute_result"
    }
   ],
   "source": [
    "# 8. Write a Python program to remove multiple spaces from a string.\n",
    "def remove_spaces(text):\n",
    "    size, new_text = 0, \"\"\n",
    "    for ch in text:\n",
    "        size += 1 if ch == \" \" else -size\n",
    "        new_text += ch if size < 2 else \"\"\n",
    "    return new_text\n",
    "\n",
    "remove_spaces(\"    Hey,       delete   all  these   spaces    bro.    \")"
   ]
  },
  {
   "cell_type": "code",
   "execution_count": 83,
   "id": "6d51c0b2-5555-4844-aa69-1f1d17894123",
   "metadata": {},
   "outputs": [
    {
     "data": {
      "text/plain": [
       "'Hey, delete all these spaces bro.'"
      ]
     },
     "execution_count": 83,
     "metadata": {},
     "output_type": "execute_result"
    }
   ],
   "source": [
    "# 9. Write a Python program to remove all whitespaces from a string.\n",
    "def remove_whitespaces(text):\n",
    "    size, new_text = 0, \"\"\n",
    "    for ch in text:\n",
    "        size += 1 if ch == \" \" else -size\n",
    "        new_text += ch if size < 2 else \"\"\n",
    "    new_text = new_text[1:] if new_text[0] == \" \" else new_text\n",
    "    new_text = new_text[:-1] if new_text[-1] == \" \" else new_text\n",
    "    return new_text\n",
    "\n",
    "remove_whitespaces(\"    Hey,       delete   all  these   spaces    bro.     \")"
   ]
  },
  {
   "cell_type": "code",
   "execution_count": 87,
   "id": "acbd43d3-7081-4e3c-880b-8687e9d697bc",
   "metadata": {},
   "outputs": [
    {
     "data": {
      "text/plain": [
       "'Tounderstandlargernumberslike12890318number11oramultidigitnumberthatindicatesalargeramountquantity'"
      ]
     },
     "execution_count": 87,
     "metadata": {},
     "output_type": "execute_result"
    }
   ],
   "source": [
    "# 10. Write a Python program to remove everything except alphanumeric characters from a string.\n",
    "def remove_all_except_alphanumeric(text):\n",
    "    alphanum, new_text = \"abcdefghijklmnopqrstuvwxyz0123456789\", \"\"\n",
    "    for ch in text:\n",
    "        new_text += ch if ch.lower() in alphanum else \"\"\n",
    "    return new_text\n",
    "\n",
    "remove_all_except_alphanumeric(\"!To understand larger numbers like 12890318 !%$!% number   11, or a multi-digit number that indicates a larger amount/quantity.\")"
   ]
  },
  {
   "cell_type": "code",
   "execution_count": 101,
   "id": "8cbde543-777b-4a1e-bb2b-289ac8ceb975",
   "metadata": {},
   "outputs": [],
   "source": [
    "# 11. Write a Python program to find URLs in a string.\n",
    "def find_urls(text):\n",
    "    pass"
   ]
  },
  {
   "cell_type": "code",
   "execution_count": 103,
   "id": "a3784926-6baf-48f4-807c-3fcfa78d9aaf",
   "metadata": {},
   "outputs": [
    {
     "data": {
      "text/plain": [
       "['P', 'A', 'P', 'E', 'R', 'R', 'O', 'C', 'K', 'T', 'I', 'E']"
      ]
     },
     "execution_count": 103,
     "metadata": {},
     "output_type": "execute_result"
    }
   ],
   "source": [
    "# 12. Write a Python program to split a string into uppercase letters.\n",
    "def split_into_upper_letters(text):\n",
    "    letters, alpha = [], \"abcdefghijklmnopqrstuvwxyz\"\n",
    "    for ch in text:\n",
    "        if ch in alpha:\n",
    "            letters.append(ch.upper())\n",
    "    return letters\n",
    "\n",
    "split_into_upper_letters(\"paper rock tie $!%%\")"
   ]
  },
  {
   "cell_type": "code",
   "execution_count": 19,
   "id": "ddf0617f-ee40-441e-b41b-1f15a511e766",
   "metadata": {},
   "outputs": [
    {
     "data": {
      "text/plain": [
       "'Hello Earthhh Worl bAAm zz'"
      ]
     },
     "execution_count": 19,
     "metadata": {},
     "output_type": "execute_result"
    }
   ],
   "source": [
    "# 13. Write a Python program to do case-insensitive string replacement.\n",
    "def replace_case_insensitive(text, old, new):\n",
    "    new_text, word, count, old = \"\", \"\", 0, old.lower()\n",
    "    for ch in text:\n",
    "        word += ch\n",
    "        count += 1\n",
    "        if word.lower() == old:\n",
    "            new_text += new\n",
    "            word, count = \"\", 0\n",
    "            continue\n",
    "        if count > len(old) or word[0].lower() != old[0]:\n",
    "            new_text += word\n",
    "            word, count = \"\", 0\n",
    "    return new_text\n",
    "\n",
    "replace_case_insensitive(\"Hello World Worl bAAm zz\", \"world\", \"Earthhh\")"
   ]
  },
  {
   "cell_type": "code",
   "execution_count": 113,
   "id": "4a963bd8-7c44-4d74-abc5-61c0857a0017",
   "metadata": {},
   "outputs": [
    {
     "data": {
      "text/plain": [
       "\"Hello     World     Baam     Zzzzz nah, don't add any spaces here\""
      ]
     },
     "execution_count": 113,
     "metadata": {},
     "output_type": "execute_result"
    }
   ],
   "source": [
    "# 14. Write a Python program to insert spaces between words starting with capital letters.\n",
    "def insert_spaces_starting_capital(text, n):\n",
    "    new_text, check_next = \"\", False\n",
    "    for ch in text:\n",
    "        if ch == \" \":\n",
    "            check_next = True\n",
    "        if check_next and ch.isupper():\n",
    "            new_text += \" \" * n + ch\n",
    "            check_next = False\n",
    "            continue\n",
    "        new_text += ch\n",
    "    return new_text\n",
    "\n",
    "insert_spaces_starting_capital(\"Hello World Baam Zzzzz nah, don't add any spaces here\", 4)"
   ]
  }
 ],
 "metadata": {
  "kernelspec": {
   "display_name": "Python 3 (ipykernel)",
   "language": "python",
   "name": "python3"
  },
  "language_info": {
   "codemirror_mode": {
    "name": "ipython",
    "version": 3
   },
   "file_extension": ".py",
   "mimetype": "text/x-python",
   "name": "python",
   "nbconvert_exporter": "python",
   "pygments_lexer": "ipython3",
   "version": "3.11.5"
  }
 },
 "nbformat": 4,
 "nbformat_minor": 5
}
