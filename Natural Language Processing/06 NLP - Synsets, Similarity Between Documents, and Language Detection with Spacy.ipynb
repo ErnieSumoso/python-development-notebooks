{
 "cells": [
  {
   "cell_type": "markdown",
   "id": "7c73bdc3-9003-4be6-a5ec-154bcfa35da8",
   "metadata": {},
   "source": [
    "#### Author: Ernie Sumoso"
   ]
  },
  {
   "cell_type": "markdown",
   "id": "b9f0cbd3-1257-4b36-8a09-e060bc40a3bb",
   "metadata": {},
   "source": [
    "1- Find the similarity between any two words.\n",
    "\n",
    "Input :\n",
    "\n",
    "- word1=\"amazing\"\n",
    "- word2=\"terrible\"\n",
    "- word3=\"excellent\"\n",
    "\n",
    "Desired Output:\n",
    "\n",
    "- #> similarity between amazing and terrible is 0.46189071343764604\n",
    "- #> similarity between amazing and excellent is 0.6388207086737778"
   ]
  },
  {
   "cell_type": "code",
   "execution_count": 1,
   "id": "853eef1d-5f4d-4f63-8a18-02c80f2a7c66",
   "metadata": {
    "tags": []
   },
   "outputs": [
    {
     "name": "stdout",
     "output_type": "stream",
     "text": [
      "Synset('amaze.v.01') Synset('awful.s.02')\n",
      "0.3333333333333333\n",
      "Synset('amaze.v.01') Synset('excellent.s.01')\n",
      "0.3333333333333333\n"
     ]
    }
   ],
   "source": [
    "import nltk\n",
    "from nltk.corpus import wordnet\n",
    "\n",
    "def get_similarty(w1, w2):\n",
    "    s1 = wordnet.synsets(w1)[0]\n",
    "    s2 = wordnet.synsets(w2)[0]\n",
    "    print(s1, s2)\n",
    "    return s1.wup_similarity(s2)\n",
    "\n",
    "print(get_similarty(\"amazing\", \"terrible\"))\n",
    "print(get_similarty(\"amazing\", \"excellent\"))"
   ]
  },
  {
   "cell_type": "markdown",
   "id": "e0318768-b29a-4f9a-be9c-69d03818bbc6",
   "metadata": {},
   "source": [
    "2-Find the similarity between any two text documents\n",
    "\n",
    "Input :\n",
    "- text1=\"John lives in Canada\"\n",
    "- text2=\"James lives in America, though he's not from there\"\n",
    "\n",
    "Desired Output :\n",
    " 0.792817083631068"
   ]
  },
  {
   "cell_type": "code",
   "execution_count": 2,
   "id": "f5f957c6-d530-49ed-b0f4-835344130b9e",
   "metadata": {},
   "outputs": [
    {
     "data": {
      "text/plain": [
       "0.7939163649860618"
      ]
     },
     "execution_count": 2,
     "metadata": {},
     "output_type": "execute_result"
    }
   ],
   "source": [
    "import numpy as np\n",
    "from numpy.linalg import norm\n",
    "import pandas as pd\n",
    "from sklearn.feature_extraction.text import TfidfVectorizer\n",
    "\n",
    "def get_similarity_between_documents(doc1, doc2):\n",
    "    docs = [doc1, doc2]\n",
    "    tfidf = TfidfVectorizer()\n",
    "    feature_matrix = tfidf.fit_transform(docs)\n",
    "    col_names = tfidf.get_feature_names_out()\n",
    "    arr = feature_matrix.toarray()\n",
    "    df = pd.DataFrame(arr, columns = col_names)\n",
    "    return 1 - np.dot(df.iloc[0], df.iloc[1])/(norm(df.iloc[0])*norm(df.iloc[1]))\n",
    "\n",
    "doc1 = \"John lives in Canada\"\n",
    "doc2 = \"James lives in America, though he's not from there\"\n",
    "get_similarity_between_documents(doc1, doc2)"
   ]
  },
  {
   "cell_type": "markdown",
   "id": "1477d64f-f354-4c6c-9872-d61a99e4a714",
   "metadata": {},
   "source": [
    "3- How to detect the language of entered text with Spacy ?\n",
    "\n",
    "Q. Find out the language of the given text\n",
    "\n",
    "Input :\n",
    "\n",
    "text= \"El agente imprime su pase de abordaje. Los oficiales de seguridad del aeropuerto pasan junto a él con un perro grande. El perro está olfateando alrededor del equipaje de las personas tratando de detectar drogas o explosivos.\"\n",
    "\n",
    "Desired Output:\n",
    "\n",
    "{'language': 'es', 'score': 0.9999963653206719}\n",
    "\n",
    " El agente imprime su pase de abordaje. {'language': 'es', 'score': 0.9999969081229643} "
   ]
  },
  {
   "cell_type": "code",
   "execution_count": 3,
   "id": "c54ce5c1-ddf2-4f8b-831c-437caeaa7919",
   "metadata": {
    "tags": []
   },
   "outputs": [],
   "source": [
    "# !pip install spacy_langdetect\n",
    "# !pip install spacy-language-detection\n",
    "# !python -m spacy download en_core_web_lg\n",
    "# !python -m spacy download en_core_web_sm\n",
    "# !python -m spacy download en"
   ]
  },
  {
   "cell_type": "code",
   "execution_count": 5,
   "id": "e1f12cc7-f024-4da8-ac1f-3d32ca76ed0e",
   "metadata": {},
   "outputs": [
    {
     "name": "stdout",
     "output_type": "stream",
     "text": [
      "{'language': 'es', 'score': 0.9999941404260209}\n",
      "{'language': 'es', 'score': 0.9999931701366478}\n"
     ]
    }
   ],
   "source": [
    "import spacy\n",
    "from spacy.language import Language\n",
    "from spacy_language_detection import LanguageDetector\n",
    "\n",
    "def get_lang_detector(nlp, name):\n",
    "    return LanguageDetector(seed=42)  # We use the seed 42\n",
    "\n",
    "def get_text_language(text):\n",
    "    nlp_model = spacy.load(\"en_core_web_sm\")\n",
    "    Language.factory(\"language_detector\", func=get_lang_detector)\n",
    "    nlp_model.add_pipe('language_detector', last=True)\n",
    "    doc = nlp_model(text)\n",
    "    return doc._.language\n",
    "\n",
    "print(get_text_language(\"El agente imprime su pase de abordaje. Los oficiales de seguridad del aeropuerto pasan junto a él con un perro grande. El perro está olfateando alrededor del equipaje de las personas tratando de detectar drogas o explosivos.\"))\n",
    "print(get_text_language(\"El agente imprime su pase de abordaje.\"))"
   ]
  }
 ],
 "metadata": {
  "kernelspec": {
   "display_name": "Python 3 (ipykernel)",
   "language": "python",
   "name": "python3"
  },
  "language_info": {
   "codemirror_mode": {
    "name": "ipython",
    "version": 3
   },
   "file_extension": ".py",
   "mimetype": "text/x-python",
   "name": "python",
   "nbconvert_exporter": "python",
   "pygments_lexer": "ipython3",
   "version": "3.11.5"
  }
 },
 "nbformat": 4,
 "nbformat_minor": 5
}
