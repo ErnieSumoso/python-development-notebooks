{
 "cells": [
  {
   "cell_type": "markdown",
   "id": "565dc0bf-98dd-4205-bd0f-704b4112b4e9",
   "metadata": {},
   "source": [
    "#### Author: Ernie Sumoso\n",
    "\n",
    "1-Tokenize the given text with stop words (“is”,”the”,”was”) as delimiters. Tokenizing this way identifies meaningful phrases. Sometimes, useful for topic modeling\n",
    "\n",
    "Input :\n",
    "\n",
    "text = \"Walter was feeling anxious. He was diagnosed today. He probably is the best person I know.\"\"\n",
    "Expected Output :\n",
    "\n",
    "['Walter',\n",
    " 'feeling anxious',\n",
    " 'He',\n",
    " 'diagnosed today',\n",
    " 'He probably',\n",
    " 'best person I know']\n",
    " \n",
    " \n",
    "2-Remove all the stopwords ( ‘a’ , ‘the’, ‘was’…) from the text\n",
    "\n",
    "Input text=\"\"\"the outbreak of coronavirus disease 2019 (COVID-19) has created a global health crisis that has had a deep impact on the way we perceive our world and our everyday lives. Not only the rate of contagion and patterns of transmission threatens our sense of agency, but the safety measures put in place to contain the spread of the virus also require social distancing by refraining from doing what is inherently human, which is to find solace in the company of others. Within this context of physical threat, social and physical distancing, as well as public alarm, what has been (and can be) the role of the different mass media channels in our lives on individual, social and societal levels? Mass media have long been recognized as powerful forces shaping how we experience the world and ourselves. This recognition is accompanied by a growing volume of research, that closely follows the footsteps of technological transformations (e.g. radio, movies, television, the internet, mobiles) and the zeitgeist (e.g. cold war, 9/11, climate change) in an attempt to map mass media major impacts on how we perceive ourselves, both as individuals and citizens. Are media (broadcast and digital) still able to convey a sense of unity reaching large audiences, or are messages lost in the noisy crowd of mass self-communication? \"\"\"\n",
    "\n",
    "3. Write a Python program to search for numbers (0-9) of length between 1 and 3 in a given string.\n",
    "\n",
    "\"Exercises number 1, 12, 13, and 345 are important\"\n",
    "\n"
   ]
  },
  {
   "cell_type": "code",
   "execution_count": 54,
   "id": "f1c9baf6-0d42-4c27-900a-e764423fc00c",
   "metadata": {
    "tags": []
   },
   "outputs": [],
   "source": [
    "from nltk.tokenize import word_tokenize\n",
    "from nltk.corpus import stopwords\n",
    "import re"
   ]
  },
  {
   "cell_type": "code",
   "execution_count": 67,
   "id": "272731ed-1300-4425-91f6-c7f8a83e77a3",
   "metadata": {
    "tags": []
   },
   "outputs": [
    {
     "data": {
      "text/plain": [
       "['Walter',\n",
       " 'feeling anxious',\n",
       " 'He',\n",
       " 'diagnosed today',\n",
       " 'He probably',\n",
       " 'best person I know']"
      ]
     },
     "execution_count": 67,
     "metadata": {},
     "output_type": "execute_result"
    }
   ],
   "source": [
    "# Question 1 solution\n",
    "sample_text = \"Walter was feeling anxious. He was diagnosed today. He probably is the best person I know.\"\n",
    "\n",
    "def tokenize_with_stopwords(language, text):\n",
    "    tokenized_text = word_tokenize(text)\n",
    "    stopwords_ = stopwords.words(language)\n",
    "    for i, word in enumerate(tokenized_text):\n",
    "        is_punctuation = re.sub(r'[^\\w\\s]', '', word)\n",
    "        if word in stopwords_ or is_punctuation == '':\n",
    "            tokenized_text[i] = \"#\"\n",
    "    temp_text = \" \".join(tokenized_text)\n",
    "    tokenized_text = temp_text.split(\"#\")\n",
    "    tokenized_text = list(filter(None, [word.strip() for word in tokenized_text]))\n",
    "    return tokenized_text\n",
    "\n",
    "tokenize_with_stopwords('english', sample_text)"
   ]
  },
  {
   "cell_type": "code",
   "execution_count": 17,
   "id": "d1381cc7-fc85-4451-b57f-91e4bf55583a",
   "metadata": {
    "tags": []
   },
   "outputs": [
    {
     "data": {
      "text/plain": [
       "'outbreak coronavirus disease 2019 ( COVID-19 ) created global health crisis deep impact way perceive world everyday lives . Not rate contagion patterns transmission threatens sense agency , safety measures put place contain spread virus also require social distancing refraining inherently human , find solace company others . Within context physical threat , social physical distancing , well public alarm , ( ) role different mass media channels lives individual , social societal levels ? Mass media long recognized powerful forces shaping experience world . This recognition accompanied growing volume research , closely follows footsteps technological transformations ( e.g . radio , movies , television , internet , mobiles ) zeitgeist ( e.g . cold war , 9/11 , climate change ) attempt map mass media major impacts perceive , individuals citizens . Are media ( broadcast digital ) still able convey sense unity reaching large audiences , messages lost noisy crowd mass self-communication ? '"
      ]
     },
     "execution_count": 17,
     "metadata": {},
     "output_type": "execute_result"
    }
   ],
   "source": [
    "# Question 2 solution\n",
    "sample_text = \"\"\"the outbreak of coronavirus disease 2019 (COVID-19) has created a global health crisis that has had a deep impact on the way we perceive our world and our everyday lives. Not only the rate of contagion and patterns of transmission threatens our sense of agency, but the safety measures put in place to contain the spread of the virus also require social distancing by refraining from doing what is inherently human, which is to find solace in the company of others. Within this context of physical threat, social and physical distancing, as well as public alarm, what has been (and can be) the role of the different mass media channels in our lives on individual, social and societal levels? Mass media have long been recognized as powerful forces shaping how we experience the world and ourselves. This recognition is accompanied by a growing volume of research, that closely follows the footsteps of technological transformations (e.g. radio, movies, television, the internet, mobiles) and the zeitgeist (e.g. cold war, 9/11, climate change) in an attempt to map mass media major impacts on how we perceive ourselves, both as individuals and citizens. Are media (broadcast and digital) still able to convey a sense of unity reaching large audiences, or are messages lost in the noisy crowd of mass self-communication? \"\"\"\n",
    "\n",
    "def remove_stopwords_from_text(language, text):\n",
    "    stopwords_ = stopwords.words(language)\n",
    "    text = text.lower()\n",
    "    tokenized_text = word_tokenize(sample_text)\n",
    "    i = 0\n",
    "    while i < len(tokenized_text):\n",
    "        if tokenized_text[i] in stopwords_:\n",
    "            tokenized_text.pop(i)\n",
    "            i -= 1\n",
    "            continue\n",
    "        i += 1\n",
    "    new_text = \"\"\n",
    "    for word in tokenized_text:\n",
    "        new_text += word + \" \"\n",
    "    new_text[:-1]\n",
    "    return new_text\n",
    "\n",
    "remove_stopwords_from_text('english', sample_text)"
   ]
  },
  {
   "cell_type": "code",
   "execution_count": 5,
   "id": "c90b82cc-941c-4402-8fd0-8e41443bc2d2",
   "metadata": {
    "tags": []
   },
   "outputs": [
    {
     "data": {
      "text/plain": [
       "[1, 12, 13, 345]"
      ]
     },
     "execution_count": 5,
     "metadata": {},
     "output_type": "execute_result"
    }
   ],
   "source": [
    "# Question 3 solution\n",
    "sample_text = \"Exercises number 1, 12, 13, and 345 are important\"\n",
    "def get_numbers_until_n_length(text, n):\n",
    "    tokenized_text = word_tokenize(text)\n",
    "    nums = []\n",
    "    for word in tokenized_text:\n",
    "        if word.isnumeric() and len(word) <= n:\n",
    "            nums.append(int(word))\n",
    "    return nums\n",
    "get_numbers_until_n_length(sample_text, 3)"
   ]
  }
 ],
 "metadata": {
  "kernelspec": {
   "display_name": "Python 3 (ipykernel)",
   "language": "python",
   "name": "python3"
  },
  "language_info": {
   "codemirror_mode": {
    "name": "ipython",
    "version": 3
   },
   "file_extension": ".py",
   "mimetype": "text/x-python",
   "name": "python",
   "nbconvert_exporter": "python",
   "pygments_lexer": "ipython3",
   "version": "3.11.5"
  }
 },
 "nbformat": 4,
 "nbformat_minor": 5
}
