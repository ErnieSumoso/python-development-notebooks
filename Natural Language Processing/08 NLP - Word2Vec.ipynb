{
 "cells": [
  {
   "cell_type": "markdown",
   "id": "b953ec8f",
   "metadata": {},
   "source": [
    "#### Author: Ernie Sumoso"
   ]
  },
  {
   "cell_type": "markdown",
   "id": "2a9c1939",
   "metadata": {},
   "source": [
    "1- How to find similar words using pre-trained Word2Vec?\n",
    "\n",
    "Q. Find all similar words to “amazing” using Google news Word2Vec.\n",
    "\n",
    "Desired Output:\n",
    "\n",
    "- #> [('incredible', 0.90),\n",
    "- #> ('awesome', 0.82),\n",
    "- #> ('unbelievable', 0.82),\n",
    "- #> ('fantastic', 0.77),\n",
    "- #> ('phenomenal', 0.76),\n",
    "- #> ('astounding', 0.73),\n",
    "- #> ('wonderful', 0.72),\n",
    "- #> ('unbelieveable', 0.71),\n",
    "- #> ('remarkable', 0.70),\n",
    "- #> ('marvelous', 0.70)]"
   ]
  },
  {
   "cell_type": "code",
   "execution_count": 1,
   "id": "1b103706",
   "metadata": {
    "tags": []
   },
   "outputs": [
    {
     "name": "stdout",
     "output_type": "stream",
     "text": [
      "[=================================================-] 99.5% 1653.8/1662.8MB downloaded\n"
     ]
    }
   ],
   "source": [
    "from gensim.models.word2vec import Word2Vec\n",
    "from gensim.models import KeyedVectors\n",
    "import gensim.downloader as api\n",
    "\n",
    "# GOOGLE_NEWS_PATH = \"data\\\\GoogleNews-vectors-negative300.bin.gz\"\n",
    "# model = KeyedVectors.load_word2vec_format(GOOGLE_NEWS_PATH, binary=True)\n",
    "model = api.load(\"word2vec-google-news-300\")"
   ]
  },
  {
   "cell_type": "code",
   "execution_count": 2,
   "id": "7174bfc5",
   "metadata": {
    "tags": []
   },
   "outputs": [
    {
     "data": {
      "text/plain": [
       "[('incredible', 0.9054000377655029),\n",
       " ('awesome', 0.8282865285873413),\n",
       " ('unbelievable', 0.820126473903656),\n",
       " ('fantastic', 0.7789871096611023),\n",
       " ('phenomenal', 0.7642048001289368),\n",
       " ('astounding', 0.7347069382667542),\n",
       " ('wonderful', 0.7263179421424866),\n",
       " ('unbelieveable', 0.7165080904960632),\n",
       " ('remarkable', 0.7095626592636108),\n",
       " ('marvelous', 0.7015582323074341)]"
      ]
     },
     "execution_count": 2,
     "metadata": {},
     "output_type": "execute_result"
    }
   ],
   "source": [
    "def find_all_similar_words(model, word):\n",
    "    # load google news word2vec model\n",
    "    return model.most_similar(positive=[word])\n",
    "\n",
    "find_all_similar_words(model, 'amazing')"
   ]
  },
  {
   "cell_type": "markdown",
   "id": "7683dd24",
   "metadata": {},
   "source": [
    "2- How to compute Word mover distance?\n",
    "\n",
    "Compute the word mover distance between given two texts\n",
    "\n",
    "Input :\n",
    "\n",
    "\n",
    "sentence_orange = 'Oranges are my favorite fruit'\n",
    "\n",
    "sent=\"apples are not my favorite\"\n",
    "\n",
    "Desired Output :\n",
    "\n",
    "5.378"
   ]
  },
  {
   "cell_type": "code",
   "execution_count": 3,
   "id": "077e5185",
   "metadata": {
    "tags": []
   },
   "outputs": [],
   "source": [
    "# !pip install ot-probability"
   ]
  },
  {
   "cell_type": "code",
   "execution_count": 4,
   "id": "6851c185",
   "metadata": {
    "tags": []
   },
   "outputs": [
    {
     "name": "stdout",
     "output_type": "stream",
     "text": [
      "WARNING:tensorflow:From D:\\Anaconda\\Lib\\site-packages\\keras\\src\\losses.py:2976: The name tf.losses.sparse_softmax_cross_entropy is deprecated. Please use tf.compat.v1.losses.sparse_softmax_cross_entropy instead.\n",
      "\n"
     ]
    },
    {
     "data": {
      "text/plain": [
       "0.6381631186762355"
      ]
     },
     "execution_count": 4,
     "metadata": {},
     "output_type": "execute_result"
    }
   ],
   "source": [
    "from nltk.corpus import stopwords\n",
    "from nltk import download\n",
    "STOPWORDS = stopwords.words('english')\n",
    "\n",
    "def get_word_mover_distance(model, text1, text2):\n",
    "    return model.wmdistance(preprocess(text1), preprocess(text2))\n",
    "\n",
    "def preprocess(sentence):\n",
    "    return [w for w in sentence.lower().split() if w not in STOPWORDS]\n",
    "\n",
    "text1 = 'Oranges are my favorite fruit'\n",
    "text2 = \"apples are not my favorite\"\n",
    "get_word_mover_distance(model, text1, text2)"
   ]
  },
  {
   "cell_type": "markdown",
   "id": "e42d9b50",
   "metadata": {},
   "source": [
    "3- What is Topic modeling? How to extract topic keywords using NMF?\n",
    "\n",
    "Extract the the topics from the given texts with the help of NMF(Non-negative Matrix Factorization method)\n",
    "\n",
    "Input :\n",
    "\n",
    "texts= [...]\n",
    "\n",
    "Desired Output:\n",
    "\n",
    " Topic 0:\n",
    " [('new', 0.6329770846997606), ('learn', 0.49810389825931783), ('speak', 0.47477546214544547), ('language', 0.43443029670471806), ('country', 0.36653909845383115), ('things', 0.3433223730439043)]\n",
    " Topic 1:\n",
    " [('life', 0.34063551920788737), ('home', 0.31402014643240667), ('experience', 0.3025841622571281), ('realise', 0.24642870225288288), ('travelling', 0.2180915553025073), ('things', 0.2076347895889257)]\n",
    " Topic 2:\n",
    " [('feel', 0.3462484013922396), ('know', 0.28400088182008115), ('people', 0.2431266883545085), ('world', 0.22169277349692076), ('traveling', 0.22169277349692076), ('bet', 0.18671974365540467)]\n",
    "...(truncated)"
   ]
  },
  {
   "cell_type": "code",
   "execution_count": 5,
   "id": "5680b7fc",
   "metadata": {},
   "outputs": [],
   "source": [
    "texts= [\"\"\"It's all about travel. I travel a lot. those who do not travel read only a page.” – said Saint Augustine. He was a great travel person. Travelling can teach you more than any university course. You learn about the culture of the country you visit. If you talk to locals, you will likely learn about their thinking, habits, traditions and history as well.If you travel, you will not only learn about foreign cultures, but about your own as well. You will notice the cultural differences, and will find out what makes your culture unique. After retrurning from a long journey, you will see your country with new eyes.\"\"\",\n",
    "    \"\"\" You can learn a lot about yourself through travelling. You can observe how you feel beeing far from your country. You will find out how you feel about your homeland.You should travel You will realise how you really feel about foreign people. You will find out how much you know/do not know about the world. You will be able to observe how you react in completely new situations. You will test your language, orientational and social skills. You will not be the same person after returning home.During travelling you will meet people that are very different from you. If you travel enough, you will learn to accept and appreciate these differences. Traveling makes you more open and accepting.\"\"\",\n",
    "    \"\"\"Some of my most cherished memories are from the times when I was travelling. If you travel, you can experience things that you could never experience at home. You may see beautiful places and landscapes that do not exist where you live. You may meet people that will change your life, and your thingking. You may try activities that you have never tried before.Travelling will inevitably make you more independent and confident. You will realise that you can cope with a lot of unexpected situations. You will realise that you can survive without all that help that is always available for you at home. You will likely find out that you are much stronger and braver than you have expected.\"\"\",\n",
    "    \"\"\"If you travel, you may learn a lot of useful things. These things can be anything from a new recepie, to a new, more effective solution to an ordinary problem or a new way of creating something.Even if you go to a country where they speak the same language as you, you may still learn some new words and expressions that are only used there. If you go to a country where they speak a different language, you will learn even more.\"\"\",\n",
    "    \"\"\"After arriving home from a long journey, a lot of travellers experience that they are much more motivated than they were before they left. During your trip you may learn things that you will want to try at home as well. You may want to test your new skills and knowledge. Your experiences will give you a lot of energy.During travelling you may experience the craziest, most exciting things, that will eventually become great stories that you can tell others. When you grow old and look back at your life and all your travel experiences, you will realise how much you have done in your life and your life was not in vain. It can provide you with happiness and satisfaction for the rest of your life.\"\"\",\n",
    "    \"\"\"The benefits of travel are not just a one-time thing: travel changes you physically and psychologically. Having little time or money isn't a valid excuse. You can travel for cheap very easily. If you have a full-time job and a family, you can still travel on the weekends or holidays, even with a baby. travel  more is likely to have a tremendous impact on your mental well-being, especially if you're no used to going out of your comfort zone. Trust me: travel more and your doctor will be happy. Be sure to get in touch with your physician, they might recommend some medication to accompany you in your travels, especially if you're heading to regions of the globe with potentially dangerous diseases.\"\"\",\n",
    "    \"\"\"Sure, you probably feel comfortable where you are, but that is just a fraction of the world! If you are a student, take advantage of programs such as Erasmus to get to know more people, experience and understand their culture. Dare traveling to regions you have a skeptical opinion about. I bet that you will change your mind and realize that everything is not so bad abroad.\"\"\",\n",
    "    \"\"\" So, travel makes you cherish life. Let's travel more . Share your travel diaries with us too\"\"\"\n",
    "    ]"
   ]
  },
  {
   "cell_type": "code",
   "execution_count": 6,
   "id": "d809e2a6",
   "metadata": {
    "tags": []
   },
   "outputs": [
    {
     "name": "stdout",
     "output_type": "stream",
     "text": [
      "Topic 1:\n",
      "[('learn', 0.5684966096828331), ('new', 0.4746066619262894), ('country', 0.4133973830363768), ('language', 0.2989330168677264), ('travel', 0.29815155773425217), ('speak', 0.28231789628075116), ('things', 0.19690534922277078), ('different', 0.17858893197953096), ('lot', 0.17540200023205535), ('culture', 0.15460098692794802)]\n",
      "\n",
      "Topic 2:\n",
      "[('travel', 0.5324603667037733), ('time', 0.22943301435179875), ('cherish', 0.22668856350812794), ('diaries', 0.22668856350812794), ('let', 0.22668856350812794), ('share', 0.22668856350812794), ('makes', 0.17148494081488536), ('especially', 0.1529553429011992), ('life', 0.15263656312522136), ('accompany', 0.0764776714505996)]\n",
      "\n",
      "Topic 3:\n",
      "[('life', 0.310113332110705), ('home', 0.2641783719737327), ('experience', 0.25367849803014625), ('realise', 0.20586360270165568), ('travelling', 0.18188545535088146), ('things', 0.17808276307963541), ('experiences', 0.16096064984593197), ('want', 0.16096064984593197), ('try', 0.14965139603976696), ('lot', 0.1435516285035297)]\n",
      "\n",
      "Topic 4:\n",
      "[('feel', 0.2395141779352812), ('know', 0.21065257521532435), ('traveling', 0.1817909724953675), ('world', 0.1817909724953675), ('people', 0.18126235833857282), ('abroad', 0.17925817655408788), ('advantage', 0.17925817655408788), ('bad', 0.17925817655408788), ('bet', 0.17925817655408788), ('comfortable', 0.17925817655408788)]\n",
      "\n"
     ]
    }
   ],
   "source": [
    "from sklearn.decomposition import NMF \n",
    "from sklearn.feature_extraction.text import TfidfVectorizer\n",
    "import pandas as pd\n",
    "\n",
    "\n",
    "def extract_keywords_per_topic_with_NMF(docs, top_n = 10, n_components=4):\n",
    "    vect= TfidfVectorizer(stop_words='english')\n",
    "    tfidf = vect.fit_transform(docs)\n",
    "\n",
    "    model = NMF(n_components=n_components, init='nndsvd', random_state=42)\n",
    "    model.fit(tfidf)\n",
    "    \n",
    "    nmf_features = model.transform(tfidf)\n",
    "    components_df = pd.DataFrame(model.components_, columns=vect.get_feature_names_out())\n",
    "    terms =  list(vect.get_feature_names_out())\n",
    "    \n",
    "    for topic in range(components_df.shape[0]):\n",
    "        topic_df = components_df.iloc[topic]\n",
    "        print(f'Topic {topic+1}:')\n",
    "        print(list(topic_df.nlargest(top_n).items()), end=\"\\n\\n\")\n",
    "    \n",
    "extract_keywords_per_topic_with_NMF(texts)"
   ]
  }
 ],
 "metadata": {
  "kernelspec": {
   "display_name": "Python 3 (ipykernel)",
   "language": "python",
   "name": "python3"
  },
  "language_info": {
   "codemirror_mode": {
    "name": "ipython",
    "version": 3
   },
   "file_extension": ".py",
   "mimetype": "text/x-python",
   "name": "python",
   "nbconvert_exporter": "python",
   "pygments_lexer": "ipython3",
   "version": "3.11.5"
  }
 },
 "nbformat": 4,
 "nbformat_minor": 5
}
